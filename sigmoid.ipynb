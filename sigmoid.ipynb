{
  "nbformat": 4,
  "nbformat_minor": 0,
  "metadata": {
    "colab": {
      "name": "sigmoid.ipynb",
      "provenance": [],
      "collapsed_sections": [],
      "authorship_tag": "ABX9TyM3ZV3U4AFSNDNv6xDHhtPj",
      "include_colab_link": true
    },
    "kernelspec": {
      "display_name": "Python 3",
      "name": "python3"
    },
    "accelerator": "GPU"
  },
  "cells": [
    {
      "cell_type": "markdown",
      "metadata": {
        "id": "view-in-github",
        "colab_type": "text"
      },
      "source": [
        "<a href=\"https://colab.research.google.com/github/hihohub/umbrella-networks/blob/main/sigmoid.ipynb\" target=\"_parent\"><img src=\"https://colab.research.google.com/assets/colab-badge.svg\" alt=\"Open In Colab\"/></a>"
      ]
    },
    {
      "cell_type": "markdown",
      "metadata": {
        "id": "c_XIVILg3qDA"
      },
      "source": [
        "- Umbrella networks\n",
        "- copyright 2021 by James Smith\n",
        "- contact - derekjsmit@gmail.com"
      ]
    },
    {
      "cell_type": "markdown",
      "source": [
        "Demonstration instructions\n",
        "- How to organize a sigmoid umbrella network, which is an ensemble of binary sigmoid predictors.\n",
        "- Organize your image files into folders by category. For an ensemble of single-taskers, traditionally, only one level of folders is used. However, multiple levels are also possible, where an ensemble of single-taskers is formed for each level. For example, (book covers) -> (scifi), (fantasy), (mystery) would traditionally be (scifi book covers), (fantasy book covers), (mystery book covers).\n",
        "- First, run the large cell containing the umbrella code, then scroll down 1333 lines to the experiment.\n",
        "- Change the folder name in the demonstration code to your folder path.\n",
        "- The rest of the code should work as written.\n",
        "- Set 'levels' to anywhere from 1 to the number of layers in your folder structure. If levels=1, images from lower level folders are compressed into the outer level folders. If levels > 1, umbrella networks are formed recursively, one for each outer folder and each subfolder within the outer folders, up to the specified number of levels. The inner folders do not each require the same number of levels, but must have at least as many levels as the value specified for 'levels'."
      ],
      "metadata": {
        "id": "VMGFoeIp45yV"
      }
    },
    {
      "cell_type": "markdown",
      "metadata": {
        "id": "9de5nqYI6ZPu"
      },
      "source": [
        "Umbrella network instructions<br/>\n",
        "- The umbrella code was designed for reading a local folder and automatically constructing the hierarchical network from the implicit hierarchy in the subfolders.\n",
        "- If have images in folders, initialize with images_folder = path. Umbrella network constructs tree by itself. Refer to examples.\n",
        "- However, it also has functions for reading the data from an online repository and building the tree node by node (since the data has no folder structure).\n",
        "- If loading data from repository, initialize with images_folder = None, then use repo functions. Must first preprocess the data (normalize, reshape). Only process x data, not labels. Umbrella network constructs labels by itself. However, subdivide classes by label, then manually construct tree with repo functions. Finally, init_from_repo(). Refer to examples.\n",
        "- In repo mode, umbrella network throws away labels and makes its own. For example, if divide MNIST into odd and even numbers, each subset will have labels 0-4. Hence, anything other than flat topology requires that the umbrella network form new labels.\n",
        "\n",
        "\n",
        "\n",
        "\n"
      ]
    },
    {
      "cell_type": "code",
      "metadata": {
        "colab": {
          "base_uri": "https://localhost:8080/"
        },
        "id": "rDvh7kWFVup9",
        "outputId": "549a2c59-f402-4782-9e30-554cd438f776"
      },
      "source": [
        "from google.colab import drive\n",
        "drive.mount('/content/drive')\n"
      ],
      "execution_count": 1,
      "outputs": [
        {
          "output_type": "stream",
          "name": "stdout",
          "text": [
            "Mounted at /content/drive\n"
          ]
        }
      ]
    },
    {
      "cell_type": "markdown",
      "metadata": {
        "id": "vB6R2fVSYvyx"
      },
      "source": [
        "%%%%%%%%%%%%%%%%%%<br/>\n",
        "UMBRELLA NETWORK<br/>\n",
        "%%%%%%%%%%%%%%%%%%<br/>"
      ]
    },
    {
      "cell_type": "code",
      "source": [
        "! wget https://raw.githubusercontent.com/hihohub/umbrella-networks/main/umbrella.py"
      ],
      "metadata": {
        "colab": {
          "base_uri": "https://localhost:8080/"
        },
        "id": "hGDve97aaf5o",
        "outputId": "97223ea5-d105-4b1a-dc4f-8f4239ecf720"
      },
      "execution_count": 2,
      "outputs": [
        {
          "output_type": "stream",
          "name": "stdout",
          "text": [
            "--2022-04-15 04:46:30--  https://raw.githubusercontent.com/hihohub/umbrella-networks/main/umbrella.py\n",
            "Resolving raw.githubusercontent.com (raw.githubusercontent.com)... 185.199.108.133, 185.199.109.133, 185.199.110.133, ...\n",
            "Connecting to raw.githubusercontent.com (raw.githubusercontent.com)|185.199.108.133|:443... connected.\n",
            "HTTP request sent, awaiting response... 200 OK\n",
            "Length: 48219 (47K) [text/plain]\n",
            "Saving to: ‘umbrella.py’\n",
            "\n",
            "umbrella.py         100%[===================>]  47.09K  --.-KB/s    in 0.01s   \n",
            "\n",
            "2022-04-15 04:46:30 (4.72 MB/s) - ‘umbrella.py’ saved [48219/48219]\n",
            "\n"
          ]
        }
      ]
    },
    {
      "cell_type": "code",
      "source": [
        "import umbrella\n",
        "from umbrella import Umbrella_Network,Umbrella_Label,Umbrella_Node,Joint_Probability_Network"
      ],
      "metadata": {
        "id": "PCkYzF4gbKqP"
      },
      "execution_count": 3,
      "outputs": []
    },
    {
      "cell_type": "code",
      "source": [
        "import os\n",
        "import sys\n",
        "import numpy as np\n",
        "import math\n",
        "import random\n",
        "from PIL import Image, ImageOps, ImageChops\n",
        "import cv2\n",
        "import tensorflow as tf\n",
        "from tensorflow.keras.preprocessing import image\n",
        "from tensorflow.keras.models import Sequential, Model, load_model\n",
        "from tensorflow.keras.layers import Input, Conv2D, MaxPool2D, Flatten, Dense, add, BatchNormalization, Dropout, AveragePooling2D, GlobalAveragePooling2D, SeparableConv2D\n",
        "from tensorflow.keras.utils import to_categorical\n",
        "from tensorflow.python.framework.ops import disable_eager_execution\n",
        "from tensorflow.keras import backend as backend\n",
        "from keras.callbacks import ReduceLROnPlateau\n",
        "from sklearn.utils import shuffle\n",
        "import matplotlib.pyplot as plt\n",
        "import pickle\n",
        "import copy\n",
        "import time"
      ],
      "metadata": {
        "id": "NKZG7Q4MbvQd"
      },
      "execution_count": 4,
      "outputs": []
    },
    {
      "cell_type": "markdown",
      "source": [
        "SIGMOID ON SMALL MULTI-LAYER STRUCTURE COMPRESSED INTO TOP LEVEL FOLDERS\n",
        "- the root folder contains 3 inner folders, each of which contains several inner folders\n",
        "- layers is set to just 1, so the program makes just 3 sigmoid models, compressing their inner folders into 1 logical folder\n",
        "- each model trains on its own class with an equal number of random samples from the other classes\n",
        "- each model outputs 1 sigmoid probability for its own class"
      ],
      "metadata": {
        "id": "Crv3EjsfXWW5"
      }
    },
    {
      "cell_type": "code",
      "metadata": {
        "id": "5pDX_vxhUt2y"
      },
      "source": [
        "# the small_hierarchy folder has a just 3 outer folders, each with some inner folders\n",
        "network_type = 'sigmoid'\n",
        "images_folder = \"/content/drive/My Drive/5390/project/small_hierarchy\"\n",
        "serial_file = \"/content/drive/My Drive/Colab Notebooks/small_hierarchy.dat\"\n",
        "models_folder = \"/content/drive/My Drive/Colab Notebooks/models\"\n",
        "target_image_size = 150\n",
        "levels = 1 \n",
        "channels = 3\n",
        "valid_ratio = 0.2 # validation set\n",
        "test_ratio = 0.0 # test set\n",
        "initialize_now = True\n",
        "SIGMOID = Umbrella_Network(network_type,images_folder,serial_file,models_folder,target_image_size,channels,levels,valid_ratio,test_ratio,initialize_now)\n"
      ],
      "execution_count": 5,
      "outputs": []
    },
    {
      "cell_type": "code",
      "source": [
        "SIGMOID.traverse_training_data()"
      ],
      "metadata": {
        "colab": {
          "base_uri": "https://localhost:8080/"
        },
        "id": "fzqGd-17UtoO",
        "outputId": "484d1116-2770-4e6d-9eb9-1a6e79671228"
      },
      "execution_count": 6,
      "outputs": [
        {
          "output_type": "stream",
          "name": "stdout",
          "text": [
            "small_hierarchy trainX 0 (0,) trainY 0 (0,)\n",
            "   animals trainX 71 (71,) trainY 71 (71,)\n",
            "      alligator trainX 0 (0,) trainY 0 (0,)\n",
            "      mammals trainX 0 (0,) trainY 0 (0,)\n",
            "      salamanders trainX 0 (0,) trainY 0 (0,)\n",
            "      snake trainX 0 (0,) trainY 0 (0,)\n",
            "   objects trainX 103 (103,) trainY 103 (103,)\n",
            "      automobiles trainX 0 (0,) trainY 0 (0,)\n",
            "      bicycles trainX 0 (0,) trainY 0 (0,)\n",
            "      boats trainX 0 (0,) trainY 0 (0,)\n",
            "   plants trainX 103 (103,) trainY 103 (103,)\n",
            "      cactus trainX 0 (0,) trainY 0 (0,)\n",
            "      hedges trainX 0 (0,) trainY 0 (0,)\n",
            "      shrubs trainX 0 (0,) trainY 0 (0,)\n"
          ]
        }
      ]
    },
    {
      "cell_type": "code",
      "source": [
        "SIGMOID.make_models()"
      ],
      "metadata": {
        "colab": {
          "base_uri": "https://localhost:8080/"
        },
        "id": "WVZjj-3HVRAQ",
        "outputId": "108d8cf7-034f-4fd0-cf69-e191d28f28ec"
      },
      "execution_count": 7,
      "outputs": [
        {
          "output_type": "stream",
          "name": "stdout",
          "text": [
            "making model for animals\n",
            "making model for objects\n",
            "making model for plants\n"
          ]
        }
      ]
    },
    {
      "cell_type": "code",
      "metadata": {
        "colab": {
          "base_uri": "https://localhost:8080/"
        },
        "outputId": "3bd7aaed-a869-430c-aab7-66abca0d153a",
        "id": "tB38nLcoVSzo"
      },
      "source": [
        "SIGMOID.train_models(eps=1,batch=10,aug=False,vrb=True)"
      ],
      "execution_count": 8,
      "outputs": [
        {
          "output_type": "stream",
          "name": "stdout",
          "text": [
            "training model for animals\n",
            "trainX 71\n",
            "trainY 71\n",
            "8/8 [==============================] - 12s 76ms/step - loss: 1.2612 - accuracy: 0.4366\n",
            "training model for objects\n",
            "trainX 103\n",
            "trainY 103\n",
            "11/11 [==============================] - 1s 31ms/step - loss: 1.1526 - accuracy: 0.5146\n",
            "training model for plants\n",
            "trainX 103\n",
            "trainY 103\n",
            "11/11 [==============================] - 1s 21ms/step - loss: 0.7158 - accuracy: 0.6117\n"
          ]
        }
      ]
    },
    {
      "cell_type": "code",
      "metadata": {
        "colab": {
          "base_uri": "https://localhost:8080/"
        },
        "outputId": "43de5a3f-a399-4c15-bd98-62e23ee65534",
        "id": "7tb-i-tHVV3g"
      },
      "source": [
        "SIGMOID.get_training_accuracy()\n",
        "SIGMOID.predict_validation_set() # set verbose=True to view all the images\n",
        "SIGMOID.predict_validation_top5()"
      ],
      "execution_count": 9,
      "outputs": [
        {
          "output_type": "stream",
          "name": "stdout",
          "text": [
            "average training accuracy 0.520944\n",
            "average training loss 1.043200\n",
            "34\n",
            "\n",
            "average validation accuracy 0.000000\n",
            "top 5 accuracy 0.18\n"
          ]
        }
      ]
    },
    {
      "cell_type": "markdown",
      "source": [
        "SIGMOID ON SMALL MULTI-LAYER STRUCTURE WITHOUT COMPRESSION OF LOWER LAYERS\n",
        "- the root folder contains 3 inner folders, each of which contains several inner folders, which makes a total of 2 layers\n",
        "- layers is set to 2, so the program makes 3 outer models and 3-4 inner models for each outer model\n",
        "- each model trains on its own class with an equal number of random samples from the other classes on the same level\n",
        "- each model outputs 1 sigmoid probability for its own class"
      ],
      "metadata": {
        "id": "OHQFSYkNXTzK"
      }
    },
    {
      "cell_type": "code",
      "metadata": {
        "id": "mITByaczVqC-"
      },
      "source": [
        "# the small_hierarchy folder has a just 3 outer folders, each with some inner folders\n",
        "network_type = 'sigmoid'\n",
        "images_folder = \"/content/drive/My Drive/5390/project/small_hierarchy\"\n",
        "serial_file = \"/content/drive/My Drive/Colab Notebooks/small_hierarchy.dat\"\n",
        "models_folder = \"/content/drive/My Drive/Colab Notebooks/models\"\n",
        "target_image_size = 150\n",
        "channels = 3\n",
        "levels = 2\n",
        "valid_ratio = 0.2 # validation set\n",
        "test_ratio = 0.0 # test set\n",
        "initialize_now = True\n",
        "SIGMOID = Umbrella_Network(network_type,images_folder,serial_file,models_folder,target_image_size,channels,levels,valid_ratio,test_ratio,initialize_now)\n"
      ],
      "execution_count": 10,
      "outputs": []
    },
    {
      "cell_type": "code",
      "source": [
        "SIGMOID.traverse_training_data()"
      ],
      "metadata": {
        "colab": {
          "base_uri": "https://localhost:8080/"
        },
        "id": "RLkgA0VUVSj5",
        "outputId": "220c1b42-4dca-4d37-e5e3-01c05da33cc7"
      },
      "execution_count": 11,
      "outputs": [
        {
          "output_type": "stream",
          "name": "stdout",
          "text": [
            "small_hierarchy trainX 0 (0,) trainY 0 (0,)\n",
            "   animals trainX 71 (71,) trainY 71 (71,)\n",
            "      alligator trainX 11 (11,) trainY 11 (11,)\n",
            "      mammals trainX 29 (29,) trainY 29 (29,)\n",
            "      salamanders trainX 17 (17,) trainY 17 (17,)\n",
            "      snake trainX 17 (17,) trainY 17 (17,)\n",
            "   objects trainX 103 (103,) trainY 103 (103,)\n",
            "      automobiles trainX 35 (35,) trainY 35 (35,)\n",
            "      bicycles trainX 28 (28,) trainY 28 (28,)\n",
            "      boats trainX 40 (40,) trainY 40 (40,)\n",
            "   plants trainX 103 (103,) trainY 103 (103,)\n",
            "      cactus trainX 23 (23,) trainY 23 (23,)\n",
            "      hedges trainX 35 (35,) trainY 35 (35,)\n",
            "      shrubs trainX 46 (46,) trainY 46 (46,)\n"
          ]
        }
      ]
    },
    {
      "cell_type": "code",
      "source": [
        "SIGMOID.make_models()"
      ],
      "metadata": {
        "colab": {
          "base_uri": "https://localhost:8080/"
        },
        "id": "R1q3TOWKV7vS",
        "outputId": "33743df6-a68e-4994-c6fb-66a741cd95f8"
      },
      "execution_count": 12,
      "outputs": [
        {
          "output_type": "stream",
          "name": "stdout",
          "text": [
            "making model for animals\n",
            "making model for alligator\n",
            "making model for mammals\n",
            "making model for salamanders\n",
            "making model for snake\n",
            "making model for objects\n",
            "making model for automobiles\n",
            "making model for bicycles\n",
            "making model for boats\n",
            "making model for plants\n",
            "making model for cactus\n",
            "making model for hedges\n",
            "making model for shrubs\n"
          ]
        }
      ]
    },
    {
      "cell_type": "code",
      "metadata": {
        "colab": {
          "base_uri": "https://localhost:8080/"
        },
        "outputId": "2798517a-e2dd-4931-c262-0d4dcfeda7bc",
        "id": "hYrzsrVAWB-B"
      },
      "source": [
        "SIGMOID.train_models(eps=1,batch=10,aug=False,vrb=True)"
      ],
      "execution_count": 13,
      "outputs": [
        {
          "output_type": "stream",
          "name": "stdout",
          "text": [
            "training model for animals\n",
            "trainX 71\n",
            "trainY 71\n",
            "8/8 [==============================] - 1s 20ms/step - loss: 0.8653 - accuracy: 0.5352\n",
            "training model for alligator\n",
            "trainX 11\n",
            "trainY 11\n",
            "2/2 [==============================] - 1s 11ms/step - loss: 0.7974 - accuracy: 0.3636\n",
            "training model for mammals\n",
            "trainX 29\n",
            "trainY 29\n",
            "3/3 [==============================] - 1s 125ms/step - loss: 1.4296 - accuracy: 0.4828\n",
            "training model for salamanders\n",
            "trainX 17\n",
            "trainY 17\n",
            "2/2 [==============================] - 1s 194ms/step - loss: 0.7348 - accuracy: 0.4706\n",
            "training model for snake\n",
            "trainX 17\n",
            "trainY 17\n",
            "WARNING:tensorflow:5 out of the last 16 calls to <function Model.make_train_function.<locals>.train_function at 0x7f36e0b26dd0> triggered tf.function retracing. Tracing is expensive and the excessive number of tracings could be due to (1) creating @tf.function repeatedly in a loop, (2) passing tensors with different shapes, (3) passing Python objects instead of tensors. For (1), please define your @tf.function outside of the loop. For (2), @tf.function has experimental_relax_shapes=True option that relaxes argument shapes that can avoid unnecessary retracing. For (3), please refer to https://www.tensorflow.org/guide/function#controlling_retracing and https://www.tensorflow.org/api_docs/python/tf/function for  more details.\n",
            "2/2 [==============================] - 1s 18ms/step - loss: 1.6310 - accuracy: 0.3529\n",
            "training model for objects\n",
            "trainX 103\n",
            "trainY 103\n",
            "WARNING:tensorflow:6 out of the last 18 calls to <function Model.make_train_function.<locals>.train_function at 0x7f36e02d6dd0> triggered tf.function retracing. Tracing is expensive and the excessive number of tracings could be due to (1) creating @tf.function repeatedly in a loop, (2) passing tensors with different shapes, (3) passing Python objects instead of tensors. For (1), please define your @tf.function outside of the loop. For (2), @tf.function has experimental_relax_shapes=True option that relaxes argument shapes that can avoid unnecessary retracing. For (3), please refer to https://www.tensorflow.org/guide/function#controlling_retracing and https://www.tensorflow.org/api_docs/python/tf/function for  more details.\n",
            "11/11 [==============================] - 1s 20ms/step - loss: 1.4817 - accuracy: 0.5340\n",
            "training model for automobiles\n",
            "trainX 35\n",
            "trainY 35\n",
            "4/4 [==============================] - 1s 61ms/step - loss: 2.0030 - accuracy: 0.4857\n",
            "training model for bicycles\n",
            "trainX 28\n",
            "trainY 28\n",
            "3/3 [==============================] - 1s 104ms/step - loss: 2.7404 - accuracy: 0.4286\n",
            "training model for boats\n",
            "trainX 40\n",
            "trainY 40\n",
            "4/4 [==============================] - 1s 21ms/step - loss: 1.1072 - accuracy: 0.4000\n",
            "training model for plants\n",
            "trainX 103\n",
            "trainY 103\n",
            "11/11 [==============================] - 1s 20ms/step - loss: 0.9121 - accuracy: 0.4854\n",
            "training model for cactus\n",
            "trainX 23\n",
            "trainY 23\n",
            "3/3 [==============================] - 1s 19ms/step - loss: 0.9816 - accuracy: 0.3043\n",
            "training model for hedges\n",
            "trainX 35\n",
            "trainY 35\n",
            "4/4 [==============================] - 1s 18ms/step - loss: 2.7522 - accuracy: 0.4286\n",
            "training model for shrubs\n",
            "trainX 46\n",
            "trainY 46\n",
            "5/5 [==============================] - 1s 53ms/step - loss: 0.8843 - accuracy: 0.4783\n"
          ]
        }
      ]
    },
    {
      "cell_type": "code",
      "metadata": {
        "colab": {
          "base_uri": "https://localhost:8080/"
        },
        "outputId": "d9262072-ff46-4602-b9d8-0db7090379ce",
        "id": "wCTxZzXJWGPl"
      },
      "source": [
        "SIGMOID.get_training_accuracy()\n",
        "SIGMOID.predict_validation_set() # set verbose=True to view all the images\n",
        "SIGMOID.predict_validation_top5()"
      ],
      "execution_count": 14,
      "outputs": [
        {
          "output_type": "stream",
          "name": "stdout",
          "text": [
            "average training accuracy 0.442309\n",
            "average training loss 1.409272\n",
            "WARNING:tensorflow:5 out of the last 15 calls to <function Model.make_predict_function.<locals>.predict_function at 0x7f36e0e11d40> triggered tf.function retracing. Tracing is expensive and the excessive number of tracings could be due to (1) creating @tf.function repeatedly in a loop, (2) passing tensors with different shapes, (3) passing Python objects instead of tensors. For (1), please define your @tf.function outside of the loop. For (2), @tf.function has experimental_relax_shapes=True option that relaxes argument shapes that can avoid unnecessary retracing. For (3), please refer to https://www.tensorflow.org/guide/function#controlling_retracing and https://www.tensorflow.org/api_docs/python/tf/function for  more details.\n",
            "WARNING:tensorflow:6 out of the last 17 calls to <function Model.make_predict_function.<locals>.predict_function at 0x7f36da337b00> triggered tf.function retracing. Tracing is expensive and the excessive number of tracings could be due to (1) creating @tf.function repeatedly in a loop, (2) passing tensors with different shapes, (3) passing Python objects instead of tensors. For (1), please define your @tf.function outside of the loop. For (2), @tf.function has experimental_relax_shapes=True option that relaxes argument shapes that can avoid unnecessary retracing. For (3), please refer to https://www.tensorflow.org/guide/function#controlling_retracing and https://www.tensorflow.org/api_docs/python/tf/function for  more details.\n",
            "34\n",
            "\n",
            "average validation accuracy 0.147059\n",
            "top 5 accuracy 0.68\n"
          ]
        }
      ]
    }
  ]
}