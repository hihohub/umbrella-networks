{
  "nbformat": 4,
  "nbformat_minor": 0,
  "metadata": {
    "colab": {
      "name": "etc.ipynb",
      "provenance": [],
      "collapsed_sections": [],
      "authorship_tag": "ABX9TyMpl7Gnb7h2HKcdIAG43VpG",
      "include_colab_link": true
    },
    "kernelspec": {
      "display_name": "Python 3",
      "name": "python3"
    },
    "accelerator": "GPU"
  },
  "cells": [
    {
      "cell_type": "markdown",
      "metadata": {
        "id": "view-in-github",
        "colab_type": "text"
      },
      "source": [
        "<a href=\"https://colab.research.google.com/github/hihohub/umbrella-networks/blob/main/etc.ipynb\" target=\"_parent\"><img src=\"https://colab.research.google.com/assets/colab-badge.svg\" alt=\"Open In Colab\"/></a>"
      ]
    },
    {
      "cell_type": "markdown",
      "metadata": {
        "id": "c_XIVILg3qDA"
      },
      "source": [
        "- Umbrella networks\n",
        "- copyright 2021 by James Smith\n",
        "- contact - derekjsmit@gmail.com"
      ]
    },
    {
      "cell_type": "markdown",
      "source": [
        "Demonstration instructions\n",
        "- Examples of helpful functions like save, load, and display predicted labels.\n",
        "- Organize your image files into folders by category. For example, (book covers) -> (scifi), (fantasy), (mystery).\n",
        "- First, run the large cell containing the umbrella code, then scroll down 1333 lines to the experiment.\n",
        "- Change the folder name in the demonstration code to your folder path.\n",
        "- The rest of the code should work as written.\n",
        "- Set 'levels' to anywhere from 1 to the number of layers in your folder structure. If levels=1, images from lower level folders are compressed into the outer level folders. If levels > 1, umbrella networks are formed recursively, one for each outer folder and each subfolder within the outer folders, up to the specified number of levels. The inner folders do not each require the same number of levels, but must have at least as many levels as the value specified for 'levels'."
      ],
      "metadata": {
        "id": "VMGFoeIp45yV"
      }
    },
    {
      "cell_type": "markdown",
      "metadata": {
        "id": "9de5nqYI6ZPu"
      },
      "source": [
        "Umbrella network instructions<br/>\n",
        "- The umbrella code was designed for reading a local folder and automatically constructing the hierarchical network from the implicit hierarchy in the subfolders.\n",
        "- If have images in folders, initialize with images_folder = path. Umbrella network constructs tree by itself. Refer to examples.\n",
        "- However, it also has functions for reading the data from an online repository and building the tree node by node (since the data has no folder structure).\n",
        "- If loading data from repository, initialize with images_folder = None, then use repo functions. Must first preprocess the data (normalize, reshape). Only process x data, not labels. Umbrella network constructs labels by itself. However, subdivide classes by label, then manually construct tree with repo functions. Finally, init_from_repo(). Refer to examples.\n",
        "- In repo mode, umbrella network throws away labels and makes its own. For example, if divide MNIST into odd and even numbers, each subset will have labels 0-4. Hence, anything other than flat topology requires that the umbrella network form new labels.\n",
        "\n",
        "\n",
        "\n",
        "\n"
      ]
    },
    {
      "cell_type": "code",
      "metadata": {
        "colab": {
          "base_uri": "https://localhost:8080/"
        },
        "id": "rDvh7kWFVup9",
        "outputId": "2b5fc194-d304-4184-b858-b3d0f1fe7d5b"
      },
      "source": [
        "from google.colab import drive\n",
        "drive.mount('/content/drive')\n"
      ],
      "execution_count": 1,
      "outputs": [
        {
          "output_type": "stream",
          "name": "stdout",
          "text": [
            "Mounted at /content/drive\n"
          ]
        }
      ]
    },
    {
      "cell_type": "markdown",
      "metadata": {
        "id": "vB6R2fVSYvyx"
      },
      "source": [
        "%%%%%%%%%%%%%%%%%%<br/>\n",
        "UMBRELLA NETWORK<br/>\n",
        "%%%%%%%%%%%%%%%%%%<br/>"
      ]
    },
    {
      "cell_type": "code",
      "source": [
        "! wget https://raw.githubusercontent.com/hihohub/umbrella-networks/main/umbrella.py"
      ],
      "metadata": {
        "colab": {
          "base_uri": "https://localhost:8080/"
        },
        "id": "hGDve97aaf5o",
        "outputId": "b73c1cc3-c6c4-4404-a3a1-458e8fa78ea5"
      },
      "execution_count": 2,
      "outputs": [
        {
          "output_type": "stream",
          "name": "stdout",
          "text": [
            "--2022-04-18 02:37:47--  https://raw.githubusercontent.com/hihohub/umbrella-networks/main/umbrella.py\n",
            "Resolving raw.githubusercontent.com (raw.githubusercontent.com)... 185.199.109.133, 185.199.111.133, 185.199.110.133, ...\n",
            "Connecting to raw.githubusercontent.com (raw.githubusercontent.com)|185.199.109.133|:443... connected.\n",
            "HTTP request sent, awaiting response... 200 OK\n",
            "Length: 53032 (52K) [text/plain]\n",
            "Saving to: ‘umbrella.py’\n",
            "\n",
            "umbrella.py         100%[===================>]  51.79K  --.-KB/s    in 0.01s   \n",
            "\n",
            "2022-04-18 02:37:47 (4.09 MB/s) - ‘umbrella.py’ saved [53032/53032]\n",
            "\n"
          ]
        }
      ]
    },
    {
      "cell_type": "code",
      "source": [
        "from umbrella import Umbrella_Network,Umbrella_Label,Umbrella_Node,Joint_Probability_Network"
      ],
      "metadata": {
        "id": "PCkYzF4gbKqP"
      },
      "execution_count": 3,
      "outputs": []
    },
    {
      "cell_type": "code",
      "source": [
        "import os\n",
        "import sys\n",
        "import numpy as np\n",
        "import math\n",
        "import random\n",
        "from PIL import Image, ImageOps, ImageChops\n",
        "import cv2\n",
        "import tensorflow as tf\n",
        "from tensorflow.keras.preprocessing import image\n",
        "from tensorflow.keras.models import Sequential, Model, load_model\n",
        "from tensorflow.keras.layers import Input, Conv2D, MaxPool2D, Flatten, Dense, add, BatchNormalization, Dropout, AveragePooling2D, GlobalAveragePooling2D, SeparableConv2D\n",
        "from tensorflow.keras.utils import to_categorical\n",
        "from tensorflow.python.framework.ops import disable_eager_execution\n",
        "from tensorflow.keras import backend as backend\n",
        "from keras.callbacks import ReduceLROnPlateau\n",
        "from sklearn.utils import shuffle\n",
        "import matplotlib.pyplot as plt\n",
        "import pickle\n",
        "import copy\n",
        "import time"
      ],
      "metadata": {
        "id": "NKZG7Q4MbvQd"
      },
      "execution_count": 4,
      "outputs": []
    },
    {
      "cell_type": "markdown",
      "source": [
        "- ##################\n",
        "- Demonstrate helpful functions\n",
        "- when predicting validation or test images, set verbose=True to view images and predicted labels\n",
        "- save images separately from models, always save images first\n",
        "- load both when reloading, always load images first\n",
        "- ##################"
      ],
      "metadata": {
        "id": "9Gg9BM7j6OFD"
      }
    },
    {
      "cell_type": "markdown",
      "source": [
        "SIGMOID ON SMALL MULTI-LAYER STRUCTURE COMPRESSED INTO TOP LEVEL FOLDERS"
      ],
      "metadata": {
        "id": "Crv3EjsfXWW5"
      }
    },
    {
      "cell_type": "code",
      "metadata": {
        "id": "5pDX_vxhUt2y"
      },
      "source": [
        "network_type = 'softmax'\n",
        "images_folder = \"/content/drive/My Drive/5390/project/small_hierarchy\"\n",
        "serial_file = \"/content/drive/My Drive/Colab Notebooks/small_hierarchy.dat\"\n",
        "models_folder = \"/content/drive/My Drive/Colab Notebooks/models\"\n",
        "target_image_size = 30\n",
        "levels = 2\n",
        "channels = 3\n",
        "valid_ratio = 0.1 # validation set\n",
        "test_ratio = 0.1 # test set\n",
        "initialize_now = True\n",
        "MODEL = Umbrella_Network(network_type,images_folder,serial_file,models_folder,target_image_size,channels,levels,valid_ratio,test_ratio,initialize_now)"
      ],
      "execution_count": 11,
      "outputs": []
    },
    {
      "cell_type": "code",
      "source": [
        "MODEL.traverse_training_data()"
      ],
      "metadata": {
        "colab": {
          "base_uri": "https://localhost:8080/"
        },
        "id": "fzqGd-17UtoO",
        "outputId": "604d7b2b-2552-466f-83cb-d72b29b13f22"
      },
      "execution_count": 12,
      "outputs": [
        {
          "output_type": "stream",
          "name": "stdout",
          "text": [
            "small_hierarchy trainX 137 (137,) trainY 137 (137, 3)\n",
            "   animals trainX 35 (35,) trainY 35 (35, 4)\n",
            "      alligator trainX 0 (0,) trainY 0 (0,)\n",
            "      mammals trainX 0 (0,) trainY 0 (0,)\n",
            "      salamanders trainX 0 (0,) trainY 0 (0,)\n",
            "      snake trainX 0 (0,) trainY 0 (0,)\n",
            "   objects trainX 51 (51,) trainY 51 (51, 3)\n",
            "      automobiles trainX 0 (0,) trainY 0 (0,)\n",
            "      bicycles trainX 0 (0,) trainY 0 (0,)\n",
            "      boats trainX 0 (0,) trainY 0 (0,)\n",
            "   plants trainX 51 (51,) trainY 51 (51, 3)\n",
            "      cactus trainX 0 (0,) trainY 0 (0,)\n",
            "      hedges trainX 0 (0,) trainY 0 (0,)\n",
            "      shrubs trainX 0 (0,) trainY 0 (0,)\n"
          ]
        }
      ]
    },
    {
      "cell_type": "code",
      "source": [
        "MODEL.make_models()"
      ],
      "metadata": {
        "colab": {
          "base_uri": "https://localhost:8080/"
        },
        "id": "ZAgELDESEzbS",
        "outputId": "1dd61b99-5e3b-4884-b382-1e0cde68467b"
      },
      "execution_count": 13,
      "outputs": [
        {
          "output_type": "stream",
          "name": "stdout",
          "text": [
            "making model for small_hierarchy\n",
            "making model for animals\n",
            "making model for objects\n",
            "making model for plants\n"
          ]
        }
      ]
    },
    {
      "cell_type": "code",
      "metadata": {
        "colab": {
          "base_uri": "https://localhost:8080/"
        },
        "outputId": "d1b784f1-aa64-4804-99ac-5f0354ee6d21",
        "id": "tB38nLcoVSzo"
      },
      "source": [
        "MODEL.train_models(eps=1,batch=10,aug=False,vrb=True)"
      ],
      "execution_count": 14,
      "outputs": [
        {
          "output_type": "stream",
          "name": "stdout",
          "text": [
            "training model for small_hierarchy\n",
            "trainX 137\n",
            "trainY 137\n",
            "14/14 [==============================] - 1s 5ms/step - loss: 1.0842 - accuracy: 0.3650\n",
            "training model for animals\n",
            "trainX 35\n",
            "trainY 35\n",
            "4/4 [==============================] - 1s 16ms/step - loss: 1.4232 - accuracy: 0.2857\n",
            "training model for objects\n",
            "trainX 51\n",
            "trainY 51\n",
            "6/6 [==============================] - 1s 26ms/step - loss: 1.1052 - accuracy: 0.3725\n",
            "training model for plants\n",
            "trainX 51\n",
            "trainY 51\n",
            "6/6 [==============================] - 0s 5ms/step - loss: 1.1327 - accuracy: 0.3529\n"
          ]
        }
      ]
    },
    {
      "cell_type": "code",
      "metadata": {
        "colab": {
          "base_uri": "https://localhost:8080/",
          "height": 1000
        },
        "outputId": "c15e1227-f8cb-4748-f6d2-92cd33b1dd9a",
        "id": "7tb-i-tHVV3g"
      },
      "source": [
        "MODEL.get_training_accuracy()\n",
        "logits = MODEL.predict_validation_set(verbose=True) # set verbose=True to view all the images\n",
        "MODEL.predict_validation_top5()"
      ],
      "execution_count": 15,
      "outputs": [
        {
          "output_type": "stream",
          "name": "stdout",
          "text": [
            "average training accuracy 0.344042\n",
            "average training loss 1.186347\n",
            "WARNING:tensorflow:5 out of the last 6 calls to <function Model.make_predict_function.<locals>.predict_function at 0x7efaf6c619e0> triggered tf.function retracing. Tracing is expensive and the excessive number of tracings could be due to (1) creating @tf.function repeatedly in a loop, (2) passing tensors with different shapes, (3) passing Python objects instead of tensors. For (1), please define your @tf.function outside of the loop. For (2), @tf.function has experimental_relax_shapes=True option that relaxes argument shapes that can avoid unnecessary retracing. For (3), please refer to https://www.tensorflow.org/guide/function#controlling_retracing and https://www.tensorflow.org/api_docs/python/tf/function for  more details.\n",
            "17\n"
          ]
        },
        {
          "output_type": "display_data",
          "data": {
            "text/plain": [
              "<Figure size 432x288 with 1 Axes>"
            ],
            "image/png": "[encoded data removed]"
          },
          "metadata": {
            "needs_background": "light"
          }
        },
        {
          "output_type": "stream",
          "name": "stdout",
          "text": [
            "\n",
            "valid\n",
            "animals 1\n",
            "alligator 1\n",
            "small_hierarchy [1, 0, 0]\n",
            "  animals [1, 0, 0, 0]\n",
            "    alligator []\n",
            "    mammals []\n",
            "    salamanders []\n",
            "    snake []\n",
            "  objects [0, 0, 0]\n",
            "    automobiles []\n",
            "    bicycles []\n",
            "    boats []\n",
            "  plants [0, 0, 0]\n",
            "    cactus []\n",
            "    hedges []\n",
            "    shrubs []\n",
            "\n",
            "predicted\n",
            "objects 0.4570310413837433\n",
            "automobiles 0.37869712710380554\n",
            "small_hierarchy [0.30246192 0.45703104 0.24050708]\n",
            "  animals [0.22909814 0.34287792 0.24783355 0.1801904 ]\n",
            "    alligator []\n",
            "    mammals []\n",
            "    salamanders []\n",
            "    snake []\n",
            "  objects [0.37869713 0.31530926 0.30599362]\n",
            "    automobiles []\n",
            "    bicycles []\n",
            "    boats []\n",
            "  plants [0.20150413 0.35904992 0.43944594]\n",
            "    cactus []\n",
            "    hedges []\n",
            "    shrubs []\n",
            "logits [0, 0, 0, 0, 0.37869713, 0.31530926, 0.30599362, 0, 0, 0]\n"
          ]
        },
        {
          "output_type": "display_data",
          "data": {
            "text/plain": [
              "<Figure size 432x288 with 1 Axes>"
            ],
            "image/png": "[encoded data removed]"
          },
          "metadata": {
            "needs_background": "light"
          }
        },
        {
          "output_type": "stream",
          "name": "stdout",
          "text": [
            "\n",
            "valid\n",
            "animals 1\n",
            "mammals 1\n",
            "small_hierarchy [1, 0, 0]\n",
            "  animals [0, 1, 0, 0]\n",
            "    alligator []\n",
            "    mammals []\n",
            "    salamanders []\n",
            "    snake []\n",
            "  objects [0, 0, 0]\n",
            "    automobiles []\n",
            "    bicycles []\n",
            "    boats []\n",
            "  plants [0, 0, 0]\n",
            "    cactus []\n",
            "    hedges []\n",
            "    shrubs []\n",
            "\n",
            "predicted\n",
            "objects 0.4848443865776062\n",
            "automobiles 0.4029434025287628\n",
            "small_hierarchy [0.302704  0.4848444 0.2124516]\n",
            "  animals [0.20688346 0.42083225 0.21540466 0.15687968]\n",
            "    alligator []\n",
            "    mammals []\n",
            "    salamanders []\n",
            "    snake []\n",
            "  objects [0.4029434  0.3032698  0.29378676]\n",
            "    automobiles []\n",
            "    bicycles []\n",
            "    boats []\n",
            "  plants [0.2022541  0.34711123 0.4506347 ]\n",
            "    cactus []\n",
            "    hedges []\n",
            "    shrubs []\n",
            "logits [0, 0, 0, 0, 0.4029434, 0.3032698, 0.29378676, 0, 0, 0]\n"
          ]
        },
        {
          "output_type": "display_data",
          "data": {
            "text/plain": [
              "<Figure size 432x288 with 1 Axes>"
            ],
            "image/png": "[encoded data removed]"
          },
          "metadata": {
            "needs_background": "light"
          }
        },
        {
          "output_type": "stream",
          "name": "stdout",
          "text": [
            "\n",
            "valid\n",
            "animals 1\n",
            "mammals 1\n",
            "small_hierarchy [1, 0, 0]\n",
            "  animals [0, 1, 0, 0]\n",
            "    alligator []\n",
            "    mammals []\n",
            "    salamanders []\n",
            "    snake []\n",
            "  objects [0, 0, 0]\n",
            "    automobiles []\n",
            "    bicycles []\n",
            "    boats []\n",
            "  plants [0, 0, 0]\n",
            "    cactus []\n",
            "    hedges []\n",
            "    shrubs []\n",
            "\n",
            "predicted\n",
            "objects 0.4288334250450134\n",
            "automobiles 0.37749654054641724\n",
            "small_hierarchy [0.3107733  0.42883343 0.26039323]\n",
            "  animals [0.22643636 0.3530142  0.24303891 0.17751047]\n",
            "    alligator []\n",
            "    mammals []\n",
            "    salamanders []\n",
            "    snake []\n",
            "  objects [0.37749654 0.32931736 0.2931861 ]\n",
            "    automobiles []\n",
            "    bicycles []\n",
            "    boats []\n",
            "  plants [0.23163916 0.3401269  0.42823395]\n",
            "    cactus []\n",
            "    hedges []\n",
            "    shrubs []\n",
            "logits [0, 0, 0, 0, 0.37749654, 0.32931736, 0.2931861, 0, 0, 0]\n"
          ]
        },
        {
          "output_type": "display_data",
          "data": {
            "text/plain": [
              "<Figure size 432x288 with 1 Axes>"
            ],
            "image/png": "[encoded data removed]"
          },
          "metadata": {
            "needs_background": "light"
          }
        },
        {
          "output_type": "stream",
          "name": "stdout",
          "text": [
            "\n",
            "valid\n",
            "animals 1\n",
            "salamanders 1\n",
            "small_hierarchy [1, 0, 0]\n",
            "  animals [0, 0, 1, 0]\n",
            "    alligator []\n",
            "    mammals []\n",
            "    salamanders []\n",
            "    snake []\n",
            "  objects [0, 0, 0]\n",
            "    automobiles []\n",
            "    bicycles []\n",
            "    boats []\n",
            "  plants [0, 0, 0]\n",
            "    cactus []\n",
            "    hedges []\n",
            "    shrubs []\n",
            "\n",
            "predicted\n",
            "objects 0.4163776934146881\n",
            "automobiles 0.4046957194805145\n",
            "small_hierarchy [0.30468565 0.4163777  0.27893668]\n",
            "  animals [0.23639093 0.32536778 0.25278264 0.18545865]\n",
            "    alligator []\n",
            "    mammals []\n",
            "    salamanders []\n",
            "    snake []\n",
            "  objects [0.40469572 0.3210176  0.2742867 ]\n",
            "    automobiles []\n",
            "    bicycles []\n",
            "    boats []\n",
            "  plants [0.21639995 0.35660806 0.426992  ]\n",
            "    cactus []\n",
            "    hedges []\n",
            "    shrubs []\n",
            "logits [0, 0, 0, 0, 0.40469572, 0.3210176, 0.2742867, 0, 0, 0]\n"
          ]
        },
        {
          "output_type": "display_data",
          "data": {
            "text/plain": [
              "<Figure size 432x288 with 1 Axes>"
            ],
            "image/png": "[encoded data removed]"
          },
          "metadata": {
            "needs_background": "light"
          }
        },
        {
          "output_type": "stream",
          "name": "stdout",
          "text": [
            "\n",
            "valid\n",
            "animals 1\n",
            "snake 1\n",
            "small_hierarchy [1, 0, 0]\n",
            "  animals [0, 0, 0, 1]\n",
            "    alligator []\n",
            "    mammals []\n",
            "    salamanders []\n",
            "    snake []\n",
            "  objects [0, 0, 0]\n",
            "    automobiles []\n",
            "    bicycles []\n",
            "    boats []\n",
            "  plants [0, 0, 0]\n",
            "    cactus []\n",
            "    hedges []\n",
            "    shrubs []\n",
            "\n",
            "predicted\n",
            "objects 0.41880354285240173\n",
            "automobiles 0.42307472229003906\n",
            "small_hierarchy [0.3173303  0.41880354 0.2638662 ]\n",
            "  animals [0.23878174 0.30621016 0.27937818 0.17562994]\n",
            "    alligator []\n",
            "    mammals []\n",
            "    salamanders []\n",
            "    snake []\n",
            "  objects [0.42307472 0.29162616 0.28529912]\n",
            "    automobiles []\n",
            "    bicycles []\n",
            "    boats []\n",
            "  plants [0.20349416 0.34829623 0.44820967]\n",
            "    cactus []\n",
            "    hedges []\n",
            "    shrubs []\n",
            "logits [0, 0, 0, 0, 0.42307472, 0.29162616, 0.28529912, 0, 0, 0]\n"
          ]
        },
        {
          "output_type": "display_data",
          "data": {
            "text/plain": [
              "<Figure size 432x288 with 1 Axes>"
            ],
            "image/png": "[encoded data removed]"
          },
          "metadata": {
            "needs_background": "light"
          }
        },
        {
          "output_type": "stream",
          "name": "stdout",
          "text": [
            "\n",
            "valid\n",
            "objects 1\n",
            "automobiles 1\n",
            "small_hierarchy [0, 1, 0]\n",
            "  animals [0, 0, 0, 0]\n",
            "    alligator []\n",
            "    mammals []\n",
            "    salamanders []\n",
            "    snake []\n",
            "  objects [1, 0, 0]\n",
            "    automobiles []\n",
            "    bicycles []\n",
            "    boats []\n",
            "  plants [0, 0, 0]\n",
            "    cactus []\n",
            "    hedges []\n",
            "    shrubs []\n",
            "\n",
            "predicted\n",
            "objects 0.5339154005050659\n",
            "automobiles 0.3734029233455658\n",
            "small_hierarchy [0.275679   0.5339154  0.19040562]\n",
            "  animals [0.24194746 0.37304193 0.24309264 0.14191797]\n",
            "    alligator []\n",
            "    mammals []\n",
            "    salamanders []\n",
            "    snake []\n",
            "  objects [0.37340292 0.3045827  0.3220144 ]\n",
            "    automobiles []\n",
            "    bicycles []\n",
            "    boats []\n",
            "  plants [0.19892868 0.3444143  0.456657  ]\n",
            "    cactus []\n",
            "    hedges []\n",
            "    shrubs []\n",
            "logits [0, 0, 0, 0, 0.37340292, 0.3045827, 0.3220144, 0, 0, 0]\n"
          ]
        },
        {
          "output_type": "display_data",
          "data": {
            "text/plain": [
              "<Figure size 432x288 with 1 Axes>"
            ],
            "image/png": "[encoded data removed]"
          },
          "metadata": {
            "needs_background": "light"
          }
        },
        {
          "output_type": "stream",
          "name": "stdout",
          "text": [
            "\n",
            "valid\n",
            "objects 1\n",
            "automobiles 1\n",
            "small_hierarchy [0, 1, 0]\n",
            "  animals [0, 0, 0, 0]\n",
            "    alligator []\n",
            "    mammals []\n",
            "    salamanders []\n",
            "    snake []\n",
            "  objects [1, 0, 0]\n",
            "    automobiles []\n",
            "    bicycles []\n",
            "    boats []\n",
            "  plants [0, 0, 0]\n",
            "    cactus []\n",
            "    hedges []\n",
            "    shrubs []\n",
            "\n",
            "predicted\n",
            "objects 0.42080509662628174\n",
            "automobiles 0.39356929063796997\n",
            "small_hierarchy [0.3125327  0.4208051  0.26666227]\n",
            "  animals [0.24877234 0.28500846 0.26744592 0.19877326]\n",
            "    alligator []\n",
            "    mammals []\n",
            "    salamanders []\n",
            "    snake []\n",
            "  objects [0.3935693  0.28355762 0.32287306]\n",
            "    automobiles []\n",
            "    bicycles []\n",
            "    boats []\n",
            "  plants [0.2339784  0.35630497 0.40971664]\n",
            "    cactus []\n",
            "    hedges []\n",
            "    shrubs []\n",
            "logits [0, 0, 0, 0, 0.3935693, 0.28355762, 0.32287306, 0, 0, 0]\n"
          ]
        },
        {
          "output_type": "display_data",
          "data": {
            "text/plain": [
              "<Figure size 432x288 with 1 Axes>"
            ],
            "image/png": "[encoded data removed]"
          },
          "metadata": {
            "needs_background": "light"
          }
        },
        {
          "output_type": "stream",
          "name": "stdout",
          "text": [
            "\n",
            "valid\n",
            "objects 1\n",
            "bicycles 1\n",
            "small_hierarchy [0, 1, 0]\n",
            "  animals [0, 0, 0, 0]\n",
            "    alligator []\n",
            "    mammals []\n",
            "    salamanders []\n",
            "    snake []\n",
            "  objects [0, 1, 0]\n",
            "    automobiles []\n",
            "    bicycles []\n",
            "    boats []\n",
            "  plants [0, 0, 0]\n",
            "    cactus []\n",
            "    hedges []\n",
            "    shrubs []\n",
            "\n",
            "predicted\n",
            "objects 0.6436697244644165\n",
            "automobiles 0.3752014636993408\n",
            "small_hierarchy [0.21681076 0.6436697  0.1395196 ]\n",
            "  animals [0.21969134 0.406867   0.2431538  0.13028792]\n",
            "    alligator []\n",
            "    mammals []\n",
            "    salamanders []\n",
            "    snake []\n",
            "  objects [0.37520146 0.3413904  0.28340808]\n",
            "    automobiles []\n",
            "    bicycles []\n",
            "    boats []\n",
            "  plants [0.13109325 0.35451493 0.51439184]\n",
            "    cactus []\n",
            "    hedges []\n",
            "    shrubs []\n",
            "logits [0, 0, 0, 0, 0.37520146, 0.3413904, 0.28340808, 0, 0, 0]\n"
          ]
        },
        {
          "output_type": "display_data",
          "data": {
            "text/plain": [
              "<Figure size 432x288 with 1 Axes>"
            ],
            "image/png": "[encoded data removed]"
          },
          "metadata": {
            "needs_background": "light"
          }
        },
        {
          "output_type": "stream",
          "name": "stdout",
          "text": [
            "\n",
            "valid\n",
            "objects 1\n",
            "boats 1\n",
            "small_hierarchy [0, 1, 0]\n",
            "  animals [0, 0, 0, 0]\n",
            "    alligator []\n",
            "    mammals []\n",
            "    salamanders []\n",
            "    snake []\n",
            "  objects [0, 0, 1]\n",
            "    automobiles []\n",
            "    bicycles []\n",
            "    boats []\n",
            "  plants [0, 0, 0]\n",
            "    cactus []\n",
            "    hedges []\n",
            "    shrubs []\n",
            "\n",
            "predicted\n",
            "objects 0.6020145416259766\n",
            "automobiles 0.3676668405532837\n",
            "small_hierarchy [0.21361889 0.60201454 0.18436661]\n",
            "  animals [0.22787578 0.35599676 0.22952783 0.1865996 ]\n",
            "    alligator []\n",
            "    mammals []\n",
            "    salamanders []\n",
            "    snake []\n",
            "  objects [0.36766684 0.31317097 0.31916216]\n",
            "    automobiles []\n",
            "    bicycles []\n",
            "    boats []\n",
            "  plants [0.1850835  0.35622674 0.45868975]\n",
            "    cactus []\n",
            "    hedges []\n",
            "    shrubs []\n",
            "logits [0, 0, 0, 0, 0.36766684, 0.31317097, 0.31916216, 0, 0, 0]\n"
          ]
        },
        {
          "output_type": "display_data",
          "data": {
            "text/plain": [
              "<Figure size 432x288 with 1 Axes>"
            ],
            "image/png": "[encoded data removed]"
          },
          "metadata": {
            "needs_background": "light"
          }
        },
        {
          "output_type": "stream",
          "name": "stdout",
          "text": [
            "\n",
            "valid\n",
            "objects 1\n",
            "boats 1\n",
            "small_hierarchy [0, 1, 0]\n",
            "  animals [0, 0, 0, 0]\n",
            "    alligator []\n",
            "    mammals []\n",
            "    salamanders []\n",
            "    snake []\n",
            "  objects [0, 0, 1]\n",
            "    automobiles []\n",
            "    bicycles []\n",
            "    boats []\n",
            "  plants [0, 0, 0]\n",
            "    cactus []\n",
            "    hedges []\n",
            "    shrubs []\n",
            "\n",
            "predicted\n",
            "objects 0.46614766120910645\n",
            "automobiles 0.4348374605178833\n",
            "small_hierarchy [0.31189144 0.46614766 0.2219609 ]\n",
            "  animals [0.23188302 0.35468492 0.24848634 0.16494574]\n",
            "    alligator []\n",
            "    mammals []\n",
            "    salamanders []\n",
            "    snake []\n",
            "  objects [0.43483746 0.29084596 0.27431655]\n",
            "    automobiles []\n",
            "    bicycles []\n",
            "    boats []\n",
            "  plants [0.21836944 0.34206483 0.43956566]\n",
            "    cactus []\n",
            "    hedges []\n",
            "    shrubs []\n",
            "logits [0, 0, 0, 0, 0.43483746, 0.29084596, 0.27431655, 0, 0, 0]\n"
          ]
        },
        {
          "output_type": "display_data",
          "data": {
            "text/plain": [
              "<Figure size 432x288 with 1 Axes>"
            ],
            "image/png": "[encoded data removed]"
          },
          "metadata": {
            "needs_background": "light"
          }
        },
        {
          "output_type": "stream",
          "name": "stdout",
          "text": [
            "\n",
            "valid\n",
            "objects 1\n",
            "boats 1\n",
            "small_hierarchy [0, 1, 0]\n",
            "  animals [0, 0, 0, 0]\n",
            "    alligator []\n",
            "    mammals []\n",
            "    salamanders []\n",
            "    snake []\n",
            "  objects [0, 0, 1]\n",
            "    automobiles []\n",
            "    bicycles []\n",
            "    boats []\n",
            "  plants [0, 0, 0]\n",
            "    cactus []\n",
            "    hedges []\n",
            "    shrubs []\n",
            "\n",
            "predicted\n",
            "objects 0.5451298356056213\n",
            "automobiles 0.38811352849006653\n",
            "small_hierarchy [0.2615208  0.54512984 0.19334933]\n",
            "  animals [0.22859783 0.38054076 0.22743316 0.16342823]\n",
            "    alligator []\n",
            "    mammals []\n",
            "    salamanders []\n",
            "    snake []\n",
            "  objects [0.38811353 0.29712015 0.31476632]\n",
            "    automobiles []\n",
            "    bicycles []\n",
            "    boats []\n",
            "  plants [0.20341924 0.3434444  0.45313632]\n",
            "    cactus []\n",
            "    hedges []\n",
            "    shrubs []\n",
            "logits [0, 0, 0, 0, 0.38811353, 0.29712015, 0.31476632, 0, 0, 0]\n"
          ]
        },
        {
          "output_type": "display_data",
          "data": {
            "text/plain": [
              "<Figure size 432x288 with 1 Axes>"
            ],
            "image/png": "[encoded data removed]"
          },
          "metadata": {
            "needs_background": "light"
          }
        },
        {
          "output_type": "stream",
          "name": "stdout",
          "text": [
            "\n",
            "valid\n",
            "plants 1\n",
            "cactus 1\n",
            "small_hierarchy [0, 0, 1]\n",
            "  animals [0, 0, 0, 0]\n",
            "    alligator []\n",
            "    mammals []\n",
            "    salamanders []\n",
            "    snake []\n",
            "  objects [0, 0, 0]\n",
            "    automobiles []\n",
            "    bicycles []\n",
            "    boats []\n",
            "  plants [1, 0, 0]\n",
            "    cactus []\n",
            "    hedges []\n",
            "    shrubs []\n",
            "\n",
            "predicted\n",
            "objects 0.5616941452026367\n",
            "automobiles 0.3810085356235504\n",
            "small_hierarchy [0.24845968 0.56169415 0.18984619]\n",
            "  animals [0.22665586 0.37543786 0.24095212 0.15695412]\n",
            "    alligator []\n",
            "    mammals []\n",
            "    salamanders []\n",
            "    snake []\n",
            "  objects [0.38100854 0.2914434  0.32754803]\n",
            "    automobiles []\n",
            "    bicycles []\n",
            "    boats []\n",
            "  plants [0.17888846 0.36095738 0.46015418]\n",
            "    cactus []\n",
            "    hedges []\n",
            "    shrubs []\n",
            "logits [0, 0, 0, 0, 0.38100854, 0.2914434, 0.32754803, 0, 0, 0]\n"
          ]
        },
        {
          "output_type": "display_data",
          "data": {
            "text/plain": [
              "<Figure size 432x288 with 1 Axes>"
            ],
            "image/png": "[encoded data removed]"
          },
          "metadata": {
            "needs_background": "light"
          }
        },
        {
          "output_type": "stream",
          "name": "stdout",
          "text": [
            "\n",
            "valid\n",
            "plants 1\n",
            "hedges 1\n",
            "small_hierarchy [0, 0, 1]\n",
            "  animals [0, 0, 0, 0]\n",
            "    alligator []\n",
            "    mammals []\n",
            "    salamanders []\n",
            "    snake []\n",
            "  objects [0, 0, 0]\n",
            "    automobiles []\n",
            "    bicycles []\n",
            "    boats []\n",
            "  plants [0, 1, 0]\n",
            "    cactus []\n",
            "    hedges []\n",
            "    shrubs []\n",
            "\n",
            "predicted\n",
            "objects 0.39153188467025757\n",
            "automobiles 0.3835965692996979\n",
            "small_hierarchy [0.30331683 0.39153188 0.30515125]\n",
            "  animals [0.2442704  0.29284382 0.2636394  0.19924639]\n",
            "    alligator []\n",
            "    mammals []\n",
            "    salamanders []\n",
            "    snake []\n",
            "  objects [0.38359657 0.30130598 0.31509745]\n",
            "    automobiles []\n",
            "    bicycles []\n",
            "    boats []\n",
            "  plants [0.22222318 0.354201   0.42357582]\n",
            "    cactus []\n",
            "    hedges []\n",
            "    shrubs []\n",
            "logits [0, 0, 0, 0, 0.38359657, 0.30130598, 0.31509745, 0, 0, 0]\n"
          ]
        },
        {
          "output_type": "display_data",
          "data": {
            "text/plain": [
              "<Figure size 432x288 with 1 Axes>"
            ],
            "image/png": "[encoded data removed]"
          },
          "metadata": {
            "needs_background": "light"
          }
        },
        {
          "output_type": "stream",
          "name": "stdout",
          "text": [
            "\n",
            "valid\n",
            "plants 1\n",
            "hedges 1\n",
            "small_hierarchy [0, 0, 1]\n",
            "  animals [0, 0, 0, 0]\n",
            "    alligator []\n",
            "    mammals []\n",
            "    salamanders []\n",
            "    snake []\n",
            "  objects [0, 0, 0]\n",
            "    automobiles []\n",
            "    bicycles []\n",
            "    boats []\n",
            "  plants [0, 1, 0]\n",
            "    cactus []\n",
            "    hedges []\n",
            "    shrubs []\n",
            "\n",
            "predicted\n",
            "objects 0.38098302483558655\n",
            "automobiles 0.38529014587402344\n",
            "small_hierarchy [0.295846   0.38098302 0.32317096]\n",
            "  animals [0.22659741 0.3094921  0.27824444 0.18566602]\n",
            "    alligator []\n",
            "    mammals []\n",
            "    salamanders []\n",
            "    snake []\n",
            "  objects [0.38529015 0.32972527 0.28498462]\n",
            "    automobiles []\n",
            "    bicycles []\n",
            "    boats []\n",
            "  plants [0.24382813 0.3417031  0.4144688 ]\n",
            "    cactus []\n",
            "    hedges []\n",
            "    shrubs []\n",
            "logits [0, 0, 0, 0, 0.38529015, 0.32972527, 0.28498462, 0, 0, 0]\n"
          ]
        },
        {
          "output_type": "display_data",
          "data": {
            "text/plain": [
              "<Figure size 432x288 with 1 Axes>"
            ],
            "image/png": "[encoded data removed]"
          },
          "metadata": {
            "needs_background": "light"
          }
        },
        {
          "output_type": "stream",
          "name": "stdout",
          "text": [
            "\n",
            "valid\n",
            "plants 1\n",
            "shrubs 1\n",
            "small_hierarchy [0, 0, 1]\n",
            "  animals [0, 0, 0, 0]\n",
            "    alligator []\n",
            "    mammals []\n",
            "    salamanders []\n",
            "    snake []\n",
            "  objects [0, 0, 0]\n",
            "    automobiles []\n",
            "    bicycles []\n",
            "    boats []\n",
            "  plants [0, 0, 1]\n",
            "    cactus []\n",
            "    hedges []\n",
            "    shrubs []\n",
            "\n",
            "predicted\n",
            "objects 0.378107488155365\n",
            "automobiles 0.3895978629589081\n",
            "small_hierarchy [0.3109226  0.3781075  0.31096992]\n",
            "  animals [0.23820187 0.29524294 0.2580747  0.2084805 ]\n",
            "    alligator []\n",
            "    mammals []\n",
            "    salamanders []\n",
            "    snake []\n",
            "  objects [0.38959786 0.29722613 0.313176  ]\n",
            "    automobiles []\n",
            "    bicycles []\n",
            "    boats []\n",
            "  plants [0.24184878 0.35752895 0.40062222]\n",
            "    cactus []\n",
            "    hedges []\n",
            "    shrubs []\n",
            "logits [0, 0, 0, 0, 0.38959786, 0.29722613, 0.313176, 0, 0, 0]\n"
          ]
        },
        {
          "output_type": "display_data",
          "data": {
            "text/plain": [
              "<Figure size 432x288 with 1 Axes>"
            ],
            "image/png": "[encoded data removed]"
          },
          "metadata": {
            "needs_background": "light"
          }
        },
        {
          "output_type": "stream",
          "name": "stdout",
          "text": [
            "\n",
            "valid\n",
            "plants 1\n",
            "shrubs 1\n",
            "small_hierarchy [0, 0, 1]\n",
            "  animals [0, 0, 0, 0]\n",
            "    alligator []\n",
            "    mammals []\n",
            "    salamanders []\n",
            "    snake []\n",
            "  objects [0, 0, 0]\n",
            "    automobiles []\n",
            "    bicycles []\n",
            "    boats []\n",
            "  plants [0, 0, 1]\n",
            "    cactus []\n",
            "    hedges []\n",
            "    shrubs []\n",
            "\n",
            "predicted\n",
            "objects 0.5022587180137634\n",
            "automobiles 0.38084346055984497\n",
            "small_hierarchy [0.2573451  0.5022587  0.24039617]\n",
            "  animals [0.22524975 0.36500666 0.2300907  0.1796529 ]\n",
            "    alligator []\n",
            "    mammals []\n",
            "    salamanders []\n",
            "    snake []\n",
            "  objects [0.38084346 0.31151032 0.30764624]\n",
            "    automobiles []\n",
            "    bicycles []\n",
            "    boats []\n",
            "  plants [0.19094823 0.3657425  0.44330925]\n",
            "    cactus []\n",
            "    hedges []\n",
            "    shrubs []\n",
            "logits [0, 0, 0, 0, 0.38084346, 0.31151032, 0.30764624, 0, 0, 0]\n"
          ]
        },
        {
          "output_type": "display_data",
          "data": {
            "text/plain": [
              "<Figure size 432x288 with 1 Axes>"
            ],
            "image/png": "[encoded data removed]"
          },
          "metadata": {
            "needs_background": "light"
          }
        },
        {
          "output_type": "stream",
          "name": "stdout",
          "text": [
            "\n",
            "valid\n",
            "plants 1\n",
            "shrubs 1\n",
            "small_hierarchy [0, 0, 1]\n",
            "  animals [0, 0, 0, 0]\n",
            "    alligator []\n",
            "    mammals []\n",
            "    salamanders []\n",
            "    snake []\n",
            "  objects [0, 0, 0]\n",
            "    automobiles []\n",
            "    bicycles []\n",
            "    boats []\n",
            "  plants [0, 0, 1]\n",
            "    cactus []\n",
            "    hedges []\n",
            "    shrubs []\n",
            "\n",
            "predicted\n",
            "objects 0.3677918314933777\n",
            "automobiles 0.41413187980651855\n",
            "small_hierarchy [0.33889076 0.36779183 0.2933174 ]\n",
            "  animals [0.23547684 0.31163055 0.2553019  0.19759072]\n",
            "    alligator []\n",
            "    mammals []\n",
            "    salamanders []\n",
            "    snake []\n",
            "  objects [0.41413188 0.30551714 0.28035098]\n",
            "    automobiles []\n",
            "    bicycles []\n",
            "    boats []\n",
            "  plants [0.25085038 0.34772894 0.4014207 ]\n",
            "    cactus []\n",
            "    hedges []\n",
            "    shrubs []\n",
            "logits [0, 0, 0, 0, 0.41413188, 0.30551714, 0.28035098, 0, 0, 0]\n",
            "\n",
            "average validation accuracy 0.117647\n",
            "top 5 accuracy 0.76\n"
          ]
        }
      ]
    },
    {
      "cell_type": "code",
      "source": [
        "for logit in logits:\n",
        "  print(str(logit))"
      ],
      "metadata": {
        "colab": {
          "base_uri": "https://localhost:8080/"
        },
        "id": "R0NX476J3xOH",
        "outputId": "2ed212db-c242-4600-c540-6c2c41a33c23"
      },
      "execution_count": 16,
      "outputs": [
        {
          "output_type": "stream",
          "name": "stdout",
          "text": [
            "[0, 0, 0, 0, 0.37869713, 0.31530926, 0.30599362, 0, 0, 0]\n",
            "[0, 0, 0, 0, 0.4029434, 0.3032698, 0.29378676, 0, 0, 0]\n",
            "[0, 0, 0, 0, 0.37749654, 0.32931736, 0.2931861, 0, 0, 0]\n",
            "[0, 0, 0, 0, 0.40469572, 0.3210176, 0.2742867, 0, 0, 0]\n",
            "[0, 0, 0, 0, 0.42307472, 0.29162616, 0.28529912, 0, 0, 0]\n",
            "[0, 0, 0, 0, 0.37340292, 0.3045827, 0.3220144, 0, 0, 0]\n",
            "[0, 0, 0, 0, 0.3935693, 0.28355762, 0.32287306, 0, 0, 0]\n",
            "[0, 0, 0, 0, 0.37520146, 0.3413904, 0.28340808, 0, 0, 0]\n",
            "[0, 0, 0, 0, 0.36766684, 0.31317097, 0.31916216, 0, 0, 0]\n",
            "[0, 0, 0, 0, 0.43483746, 0.29084596, 0.27431655, 0, 0, 0]\n",
            "[0, 0, 0, 0, 0.38811353, 0.29712015, 0.31476632, 0, 0, 0]\n",
            "[0, 0, 0, 0, 0.38100854, 0.2914434, 0.32754803, 0, 0, 0]\n",
            "[0, 0, 0, 0, 0.38359657, 0.30130598, 0.31509745, 0, 0, 0]\n",
            "[0, 0, 0, 0, 0.38529015, 0.32972527, 0.28498462, 0, 0, 0]\n",
            "[0, 0, 0, 0, 0.38959786, 0.29722613, 0.313176, 0, 0, 0]\n",
            "[0, 0, 0, 0, 0.38084346, 0.31151032, 0.30764624, 0, 0, 0]\n",
            "[0, 0, 0, 0, 0.41413188, 0.30551714, 0.28035098, 0, 0, 0]\n"
          ]
        }
      ]
    },
    {
      "cell_type": "markdown",
      "source": [
        "SAVE AND LOAD IMAGES AND MODELS"
      ],
      "metadata": {
        "id": "L9KsH_zuk9BM"
      }
    },
    {
      "cell_type": "code",
      "source": [
        "MODEL.save()"
      ],
      "metadata": {
        "colab": {
          "base_uri": "https://localhost:8080/"
        },
        "id": "gW0la8wR9VfL",
        "outputId": "7046766b-ccee-429d-ecec-064ea5380863"
      },
      "execution_count": null,
      "outputs": [
        {
          "output_type": "stream",
          "name": "stdout",
          "text": [
            "small_hierarchy\n",
            "INFO:tensorflow:Assets written to: /content/drive/My Drive/Colab Notebooks/models/model1/assets\n",
            "animals\n",
            "INFO:tensorflow:Assets written to: /content/drive/My Drive/Colab Notebooks/models/model2/assets\n",
            "objects\n",
            "INFO:tensorflow:Assets written to: /content/drive/My Drive/Colab Notebooks/models/model3/assets\n",
            "plants\n",
            "INFO:tensorflow:Assets written to: /content/drive/My Drive/Colab Notebooks/models/model4/assets\n",
            "INFO:tensorflow:Assets written to: ram://70f9b567-f224-4a52-a6cd-74d66aa2255c/assets\n",
            "INFO:tensorflow:Assets written to: ram://9cdc932a-1cdd-457c-b921-d13a477cdd12/assets\n",
            "INFO:tensorflow:Assets written to: ram://4c1bafd3-50cb-4fdb-b6d5-b46478c19d78/assets\n",
            "INFO:tensorflow:Assets written to: ram://55e6e9c8-c81c-459f-b81d-89d4e21d271d/assets\n"
          ]
        }
      ]
    },
    {
      "cell_type": "markdown",
      "source": [
        "When reloading a model and its images, set initialize_now = False, otherwise loads images all over again"
      ],
      "metadata": {
        "id": "3oHaVlztbinL"
      }
    },
    {
      "cell_type": "code",
      "source": [
        "initialize_now = False\n",
        "RELOAD = Umbrella_Network(network_type,images_folder,serial_file,models_folder,target_image_size,channels,levels,valid_ratio,test_ratio,initialize_now)\n",
        "RELOAD.load()\n",
        "RELOAD.traverse_training_data()"
      ],
      "metadata": {
        "colab": {
          "base_uri": "https://localhost:8080/"
        },
        "id": "wEBwIZZL9Zww",
        "outputId": "c273b116-d0f7-40e9-e69a-8b574f3991ef"
      },
      "execution_count": null,
      "outputs": [
        {
          "output_type": "stream",
          "name": "stdout",
          "text": [
            "model loaded into small_hierarchy\n",
            "model loaded into animals\n",
            "model loaded into objects\n",
            "model loaded into plants\n",
            "could not load model for alligator\n",
            "could not load model for mammals\n",
            "could not load model for salamanders\n",
            "could not load model for snake\n",
            "could not load model for automobiles\n",
            "could not load model for bicycles\n",
            "could not load model for boats\n",
            "could not load model for cactus\n",
            "could not load model for hedges\n",
            "could not load model for shrubs\n",
            "small_hierarchy trainX 154 (154,) trainY 154 (154, 3)\n",
            "   animals trainX 39 (39,) trainY 39 (39, 4)\n",
            "      alligator trainX 0 (0,) trainY 0 (0,)\n",
            "      mammals trainX 0 (0,) trainY 0 (0,)\n",
            "      salamanders trainX 0 (0,) trainY 0 (0,)\n",
            "      snake trainX 0 (0,) trainY 0 (0,)\n",
            "   objects trainX 57 (57,) trainY 57 (57, 3)\n",
            "      automobiles trainX 0 (0,) trainY 0 (0,)\n",
            "      bicycles trainX 0 (0,) trainY 0 (0,)\n",
            "      boats trainX 0 (0,) trainY 0 (0,)\n",
            "   plants trainX 58 (58,) trainY 58 (58, 3)\n",
            "      cactus trainX 0 (0,) trainY 0 (0,)\n",
            "      hedges trainX 0 (0,) trainY 0 (0,)\n",
            "      shrubs trainX 0 (0,) trainY 0 (0,)\n"
          ]
        }
      ]
    },
    {
      "cell_type": "code",
      "metadata": {
        "colab": {
          "base_uri": "https://localhost:8080/"
        },
        "outputId": "9a3daacb-e0c8-4d55-a15b-3356c89ba966",
        "id": "idgP1SewEIY7"
      },
      "source": [
        "RELOAD.get_training_accuracy()\n",
        "logits = RELOAD.predict_validation_set(verbose=False) # set verbose=True to view all the images\n",
        "RELOAD.predict_validation_top5()"
      ],
      "execution_count": null,
      "outputs": [
        {
          "output_type": "stream",
          "name": "stdout",
          "text": [
            "average training accuracy 0.340432\n",
            "average training loss 1.170876\n",
            "WARNING:tensorflow:5 out of the last 9 calls to <function Model.make_predict_function.<locals>.predict_function at 0x7f3e2b21acb0> triggered tf.function retracing. Tracing is expensive and the excessive number of tracings could be due to (1) creating @tf.function repeatedly in a loop, (2) passing tensors with different shapes, (3) passing Python objects instead of tensors. For (1), please define your @tf.function outside of the loop. For (2), @tf.function has experimental_relax_shapes=True option that relaxes argument shapes that can avoid unnecessary retracing. For (3), please refer to https://www.tensorflow.org/guide/function#controlling_retracing and https://www.tensorflow.org/api_docs/python/tf/function for  more details.\n",
            "WARNING:tensorflow:6 out of the last 10 calls to <function Model.make_predict_function.<locals>.predict_function at 0x7f3e2b35d680> triggered tf.function retracing. Tracing is expensive and the excessive number of tracings could be due to (1) creating @tf.function repeatedly in a loop, (2) passing tensors with different shapes, (3) passing Python objects instead of tensors. For (1), please define your @tf.function outside of the loop. For (2), @tf.function has experimental_relax_shapes=True option that relaxes argument shapes that can avoid unnecessary retracing. For (3), please refer to https://www.tensorflow.org/guide/function#controlling_retracing and https://www.tensorflow.org/api_docs/python/tf/function for  more details.\n",
            "17\n",
            "\n",
            "average validation accuracy 0.294118\n",
            "top 5 accuracy 0.71\n"
          ]
        }
      ]
    },
    {
      "cell_type": "code",
      "source": [
        "for logit in logits:\n",
        "  print(str(logit))"
      ],
      "metadata": {
        "colab": {
          "base_uri": "https://localhost:8080/"
        },
        "id": "2TMU88oOEILh",
        "outputId": "5dc18f11-56c7-41ca-be5b-2aeb4df808c9"
      },
      "execution_count": null,
      "outputs": [
        {
          "output_type": "stream",
          "name": "stdout",
          "text": [
            "[0.18529476, 0.25248244, 0.27170557, 0.29051724, 0.31908724, 0.31276992, 0.3681428, 0.23021118, 0.357819, 0.41196984]\n",
            "[0.19270265, 0.2525527, 0.2703126, 0.28443205, 0.3197475, 0.32708338, 0.35316914, 0.25045794, 0.36152667, 0.3880154]\n",
            "[0.1818849, 0.25279826, 0.26881886, 0.29649797, 0.30718923, 0.31081423, 0.38199654, 0.2586387, 0.36678874, 0.37457252]\n",
            "[0.18599825, 0.25252634, 0.27129334, 0.29018208, 0.3299128, 0.33006757, 0.34001964, 0.21406044, 0.35749575, 0.42844373]\n",
            "[0.18479723, 0.25266343, 0.27011964, 0.29241967, 0.3122911, 0.31181952, 0.37588933, 0.2391151, 0.3523212, 0.40856376]\n",
            "[0.18490295, 0.25314394, 0.2657122, 0.29624093, 0.31797725, 0.3053196, 0.3767031, 0.22822763, 0.35002524, 0.42174715]\n",
            "[0.19633989, 0.25315046, 0.272974, 0.27753568, 0.31659374, 0.311776, 0.37163022, 0.23233402, 0.3606626, 0.4070034]\n",
            "[0.18410124, 0.25256342, 0.27411595, 0.2892194, 0.3329497, 0.3008633, 0.36618704, 0.23261616, 0.35040873, 0.41697508]\n",
            "[0.13864358, 0.24878599, 0.28182676, 0.33074367, 0.23677261, 0.2687827, 0.49444467, 0.17869718, 0.37244084, 0.44886202]\n",
            "[0.17479774, 0.25243342, 0.27124172, 0.3015271, 0.28266576, 0.2763041, 0.44103017, 0.23275833, 0.36058986, 0.40665182]\n",
            "[0.18767424, 0.25299785, 0.26701477, 0.29231316, 0.3045436, 0.29955202, 0.39590433, 0.21003178, 0.3518471, 0.43812114]\n",
            "[0.19571786, 0.2528518, 0.2671971, 0.2842332, 0.2990823, 0.3141565, 0.38676116, 0.2529488, 0.36198562, 0.38506556]\n",
            "[0.1834047, 0.2529217, 0.26226678, 0.3014068, 0.2683437, 0.3077586, 0.42389768, 0.28346398, 0.37233567, 0.34420034]\n",
            "[0.1970602, 0.252964, 0.2659392, 0.2840366, 0.30818272, 0.31947237, 0.37234488, 0.26752478, 0.35942584, 0.37304935]\n",
            "[0.17591901, 0.25232, 0.27253416, 0.29922685, 0.2858856, 0.30578014, 0.40833429, 0.23757613, 0.3565457, 0.40587816]\n",
            "[0.20309462, 0.25283256, 0.26533478, 0.27873802, 0.3090093, 0.3049825, 0.3860081, 0.24901009, 0.35496676, 0.39602318]\n",
            "[0.17968197, 0.2526403, 0.27009663, 0.29758108, 0.26984417, 0.29982275, 0.43033305, 0.24692419, 0.36097336, 0.39210242]\n"
          ]
        }
      ]
    }
  ]
}