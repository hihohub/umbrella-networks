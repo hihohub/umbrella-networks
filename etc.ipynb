{
  "nbformat": 4,
  "nbformat_minor": 0,
  "metadata": {
    "colab": {
      "name": "etc.ipynb",
      "provenance": [],
      "collapsed_sections": [],
      "authorship_tag": "ABX9TyOgzG6Go0BLNwoTF19YLxpK",
      "include_colab_link": true
    },
    "kernelspec": {
      "display_name": "Python 3",
      "name": "python3"
    },
    "accelerator": "GPU"
  },
  "cells": [
    {
      "cell_type": "markdown",
      "metadata": {
        "id": "view-in-github",
        "colab_type": "text"
      },
      "source": [
        "<a href=\"https://colab.research.google.com/github/hihohub/umbrella-networks/blob/main/etc.ipynb\" target=\"_parent\"><img src=\"https://colab.research.google.com/assets/colab-badge.svg\" alt=\"Open In Colab\"/></a>"
      ]
    },
    {
      "cell_type": "markdown",
      "metadata": {
        "id": "c_XIVILg3qDA"
      },
      "source": [
        "- Umbrella networks\n",
        "- copyright 2021 by James Smith\n",
        "- contact - derekjsmit@gmail.com"
      ]
    },
    {
      "cell_type": "markdown",
      "source": [
        "Demonstration instructions\n",
        "- Examples of helpful functions like save, load, and display predicted labels.\n",
        "- Organize your image files into folders by category. For example, (book covers) -> (scifi), (fantasy), (mystery).\n",
        "- First, run the large cell containing the umbrella code, then scroll down 1333 lines to the experiment.\n",
        "- Change the folder name in the demonstration code to your folder path.\n",
        "- The rest of the code should work as written.\n",
        "- Set 'levels' to anywhere from 1 to the number of layers in your folder structure. If levels=1, images from lower level folders are compressed into the outer level folders. If levels > 1, umbrella networks are formed recursively, one for each outer folder and each subfolder within the outer folders, up to the specified number of levels. The inner folders do not each require the same number of levels, but must have at least as many levels as the value specified for 'levels'."
      ],
      "metadata": {
        "id": "VMGFoeIp45yV"
      }
    },
    {
      "cell_type": "markdown",
      "metadata": {
        "id": "9de5nqYI6ZPu"
      },
      "source": [
        "Umbrella network instructions<br/>\n",
        "- The umbrella code was designed for reading a local folder and automatically constructing the hierarchical network from the implicit hierarchy in the subfolders.\n",
        "- If have images in folders, initialize with images_folder = path. Umbrella network constructs tree by itself. Refer to examples.\n",
        "- However, it also has functions for reading the data from an online repository and building the tree node by node (since the data has no folder structure).\n",
        "- If loading data from repository, initialize with images_folder = None, then use repo functions. Must first preprocess the data (normalize, reshape). Only process x data, not labels. Umbrella network constructs labels by itself. However, subdivide classes by label, then manually construct tree with repo functions. Finally, init_from_repo(). Refer to examples.\n",
        "- In repo mode, umbrella network throws away labels and makes its own. For example, if divide MNIST into odd and even numbers, each subset will have labels 0-4. Hence, anything other than flat topology requires that the umbrella network form new labels.\n",
        "\n",
        "\n",
        "\n",
        "\n"
      ]
    },
    {
      "cell_type": "code",
      "metadata": {
        "colab": {
          "base_uri": "https://localhost:8080/"
        },
        "id": "rDvh7kWFVup9",
        "outputId": "83d56f21-beb7-42b7-97a5-bcf30608dafb"
      },
      "source": [
        "from google.colab import drive\n",
        "drive.mount('/content/drive')\n"
      ],
      "execution_count": null,
      "outputs": [
        {
          "output_type": "stream",
          "name": "stdout",
          "text": [
            "Mounted at /content/drive\n"
          ]
        }
      ]
    },
    {
      "cell_type": "markdown",
      "metadata": {
        "id": "vB6R2fVSYvyx"
      },
      "source": [
        "%%%%%%%%%%%%%%%%%%<br/>\n",
        "UMBRELLA NETWORK<br/>\n",
        "%%%%%%%%%%%%%%%%%%<br/>"
      ]
    },
    {
      "cell_type": "code",
      "source": [
        "! wget https://raw.githubusercontent.com/hihohub/umbrella-networks/main/umbrella.py"
      ],
      "metadata": {
        "colab": {
          "base_uri": "https://localhost:8080/"
        },
        "id": "hGDve97aaf5o",
        "outputId": "db00bad4-a362-45ea-83e6-1533425625a4"
      },
      "execution_count": null,
      "outputs": [
        {
          "output_type": "stream",
          "name": "stdout",
          "text": [
            "--2022-04-15 04:27:27--  https://raw.githubusercontent.com/hihohub/umbrella-networks/main/umbrella.py\n",
            "Resolving raw.githubusercontent.com (raw.githubusercontent.com)... 185.199.108.133, 185.199.109.133, 185.199.110.133, ...\n",
            "Connecting to raw.githubusercontent.com (raw.githubusercontent.com)|185.199.108.133|:443... connected.\n",
            "HTTP request sent, awaiting response... 200 OK\n",
            "Length: 48219 (47K) [text/plain]\n",
            "Saving to: ‘umbrella.py’\n",
            "\n",
            "\rumbrella.py           0%[                    ]       0  --.-KB/s               \rumbrella.py         100%[===================>]  47.09K  --.-KB/s    in 0.001s  \n",
            "\n",
            "2022-04-15 04:27:27 (45.6 MB/s) - ‘umbrella.py’ saved [48219/48219]\n",
            "\n"
          ]
        }
      ]
    },
    {
      "cell_type": "code",
      "source": [
        "from umbrella import Umbrella_Network,Umbrella_Label,Umbrella_Node,Joint_Probability_Network"
      ],
      "metadata": {
        "id": "PCkYzF4gbKqP"
      },
      "execution_count": null,
      "outputs": []
    },
    {
      "cell_type": "code",
      "source": [
        "import os\n",
        "import sys\n",
        "import numpy as np\n",
        "import math\n",
        "import random\n",
        "from PIL import Image, ImageOps, ImageChops\n",
        "import cv2\n",
        "import tensorflow as tf\n",
        "from tensorflow.keras.preprocessing import image\n",
        "from tensorflow.keras.models import Sequential, Model, load_model\n",
        "from tensorflow.keras.layers import Input, Conv2D, MaxPool2D, Flatten, Dense, add, BatchNormalization, Dropout, AveragePooling2D, GlobalAveragePooling2D, SeparableConv2D\n",
        "from tensorflow.keras.utils import to_categorical\n",
        "from tensorflow.python.framework.ops import disable_eager_execution\n",
        "from tensorflow.keras import backend as backend\n",
        "from keras.callbacks import ReduceLROnPlateau\n",
        "from sklearn.utils import shuffle\n",
        "import matplotlib.pyplot as plt\n",
        "import pickle\n",
        "import copy\n",
        "import time"
      ],
      "metadata": {
        "id": "NKZG7Q4MbvQd"
      },
      "execution_count": null,
      "outputs": []
    },
    {
      "cell_type": "markdown",
      "source": [
        "- ##################\n",
        "- Demonstrate helpful functions\n",
        "- when predicting validation or test images, set verbose=True to view images and predicted labels\n",
        "- save images separately from models, always save images first\n",
        "- load both when reloading, always load images first\n",
        "- ##################"
      ],
      "metadata": {
        "id": "9Gg9BM7j6OFD"
      }
    },
    {
      "cell_type": "markdown",
      "source": [
        "SIGMOID ON SMALL MULTI-LAYER STRUCTURE COMPRESSED INTO TOP LEVEL FOLDERS"
      ],
      "metadata": {
        "id": "Crv3EjsfXWW5"
      }
    },
    {
      "cell_type": "code",
      "metadata": {
        "id": "5pDX_vxhUt2y"
      },
      "source": [
        "network_type = 'sigmoid'\n",
        "images_folder = \"/content/drive/My Drive/5390/project/small_hierarchy\"\n",
        "serial_file = \"/content/drive/My Drive/Colab Notebooks/small_hierarchy.dat\"\n",
        "models_folder = \"/content/drive/My Drive/Colab Notebooks/models\"\n",
        "target_image_size = 30\n",
        "levels = 2\n",
        "channels = 3\n",
        "valid_ratio = 0.1 # validation set\n",
        "test_ratio = 0.0 # test set\n",
        "initialize_now = True\n",
        "MODEL = Umbrella_Network(network_type,images_folder,serial_file,models_folder,target_image_size,channels,levels,valid_ratio,test_ratio,initialize_now)"
      ],
      "execution_count": null,
      "outputs": []
    },
    {
      "cell_type": "code",
      "source": [
        "MODEL.traverse_training_data()"
      ],
      "metadata": {
        "colab": {
          "base_uri": "https://localhost:8080/"
        },
        "id": "fzqGd-17UtoO",
        "outputId": "a5996c19-190c-447e-96a0-ec8edcd72b0a"
      },
      "execution_count": null,
      "outputs": [
        {
          "output_type": "stream",
          "name": "stdout",
          "text": [
            "small_hierarchy trainX 0 (0,) trainY 0 (0,)\n",
            "   animals trainX 79 (79,) trainY 79 (79,)\n",
            "      alligator trainX 11 (11,) trainY 11 (11,)\n",
            "      mammals trainX 33 (33,) trainY 33 (33,)\n",
            "      salamanders trainX 18 (18,) trainY 18 (18,)\n",
            "      snake trainX 18 (18,) trainY 18 (18,)\n",
            "   objects trainX 115 (115,) trainY 115 (115,)\n",
            "      automobiles trainX 39 (39,) trainY 39 (39,)\n",
            "      bicycles trainX 31 (31,) trainY 31 (31,)\n",
            "      boats trainX 47 (47,) trainY 47 (47,)\n",
            "   plants trainX 116 (116,) trainY 116 (116,)\n",
            "      cactus trainX 27 (27,) trainY 27 (27,)\n",
            "      hedges trainX 39 (39,) trainY 39 (39,)\n",
            "      shrubs trainX 52 (52,) trainY 52 (52,)\n"
          ]
        }
      ]
    },
    {
      "cell_type": "code",
      "source": [
        "MODEL.make_models()"
      ],
      "metadata": {
        "colab": {
          "base_uri": "https://localhost:8080/"
        },
        "id": "ZAgELDESEzbS",
        "outputId": "00309f9a-86ec-44cb-99b9-dd45b4bacf5d"
      },
      "execution_count": null,
      "outputs": [
        {
          "output_type": "stream",
          "name": "stdout",
          "text": [
            "making model for animals\n",
            "making model for alligator\n",
            "making model for mammals\n",
            "making model for salamanders\n",
            "making model for snake\n",
            "making model for objects\n",
            "making model for automobiles\n",
            "making model for bicycles\n",
            "making model for boats\n",
            "making model for plants\n",
            "making model for cactus\n",
            "making model for hedges\n",
            "making model for shrubs\n"
          ]
        }
      ]
    },
    {
      "cell_type": "code",
      "metadata": {
        "colab": {
          "base_uri": "https://localhost:8080/"
        },
        "outputId": "29ef5cfd-3638-45bf-ca62-273a20a640ed",
        "id": "tB38nLcoVSzo"
      },
      "source": [
        "MODEL.train_models(eps=1,batch=10,aug=False,vrb=True)"
      ],
      "execution_count": null,
      "outputs": [
        {
          "output_type": "stream",
          "name": "stdout",
          "text": [
            "training model for animals\n",
            "trainX 79\n",
            "trainY 79\n",
            "8/8 [==============================] - 10s 9ms/step - loss: 0.7069 - accuracy: 0.4557\n",
            "training model for alligator\n",
            "trainX 11\n",
            "trainY 11\n",
            "2/2 [==============================] - 1s 338ms/step - loss: 0.7198 - accuracy: 0.4545\n",
            "training model for mammals\n",
            "trainX 33\n",
            "trainY 33\n",
            "4/4 [==============================] - 0s 14ms/step - loss: 0.6998 - accuracy: 0.5152\n",
            "training model for salamanders\n",
            "trainX 18\n",
            "trainY 18\n",
            "2/2 [==============================] - 0s 38ms/step - loss: 0.7169 - accuracy: 0.3889\n",
            "training model for snake\n",
            "trainX 18\n",
            "trainY 18\n",
            "WARNING:tensorflow:5 out of the last 17 calls to <function Model.make_train_function.<locals>.train_function at 0x7f19503cbb90> triggered tf.function retracing. Tracing is expensive and the excessive number of tracings could be due to (1) creating @tf.function repeatedly in a loop, (2) passing tensors with different shapes, (3) passing Python objects instead of tensors. For (1), please define your @tf.function outside of the loop. For (2), @tf.function has experimental_relax_shapes=True option that relaxes argument shapes that can avoid unnecessary retracing. For (3), please refer to https://www.tensorflow.org/guide/function#controlling_retracing and https://www.tensorflow.org/api_docs/python/tf/function for  more details.\n",
            "2/2 [==============================] - 0s 9ms/step - loss: 0.6954 - accuracy: 0.4444\n",
            "training model for objects\n",
            "trainX 115\n",
            "trainY 115\n",
            "WARNING:tensorflow:5 out of the last 11 calls to <function Model.make_train_function.<locals>.train_function at 0x7f1950309560> triggered tf.function retracing. Tracing is expensive and the excessive number of tracings could be due to (1) creating @tf.function repeatedly in a loop, (2) passing tensors with different shapes, (3) passing Python objects instead of tensors. For (1), please define your @tf.function outside of the loop. For (2), @tf.function has experimental_relax_shapes=True option that relaxes argument shapes that can avoid unnecessary retracing. For (3), please refer to https://www.tensorflow.org/guide/function#controlling_retracing and https://www.tensorflow.org/api_docs/python/tf/function for  more details.\n",
            "12/12 [==============================] - 0s 6ms/step - loss: 0.7055 - accuracy: 0.4957\n",
            "training model for automobiles\n",
            "trainX 39\n",
            "trainY 39\n",
            "4/4 [==============================] - 0s 5ms/step - loss: 0.6874 - accuracy: 0.5641\n",
            "training model for bicycles\n",
            "trainX 31\n",
            "trainY 31\n",
            "4/4 [==============================] - 0s 5ms/step - loss: 0.7392 - accuracy: 0.4839\n",
            "training model for boats\n",
            "trainX 47\n",
            "trainY 47\n",
            "5/5 [==============================] - 0s 11ms/step - loss: 0.7143 - accuracy: 0.4468\n",
            "training model for plants\n",
            "trainX 116\n",
            "trainY 116\n",
            "12/12 [==============================] - 0s 6ms/step - loss: 0.6763 - accuracy: 0.5345\n",
            "training model for cactus\n",
            "trainX 27\n",
            "trainY 27\n",
            "3/3 [==============================] - 0s 6ms/step - loss: 0.6972 - accuracy: 0.5185\n",
            "training model for hedges\n",
            "trainX 39\n",
            "trainY 39\n",
            "4/4 [==============================] - 0s 6ms/step - loss: 0.7224 - accuracy: 0.4615\n",
            "training model for shrubs\n",
            "trainX 52\n",
            "trainY 52\n",
            "6/6 [==============================] - 0s 9ms/step - loss: 0.6995 - accuracy: 0.4808\n"
          ]
        }
      ]
    },
    {
      "cell_type": "code",
      "metadata": {
        "colab": {
          "base_uri": "https://localhost:8080/",
          "height": 1000
        },
        "outputId": "0f61f022-b9ea-4bde-a2c9-be5144779961",
        "id": "7tb-i-tHVV3g"
      },
      "source": [
        "MODEL.get_training_accuracy()\n",
        "MODEL.predict_validation_set(verbose=True) # set verbose=True to view all the images\n",
        "MODEL.predict_validation_top5()"
      ],
      "execution_count": null,
      "outputs": [
        {
          "output_type": "stream",
          "name": "stdout",
          "text": [
            "average training accuracy 0.480344\n",
            "average training loss 0.706202\n",
            "WARNING:tensorflow:5 out of the last 5 calls to <function Model.make_predict_function.<locals>.predict_function at 0x7f195010c3b0> triggered tf.function retracing. Tracing is expensive and the excessive number of tracings could be due to (1) creating @tf.function repeatedly in a loop, (2) passing tensors with different shapes, (3) passing Python objects instead of tensors. For (1), please define your @tf.function outside of the loop. For (2), @tf.function has experimental_relax_shapes=True option that relaxes argument shapes that can avoid unnecessary retracing. For (3), please refer to https://www.tensorflow.org/guide/function#controlling_retracing and https://www.tensorflow.org/api_docs/python/tf/function for  more details.\n",
            "WARNING:tensorflow:6 out of the last 6 calls to <function Model.make_predict_function.<locals>.predict_function at 0x7f18d540bb90> triggered tf.function retracing. Tracing is expensive and the excessive number of tracings could be due to (1) creating @tf.function repeatedly in a loop, (2) passing tensors with different shapes, (3) passing Python objects instead of tensors. For (1), please define your @tf.function outside of the loop. For (2), @tf.function has experimental_relax_shapes=True option that relaxes argument shapes that can avoid unnecessary retracing. For (3), please refer to https://www.tensorflow.org/guide/function#controlling_retracing and https://www.tensorflow.org/api_docs/python/tf/function for  more details.\n",
            "17\n"
          ]
        },
        {
          "output_type": "display_data",
          "data": {
            "text/plain": [
              "<Figure size 432x288 with 1 Axes>"
            ],
            "image/png": "[encoded data removed]"
          },
          "metadata": {
            "needs_background": "light"
          }
        },
        {
          "output_type": "stream",
          "name": "stdout",
          "text": [
            "\n",
            "valid\n",
            "animals 1\n",
            "alligator 1\n",
            "small_hierarchy [1, 0, 0]\n",
            "  animals [1, 0, 0, 0]\n",
            "    alligator []\n",
            "    mammals []\n",
            "    salamanders []\n",
            "    snake []\n",
            "  objects [0, 0, 0]\n",
            "    automobiles []\n",
            "    bicycles []\n",
            "    boats []\n",
            "  plants [0, 0, 0]\n",
            "    cactus []\n",
            "    hedges []\n",
            "    shrubs []\n",
            "\n",
            "predicted\n",
            "objects 0.5371452569961548\n",
            "boats 0.4961076080799103\n",
            "small_hierarchy [0.48399215936660767, 0.5371452569961548, 0.532539427280426]\n",
            "  animals [0.4615330696105957, 0.49391505122184753, 0.4492632746696472, 0.4472190737724304]\n",
            "    alligator []\n",
            "    mammals []\n",
            "    salamanders []\n",
            "    snake []\n",
            "  objects [0.3575744032859802, 0.4129439890384674, 0.4961076080799103]\n",
            "    automobiles []\n",
            "    bicycles []\n",
            "    boats []\n",
            "  plants [0.5030109286308289, 0.3679872751235962, 0.4285881221294403]\n",
            "    cactus []\n",
            "    hedges []\n",
            "    shrubs []\n"
          ]
        },
        {
          "output_type": "display_data",
          "data": {
            "text/plain": [
              "<Figure size 432x288 with 1 Axes>"
            ],
            "image/png": "[encoded data removed]"
          },
          "metadata": {
            "needs_background": "light"
          }
        },
        {
          "output_type": "stream",
          "name": "stdout",
          "text": [
            "\n",
            "valid\n",
            "animals 1\n",
            "mammals 1\n",
            "small_hierarchy [1, 0, 0]\n",
            "  animals [0, 1, 0, 0]\n",
            "    alligator []\n",
            "    mammals []\n",
            "    salamanders []\n",
            "    snake []\n",
            "  objects [0, 0, 0]\n",
            "    automobiles []\n",
            "    bicycles []\n",
            "    boats []\n",
            "  plants [0, 0, 0]\n",
            "    cactus []\n",
            "    hedges []\n",
            "    shrubs []\n",
            "\n",
            "predicted\n",
            "plants 0.5275911092758179\n",
            "cactus 0.5202823877334595\n",
            "small_hierarchy [0.4975723326206207, 0.5244254469871521, 0.5275911092758179]\n",
            "  animals [0.4455568790435791, 0.4868119955062866, 0.46120700240135193, 0.4324253797531128]\n",
            "    alligator []\n",
            "    mammals []\n",
            "    salamanders []\n",
            "    snake []\n",
            "  objects [0.3743806481361389, 0.3842593729496002, 0.5045463442802429]\n",
            "    automobiles []\n",
            "    bicycles []\n",
            "    boats []\n",
            "  plants [0.5202823877334595, 0.39346396923065186, 0.4519208073616028]\n",
            "    cactus []\n",
            "    hedges []\n",
            "    shrubs []\n"
          ]
        },
        {
          "output_type": "display_data",
          "data": {
            "text/plain": [
              "<Figure size 432x288 with 1 Axes>"
            ],
            "image/png": "[encoded data removed]"
          },
          "metadata": {
            "needs_background": "light"
          }
        },
        {
          "output_type": "stream",
          "name": "stdout",
          "text": [
            "\n",
            "valid\n",
            "animals 1\n",
            "mammals 1\n",
            "small_hierarchy [1, 0, 0]\n",
            "  animals [0, 1, 0, 0]\n",
            "    alligator []\n",
            "    mammals []\n",
            "    salamanders []\n",
            "    snake []\n",
            "  objects [0, 0, 0]\n",
            "    automobiles []\n",
            "    bicycles []\n",
            "    boats []\n",
            "  plants [0, 0, 0]\n",
            "    cactus []\n",
            "    hedges []\n",
            "    shrubs []\n",
            "\n",
            "predicted\n",
            "plants 0.5438008904457092\n",
            "cactus 0.488628625869751\n",
            "small_hierarchy [0.48359036445617676, 0.537584662437439, 0.5438008904457092]\n",
            "  animals [0.44762369990348816, 0.4919336438179016, 0.43844661116600037, 0.4431186020374298]\n",
            "    alligator []\n",
            "    mammals []\n",
            "    salamanders []\n",
            "    snake []\n",
            "  objects [0.34932151436805725, 0.39094841480255127, 0.5093994736671448]\n",
            "    automobiles []\n",
            "    bicycles []\n",
            "    boats []\n",
            "  plants [0.488628625869751, 0.3886926472187042, 0.4359206557273865]\n",
            "    cactus []\n",
            "    hedges []\n",
            "    shrubs []\n"
          ]
        },
        {
          "output_type": "display_data",
          "data": {
            "text/plain": [
              "<Figure size 432x288 with 1 Axes>"
            ],
            "image/png": "[encoded data removed]"
          },
          "metadata": {
            "needs_background": "light"
          }
        },
        {
          "output_type": "stream",
          "name": "stdout",
          "text": [
            "\n",
            "valid\n",
            "animals 1\n",
            "salamanders 1\n",
            "small_hierarchy [1, 0, 0]\n",
            "  animals [0, 0, 1, 0]\n",
            "    alligator []\n",
            "    mammals []\n",
            "    salamanders []\n",
            "    snake []\n",
            "  objects [0, 0, 0]\n",
            "    automobiles []\n",
            "    bicycles []\n",
            "    boats []\n",
            "  plants [0, 0, 0]\n",
            "    cactus []\n",
            "    hedges []\n",
            "    shrubs []\n",
            "\n",
            "predicted\n",
            "plants 0.5419476628303528\n",
            "cactus 0.5075687170028687\n",
            "small_hierarchy [0.48665130138397217, 0.5380622744560242, 0.5419476628303528]\n",
            "  animals [0.4519912004470825, 0.47700098156929016, 0.4667128026485443, 0.442737340927124]\n",
            "    alligator []\n",
            "    mammals []\n",
            "    salamanders []\n",
            "    snake []\n",
            "  objects [0.38947242498397827, 0.3932400643825531, 0.5026938915252686]\n",
            "    automobiles []\n",
            "    bicycles []\n",
            "    boats []\n",
            "  plants [0.5075687170028687, 0.37232720851898193, 0.4567742645740509]\n",
            "    cactus []\n",
            "    hedges []\n",
            "    shrubs []\n"
          ]
        },
        {
          "output_type": "display_data",
          "data": {
            "text/plain": [
              "<Figure size 432x288 with 1 Axes>"
            ],
            "image/png": "[encoded data removed]"
          },
          "metadata": {
            "needs_background": "light"
          }
        },
        {
          "output_type": "stream",
          "name": "stdout",
          "text": [
            "\n",
            "valid\n",
            "animals 1\n",
            "snake 1\n",
            "small_hierarchy [1, 0, 0]\n",
            "  animals [0, 0, 0, 1]\n",
            "    alligator []\n",
            "    mammals []\n",
            "    salamanders []\n",
            "    snake []\n",
            "  objects [0, 0, 0]\n",
            "    automobiles []\n",
            "    bicycles []\n",
            "    boats []\n",
            "  plants [0, 0, 0]\n",
            "    cactus []\n",
            "    hedges []\n",
            "    shrubs []\n",
            "\n",
            "predicted\n",
            "objects 0.5606759786605835\n",
            "boats 0.5124273896217346\n",
            "small_hierarchy [0.47824323177337646, 0.5606759786605835, 0.5399994850158691]\n",
            "  animals [0.4351181387901306, 0.4874553978443146, 0.46991589665412903, 0.44290241599082947]\n",
            "    alligator []\n",
            "    mammals []\n",
            "    salamanders []\n",
            "    snake []\n",
            "  objects [0.35641348361968994, 0.37244006991386414, 0.5124273896217346]\n",
            "    automobiles []\n",
            "    bicycles []\n",
            "    boats []\n",
            "  plants [0.5289835333824158, 0.36056625843048096, 0.42520710825920105]\n",
            "    cactus []\n",
            "    hedges []\n",
            "    shrubs []\n"
          ]
        },
        {
          "output_type": "display_data",
          "data": {
            "text/plain": [
              "<Figure size 432x288 with 1 Axes>"
            ],
            "image/png": "[encoded data removed]"
          },
          "metadata": {
            "needs_background": "light"
          }
        },
        {
          "output_type": "stream",
          "name": "stdout",
          "text": [
            "\n",
            "valid\n",
            "objects 1\n",
            "automobiles 1\n",
            "small_hierarchy [0, 1, 0]\n",
            "  animals [0, 0, 0, 0]\n",
            "    alligator []\n",
            "    mammals []\n",
            "    salamanders []\n",
            "    snake []\n",
            "  objects [1, 0, 0]\n",
            "    automobiles []\n",
            "    bicycles []\n",
            "    boats []\n",
            "  plants [0, 0, 0]\n",
            "    cactus []\n",
            "    hedges []\n",
            "    shrubs []\n",
            "\n",
            "predicted\n",
            "objects 0.530635416507721\n",
            "boats 0.5212450623512268\n",
            "small_hierarchy [0.47573918104171753, 0.530635416507721, 0.527158796787262]\n",
            "  animals [0.46229803562164307, 0.479194700717926, 0.45502209663391113, 0.42537710070610046]\n",
            "    alligator []\n",
            "    mammals []\n",
            "    salamanders []\n",
            "    snake []\n",
            "  objects [0.42368051409721375, 0.36375123262405396, 0.5212450623512268]\n",
            "    automobiles []\n",
            "    bicycles []\n",
            "    boats []\n",
            "  plants [0.5205529928207397, 0.3695710599422455, 0.4511156976222992]\n",
            "    cactus []\n",
            "    hedges []\n",
            "    shrubs []\n"
          ]
        },
        {
          "output_type": "display_data",
          "data": {
            "text/plain": [
              "<Figure size 432x288 with 1 Axes>"
            ],
            "image/png": "[encoded data removed]"
          },
          "metadata": {
            "needs_background": "light"
          }
        },
        {
          "output_type": "stream",
          "name": "stdout",
          "text": [
            "\n",
            "valid\n",
            "objects 1\n",
            "automobiles 1\n",
            "small_hierarchy [0, 1, 0]\n",
            "  animals [0, 0, 0, 0]\n",
            "    alligator []\n",
            "    mammals []\n",
            "    salamanders []\n",
            "    snake []\n",
            "  objects [1, 0, 0]\n",
            "    automobiles []\n",
            "    bicycles []\n",
            "    boats []\n",
            "  plants [0, 0, 0]\n",
            "    cactus []\n",
            "    hedges []\n",
            "    shrubs []\n",
            "\n",
            "predicted\n",
            "objects 0.5421547889709473\n",
            "boats 0.4933847188949585\n",
            "small_hierarchy [0.4996594190597534, 0.5421547889709473, 0.5092897415161133]\n",
            "  animals [0.44379591941833496, 0.48184359073638916, 0.4401018023490906, 0.4253038763999939]\n",
            "    alligator []\n",
            "    mammals []\n",
            "    salamanders []\n",
            "    snake []\n",
            "  objects [0.355951189994812, 0.3844924569129944, 0.4933847188949585]\n",
            "    automobiles []\n",
            "    bicycles []\n",
            "    boats []\n",
            "  plants [0.5325988531112671, 0.3803137540817261, 0.4100826382637024]\n",
            "    cactus []\n",
            "    hedges []\n",
            "    shrubs []\n"
          ]
        },
        {
          "output_type": "display_data",
          "data": {
            "text/plain": [
              "<Figure size 432x288 with 1 Axes>"
            ],
            "image/png": "[encoded data removed]"
          },
          "metadata": {
            "needs_background": "light"
          }
        },
        {
          "output_type": "stream",
          "name": "stdout",
          "text": [
            "\n",
            "valid\n",
            "objects 1\n",
            "bicycles 1\n",
            "small_hierarchy [0, 1, 0]\n",
            "  animals [0, 0, 0, 0]\n",
            "    alligator []\n",
            "    mammals []\n",
            "    salamanders []\n",
            "    snake []\n",
            "  objects [0, 1, 0]\n",
            "    automobiles []\n",
            "    bicycles []\n",
            "    boats []\n",
            "  plants [0, 0, 0]\n",
            "    cactus []\n",
            "    hedges []\n",
            "    shrubs []\n",
            "\n",
            "predicted\n",
            "objects 0.5638636946678162\n",
            "boats 0.503455638885498\n",
            "small_hierarchy [0.4960595965385437, 0.5638636946678162, 0.5038734078407288]\n",
            "  animals [0.4300708770751953, 0.4865245223045349, 0.4311882257461548, 0.41376054286956787]\n",
            "    alligator []\n",
            "    mammals []\n",
            "    salamanders []\n",
            "    snake []\n",
            "  objects [0.32276952266693115, 0.38550472259521484, 0.503455638885498]\n",
            "    automobiles []\n",
            "    bicycles []\n",
            "    boats []\n",
            "  plants [0.5715141296386719, 0.3553972542285919, 0.4084893763065338]\n",
            "    cactus []\n",
            "    hedges []\n",
            "    shrubs []\n"
          ]
        },
        {
          "output_type": "display_data",
          "data": {
            "text/plain": [
              "<Figure size 432x288 with 1 Axes>"
            ],
            "image/png": "[encoded data removed]"
          },
          "metadata": {
            "needs_background": "light"
          }
        },
        {
          "output_type": "stream",
          "name": "stdout",
          "text": [
            "\n",
            "valid\n",
            "objects 1\n",
            "bicycles 1\n",
            "small_hierarchy [0, 1, 0]\n",
            "  animals [0, 0, 0, 0]\n",
            "    alligator []\n",
            "    mammals []\n",
            "    salamanders []\n",
            "    snake []\n",
            "  objects [0, 1, 0]\n",
            "    automobiles []\n",
            "    bicycles []\n",
            "    boats []\n",
            "  plants [0, 0, 0]\n",
            "    cactus []\n",
            "    hedges []\n",
            "    shrubs []\n",
            "\n",
            "predicted\n",
            "objects 0.6084365844726562\n",
            "boats 0.5215160846710205\n",
            "small_hierarchy [0.47439321875572205, 0.6084365844726562, 0.5369652509689331]\n",
            "  animals [0.4043286442756653, 0.49698784947395325, 0.39843976497650146, 0.36596444249153137]\n",
            "    alligator []\n",
            "    mammals []\n",
            "    salamanders []\n",
            "    snake []\n",
            "  objects [0.2210543155670166, 0.3330153822898865, 0.5215160846710205]\n",
            "    automobiles []\n",
            "    bicycles []\n",
            "    boats []\n",
            "  plants [0.6042451858520508, 0.26948341727256775, 0.379686564207077]\n",
            "    cactus []\n",
            "    hedges []\n",
            "    shrubs []\n"
          ]
        },
        {
          "output_type": "display_data",
          "data": {
            "text/plain": [
              "<Figure size 432x288 with 1 Axes>"
            ],
            "image/png": "[encoded data removed]"
          },
          "metadata": {
            "needs_background": "light"
          }
        },
        {
          "output_type": "stream",
          "name": "stdout",
          "text": [
            "\n",
            "valid\n",
            "objects 1\n",
            "boats 1\n",
            "small_hierarchy [0, 1, 0]\n",
            "  animals [0, 0, 0, 0]\n",
            "    alligator []\n",
            "    mammals []\n",
            "    salamanders []\n",
            "    snake []\n",
            "  objects [0, 0, 1]\n",
            "    automobiles []\n",
            "    bicycles []\n",
            "    boats []\n",
            "  plants [0, 0, 0]\n",
            "    cactus []\n",
            "    hedges []\n",
            "    shrubs []\n",
            "\n",
            "predicted\n",
            "objects 0.5570470094680786\n",
            "boats 0.5238544344902039\n",
            "small_hierarchy [0.4643262028694153, 0.5570470094680786, 0.5171902179718018]\n",
            "  animals [0.4462651312351227, 0.48896390199661255, 0.4365338981151581, 0.4431532919406891]\n",
            "    alligator []\n",
            "    mammals []\n",
            "    salamanders []\n",
            "    snake []\n",
            "  objects [0.3428725004196167, 0.3524186313152313, 0.5238544344902039]\n",
            "    automobiles []\n",
            "    bicycles []\n",
            "    boats []\n",
            "  plants [0.5130327939987183, 0.3535624146461487, 0.4436136484146118]\n",
            "    cactus []\n",
            "    hedges []\n",
            "    shrubs []\n"
          ]
        },
        {
          "output_type": "display_data",
          "data": {
            "text/plain": [
              "<Figure size 432x288 with 1 Axes>"
            ],
            "image/png": "[encoded data removed]"
          },
          "metadata": {
            "needs_background": "light"
          }
        },
        {
          "output_type": "stream",
          "name": "stdout",
          "text": [
            "\n",
            "valid\n",
            "objects 1\n",
            "boats 1\n",
            "small_hierarchy [0, 1, 0]\n",
            "  animals [0, 0, 0, 0]\n",
            "    alligator []\n",
            "    mammals []\n",
            "    salamanders []\n",
            "    snake []\n",
            "  objects [0, 0, 1]\n",
            "    automobiles []\n",
            "    bicycles []\n",
            "    boats []\n",
            "  plants [0, 0, 0]\n",
            "    cactus []\n",
            "    hedges []\n",
            "    shrubs []\n",
            "\n",
            "predicted\n",
            "objects 0.5426350235939026\n",
            "boats 0.5020428895950317\n",
            "small_hierarchy [0.5020760893821716, 0.5426350235939026, 0.51593416929245]\n",
            "  animals [0.4437226951122284, 0.49464666843414307, 0.4543357491493225, 0.42938846349716187]\n",
            "    alligator []\n",
            "    mammals []\n",
            "    salamanders []\n",
            "    snake []\n",
            "  objects [0.37390127778053284, 0.4068041741847992, 0.5020428895950317]\n",
            "    automobiles []\n",
            "    bicycles []\n",
            "    boats []\n",
            "  plants [0.5359157919883728, 0.3835203945636749, 0.43313363194465637]\n",
            "    cactus []\n",
            "    hedges []\n",
            "    shrubs []\n"
          ]
        },
        {
          "output_type": "display_data",
          "data": {
            "text/plain": [
              "<Figure size 432x288 with 1 Axes>"
            ],
            "image/png": "[encoded data removed]"
          },
          "metadata": {
            "needs_background": "light"
          }
        },
        {
          "output_type": "stream",
          "name": "stdout",
          "text": [
            "\n",
            "valid\n",
            "plants 1\n",
            "cactus 1\n",
            "small_hierarchy [0, 0, 1]\n",
            "  animals [0, 0, 0, 0]\n",
            "    alligator []\n",
            "    mammals []\n",
            "    salamanders []\n",
            "    snake []\n",
            "  objects [0, 0, 0]\n",
            "    automobiles []\n",
            "    bicycles []\n",
            "    boats []\n",
            "  plants [1, 0, 0]\n",
            "    cactus []\n",
            "    hedges []\n",
            "    shrubs []\n",
            "\n",
            "predicted\n",
            "plants 0.557915210723877\n",
            "cactus 0.5087634325027466\n",
            "small_hierarchy [0.48998546600341797, 0.5286506414413452, 0.557915210723877]\n",
            "  animals [0.4572218954563141, 0.49608540534973145, 0.4624561071395874, 0.4369058609008789]\n",
            "    alligator []\n",
            "    mammals []\n",
            "    salamanders []\n",
            "    snake []\n",
            "  objects [0.3619658052921295, 0.41007110476493835, 0.49723753333091736]\n",
            "    automobiles []\n",
            "    bicycles []\n",
            "    boats []\n",
            "  plants [0.5087634325027466, 0.39599329233169556, 0.45212703943252563]\n",
            "    cactus []\n",
            "    hedges []\n",
            "    shrubs []\n"
          ]
        },
        {
          "output_type": "display_data",
          "data": {
            "text/plain": [
              "<Figure size 432x288 with 1 Axes>"
            ],
            "image/png": "[encoded data removed]"
          },
          "metadata": {
            "needs_background": "light"
          }
        },
        {
          "output_type": "stream",
          "name": "stdout",
          "text": [
            "\n",
            "valid\n",
            "plants 1\n",
            "hedges 1\n",
            "small_hierarchy [0, 0, 1]\n",
            "  animals [0, 0, 0, 0]\n",
            "    alligator []\n",
            "    mammals []\n",
            "    salamanders []\n",
            "    snake []\n",
            "  objects [0, 0, 0]\n",
            "    automobiles []\n",
            "    bicycles []\n",
            "    boats []\n",
            "  plants [0, 1, 0]\n",
            "    cactus []\n",
            "    hedges []\n",
            "    shrubs []\n",
            "\n",
            "predicted\n",
            "plants 0.587756872177124\n",
            "cactus 0.47740820050239563\n",
            "small_hierarchy [0.46637681126594543, 0.5406249165534973, 0.587756872177124]\n",
            "  animals [0.44609391689300537, 0.4971497654914856, 0.4391920268535614, 0.4966803193092346]\n",
            "    alligator []\n",
            "    mammals []\n",
            "    salamanders []\n",
            "    snake []\n",
            "  objects [0.3402383625507355, 0.4113558232784271, 0.4991641342639923]\n",
            "    automobiles []\n",
            "    bicycles []\n",
            "    boats []\n",
            "  plants [0.47740820050239563, 0.3910239338874817, 0.43769726157188416]\n",
            "    cactus []\n",
            "    hedges []\n",
            "    shrubs []\n"
          ]
        },
        {
          "output_type": "display_data",
          "data": {
            "text/plain": [
              "<Figure size 432x288 with 1 Axes>"
            ],
            "image/png": "[encoded data removed]"
          },
          "metadata": {
            "needs_background": "light"
          }
        },
        {
          "output_type": "stream",
          "name": "stdout",
          "text": [
            "\n",
            "valid\n",
            "plants 1\n",
            "hedges 1\n",
            "small_hierarchy [0, 0, 1]\n",
            "  animals [0, 0, 0, 0]\n",
            "    alligator []\n",
            "    mammals []\n",
            "    salamanders []\n",
            "    snake []\n",
            "  objects [0, 0, 0]\n",
            "    automobiles []\n",
            "    bicycles []\n",
            "    boats []\n",
            "  plants [0, 1, 0]\n",
            "    cactus []\n",
            "    hedges []\n",
            "    shrubs []\n",
            "\n",
            "predicted\n",
            "plants 0.5862438082695007\n",
            "cactus 0.465058296918869\n",
            "small_hierarchy [0.48568838834762573, 0.5200430154800415, 0.5862438082695007]\n",
            "  animals [0.4490455985069275, 0.49047204852104187, 0.46783357858657837, 0.4694008529186249]\n",
            "    alligator []\n",
            "    mammals []\n",
            "    salamanders []\n",
            "    snake []\n",
            "  objects [0.4053249657154083, 0.3943130671977997, 0.5076522827148438]\n",
            "    automobiles []\n",
            "    bicycles []\n",
            "    boats []\n",
            "  plants [0.465058296918869, 0.41367465257644653, 0.4466885030269623]\n",
            "    cactus []\n",
            "    hedges []\n",
            "    shrubs []\n"
          ]
        },
        {
          "output_type": "display_data",
          "data": {
            "text/plain": [
              "<Figure size 432x288 with 1 Axes>"
            ],
            "image/png": "[encoded data removed]"
          },
          "metadata": {
            "needs_background": "light"
          }
        },
        {
          "output_type": "stream",
          "name": "stdout",
          "text": [
            "\n",
            "valid\n",
            "plants 1\n",
            "shrubs 1\n",
            "small_hierarchy [0, 0, 1]\n",
            "  animals [0, 0, 0, 0]\n",
            "    alligator []\n",
            "    mammals []\n",
            "    salamanders []\n",
            "    snake []\n",
            "  objects [0, 0, 0]\n",
            "    automobiles []\n",
            "    bicycles []\n",
            "    boats []\n",
            "  plants [0, 0, 1]\n",
            "    cactus []\n",
            "    hedges []\n",
            "    shrubs []\n",
            "\n",
            "predicted\n",
            "plants 0.55873042345047\n",
            "cactus 0.5574665069580078\n",
            "small_hierarchy [0.4811970591545105, 0.5523065328598022, 0.55873042345047]\n",
            "  animals [0.43236076831817627, 0.4813835620880127, 0.45066624879837036, 0.4269598424434662]\n",
            "    alligator []\n",
            "    mammals []\n",
            "    salamanders []\n",
            "    snake []\n",
            "  objects [0.33395135402679443, 0.36589524149894714, 0.49779215455055237]\n",
            "    automobiles []\n",
            "    bicycles []\n",
            "    boats []\n",
            "  plants [0.5574665069580078, 0.35677608847618103, 0.4368100166320801]\n",
            "    cactus []\n",
            "    hedges []\n",
            "    shrubs []\n"
          ]
        },
        {
          "output_type": "display_data",
          "data": {
            "text/plain": [
              "<Figure size 432x288 with 1 Axes>"
            ],
            "image/png": "[encoded data removed]"
          },
          "metadata": {
            "needs_background": "light"
          }
        },
        {
          "output_type": "stream",
          "name": "stdout",
          "text": [
            "\n",
            "valid\n",
            "plants 1\n",
            "shrubs 1\n",
            "small_hierarchy [0, 0, 1]\n",
            "  animals [0, 0, 0, 0]\n",
            "    alligator []\n",
            "    mammals []\n",
            "    salamanders []\n",
            "    snake []\n",
            "  objects [0, 0, 0]\n",
            "    automobiles []\n",
            "    bicycles []\n",
            "    boats []\n",
            "  plants [0, 0, 1]\n",
            "    cactus []\n",
            "    hedges []\n",
            "    shrubs []\n",
            "\n",
            "predicted\n",
            "plants 0.5476221442222595\n",
            "cactus 0.5235159397125244\n",
            "small_hierarchy [0.49886175990104675, 0.5098446011543274, 0.5476221442222595]\n",
            "  animals [0.4597322642803192, 0.4896809756755829, 0.4699939489364624, 0.45793113112449646]\n",
            "    alligator []\n",
            "    mammals []\n",
            "    salamanders []\n",
            "    snake []\n",
            "  objects [0.3979512155056, 0.4256622791290283, 0.4963206946849823]\n",
            "    automobiles []\n",
            "    bicycles []\n",
            "    boats []\n",
            "  plants [0.5235159397125244, 0.4035838544368744, 0.4601014256477356]\n",
            "    cactus []\n",
            "    hedges []\n",
            "    shrubs []\n"
          ]
        },
        {
          "output_type": "display_data",
          "data": {
            "text/plain": [
              "<Figure size 432x288 with 1 Axes>"
            ],
            "image/png": "[encoded data removed]"
          },
          "metadata": {
            "needs_background": "light"
          }
        },
        {
          "output_type": "stream",
          "name": "stdout",
          "text": [
            "\n",
            "valid\n",
            "plants 1\n",
            "shrubs 1\n",
            "small_hierarchy [0, 0, 1]\n",
            "  animals [0, 0, 0, 0]\n",
            "    alligator []\n",
            "    mammals []\n",
            "    salamanders []\n",
            "    snake []\n",
            "  objects [0, 0, 0]\n",
            "    automobiles []\n",
            "    bicycles []\n",
            "    boats []\n",
            "  plants [0, 0, 1]\n",
            "    cactus []\n",
            "    hedges []\n",
            "    shrubs []\n",
            "\n",
            "predicted\n",
            "plants 0.5660650730133057\n",
            "cactus 0.5057623386383057\n",
            "small_hierarchy [0.46637019515037537, 0.5437350869178772, 0.5660650730133057]\n",
            "  animals [0.4549998342990875, 0.4912193715572357, 0.4465519189834595, 0.464261531829834]\n",
            "    alligator []\n",
            "    mammals []\n",
            "    salamanders []\n",
            "    snake []\n",
            "  objects [0.36140236258506775, 0.380631685256958, 0.5189875364303589]\n",
            "    automobiles []\n",
            "    bicycles []\n",
            "    boats []\n",
            "  plants [0.5057623386383057, 0.37982749938964844, 0.43610841035842896]\n",
            "    cactus []\n",
            "    hedges []\n",
            "    shrubs []\n",
            "\n",
            "average validation accuracy 0.176471\n",
            "top 5 accuracy 0.71\n"
          ]
        }
      ]
    },
    {
      "cell_type": "markdown",
      "source": [
        "SAVE AND LOAD IMAGES AND MODELS"
      ],
      "metadata": {
        "id": "L9KsH_zuk9BM"
      }
    },
    {
      "cell_type": "code",
      "metadata": {
        "id": "RtjKT7oCgEo3"
      },
      "source": [
        "network_type = 'sigmoid'\n",
        "images_folder = \"/content/drive/My Drive/5390/project/small_hierarchy\"\n",
        "serial_file = \"/content/drive/My Drive/Colab Notebooks/small_hierarchy.dat\"\n",
        "models_folder = \"/content/drive/My Drive/Colab Notebooks/models\"\n",
        "target_image_size = 30\n",
        "levels = 1\n",
        "channels = 3\n",
        "valid_ratio = 0.1 # validation set\n",
        "test_ratio = 0.0 # test set\n",
        "initialize_now = True\n",
        "SIGMOID = Umbrella_Network(network_type,images_folder,serial_file,models_folder,target_image_size,channels,levels,valid_ratio,test_ratio,initialize_now)"
      ],
      "execution_count": null,
      "outputs": []
    },
    {
      "cell_type": "code",
      "source": [
        "SIGMOID.traverse_training_data()"
      ],
      "metadata": {
        "colab": {
          "base_uri": "https://localhost:8080/"
        },
        "id": "LGq6C-hEec9M",
        "outputId": "517f1168-b45b-4b4f-bd0c-319207491811"
      },
      "execution_count": null,
      "outputs": [
        {
          "output_type": "stream",
          "name": "stdout",
          "text": [
            "small_hierarchy trainX 0 (0,) trainY 0 (0,)\n",
            "   animals trainX 79 (79,) trainY 79 (79,)\n",
            "      alligator trainX 0 (0,) trainY 0 (0,)\n",
            "      mammals trainX 0 (0,) trainY 0 (0,)\n",
            "      salamanders trainX 0 (0,) trainY 0 (0,)\n",
            "      snake trainX 0 (0,) trainY 0 (0,)\n",
            "   objects trainX 115 (115,) trainY 115 (115,)\n",
            "      automobiles trainX 0 (0,) trainY 0 (0,)\n",
            "      bicycles trainX 0 (0,) trainY 0 (0,)\n",
            "      boats trainX 0 (0,) trainY 0 (0,)\n",
            "   plants trainX 116 (116,) trainY 116 (116,)\n",
            "      cactus trainX 0 (0,) trainY 0 (0,)\n",
            "      hedges trainX 0 (0,) trainY 0 (0,)\n",
            "      shrubs trainX 0 (0,) trainY 0 (0,)\n"
          ]
        }
      ]
    },
    {
      "cell_type": "code",
      "source": [
        "SIGMOID.make_models()"
      ],
      "metadata": {
        "colab": {
          "base_uri": "https://localhost:8080/"
        },
        "id": "ausF_q7SgNsk",
        "outputId": "2292bf85-f5a7-42c0-c4b4-0fd5e8eac4d6"
      },
      "execution_count": null,
      "outputs": [
        {
          "output_type": "stream",
          "name": "stdout",
          "text": [
            "making model for animals\n",
            "making model for objects\n",
            "making model for plants\n"
          ]
        }
      ]
    },
    {
      "cell_type": "code",
      "source": [
        "SIGMOID.train_models(eps=1)"
      ],
      "metadata": {
        "id": "lu0SCoNxgQRa"
      },
      "execution_count": null,
      "outputs": []
    },
    {
      "cell_type": "code",
      "source": [
        "SIGMOID.save_models() # always save models before saving images\n",
        "SIGMOID.save_images() # removes models, then saves entire object"
      ],
      "metadata": {
        "id": "fjFqP3KFBfWB",
        "colab": {
          "base_uri": "https://localhost:8080/"
        },
        "outputId": "d95ab3af-1a73-41de-b15f-fef99f52ce32"
      },
      "execution_count": null,
      "outputs": [
        {
          "output_type": "stream",
          "name": "stdout",
          "text": [
            "animals\n",
            "INFO:tensorflow:Assets written to: /content/drive/My Drive/Colab Notebooks/models/model1/assets\n",
            "objects\n",
            "INFO:tensorflow:Assets written to: /content/drive/My Drive/Colab Notebooks/models/model2/assets\n",
            "plants\n",
            "INFO:tensorflow:Assets written to: /content/drive/My Drive/Colab Notebooks/models/model3/assets\n",
            "INFO:tensorflow:Assets written to: ram://f39cfaaf-ca38-4255-acc0-47e28d94d777/assets\n",
            "INFO:tensorflow:Assets written to: ram://56d45a6b-4e07-4a64-9fa6-89e9a787ba3c/assets\n",
            "INFO:tensorflow:Assets written to: ram://06161e93-74ce-4503-8434-e5fd64ea8dff/assets\n"
          ]
        }
      ]
    },
    {
      "cell_type": "markdown",
      "source": [
        "When reloading a model and its images, set initialize_now = False"
      ],
      "metadata": {
        "id": "3oHaVlztbinL"
      }
    },
    {
      "cell_type": "code",
      "metadata": {
        "id": "Mkd4Tq3ijJFn"
      },
      "source": [
        "network_type = 'sigmoid'\n",
        "images_folder = \"/content/drive/My Drive/5390/project/small_hierarchy\"\n",
        "serial_file = \"/content/drive/My Drive/Colab Notebooks/small_hierarchy.dat\"\n",
        "models_folder = \"/content/drive/My Drive/Colab Notebooks/models\"\n",
        "target_image_size = 30\n",
        "levels = 1\n",
        "channels = 3\n",
        "valid_ratio = 0.1 # validation set\n",
        "test_ratio = 0.0 # test set\n",
        "initialize_now = False\n",
        "RELOAD = Umbrella_Network(network_type,images_folder,serial_file,models_folder,target_image_size,channels,levels,valid_ratio,test_ratio,initialize_now)"
      ],
      "execution_count": null,
      "outputs": []
    },
    {
      "cell_type": "code",
      "source": [
        "RELOAD.load_images() # always load images before loading models, loads entire object\n",
        "RELOAD.load_models() # requires object already loaded"
      ],
      "metadata": {
        "id": "-kgjEL48BkKY",
        "colab": {
          "base_uri": "https://localhost:8080/"
        },
        "outputId": "21f7f189-a481-400e-85ec-59642055e254"
      },
      "execution_count": null,
      "outputs": [
        {
          "output_type": "stream",
          "name": "stdout",
          "text": [
            "model loaded into animals\n",
            "model loaded into objects\n",
            "model loaded into plants\n",
            "could not load model for alligator\n",
            "could not load model for mammals\n",
            "could not load model for salamanders\n",
            "could not load model for snake\n",
            "could not load model for automobiles\n",
            "could not load model for bicycles\n",
            "could not load model for boats\n",
            "could not load model for cactus\n",
            "could not load model for hedges\n",
            "could not load model for shrubs\n"
          ]
        }
      ]
    },
    {
      "cell_type": "code",
      "source": [
        "RELOAD.traverse_training_data()"
      ],
      "metadata": {
        "colab": {
          "base_uri": "https://localhost:8080/"
        },
        "id": "qo-o8Pg3bbE5",
        "outputId": "d924159a-9c21-4848-d0fc-599e270657b7"
      },
      "execution_count": null,
      "outputs": [
        {
          "output_type": "stream",
          "name": "stdout",
          "text": [
            "small_hierarchy trainX 0 (0,) trainY 0 (0,)\n",
            "   animals trainX 79 (79,) trainY 79 (79,)\n",
            "      alligator trainX 0 (0,) trainY 0 (0,)\n",
            "      mammals trainX 0 (0,) trainY 0 (0,)\n",
            "      salamanders trainX 0 (0,) trainY 0 (0,)\n",
            "      snake trainX 0 (0,) trainY 0 (0,)\n",
            "   objects trainX 115 (115,) trainY 115 (115,)\n",
            "      automobiles trainX 0 (0,) trainY 0 (0,)\n",
            "      bicycles trainX 0 (0,) trainY 0 (0,)\n",
            "      boats trainX 0 (0,) trainY 0 (0,)\n",
            "   plants trainX 116 (116,) trainY 116 (116,)\n",
            "      cactus trainX 0 (0,) trainY 0 (0,)\n",
            "      hedges trainX 0 (0,) trainY 0 (0,)\n",
            "      shrubs trainX 0 (0,) trainY 0 (0,)\n"
          ]
        }
      ]
    }
  ]
}