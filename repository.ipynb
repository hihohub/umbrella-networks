{
  "nbformat": 4,
  "nbformat_minor": 0,
  "metadata": {
    "colab": {
      "name": "repository.ipynb",
      "provenance": [],
      "collapsed_sections": [],
      "authorship_tag": "ABX9TyNqybGCt2nfMDYo5jwHTR8S",
      "include_colab_link": true
    },
    "kernelspec": {
      "display_name": "Python 3",
      "name": "python3"
    },
    "accelerator": "GPU"
  },
  "cells": [
    {
      "cell_type": "markdown",
      "metadata": {
        "id": "view-in-github",
        "colab_type": "text"
      },
      "source": [
        "<a href=\"https://colab.research.google.com/github/hihohub/umbrella-networks/blob/main/repository.ipynb\" target=\"_parent\"><img src=\"https://colab.research.google.com/assets/colab-badge.svg\" alt=\"Open In Colab\"/></a>"
      ]
    },
    {
      "cell_type": "markdown",
      "metadata": {
        "id": "pdRTYhAFyrpB"
      },
      "source": [
        "- Umbrella networks\n",
        "- copyright 2021 by James Smith\n",
        "- contact - derekjsmit@gmail.com"
      ]
    },
    {
      "cell_type": "markdown",
      "source": [
        "Demonstration instructions\n",
        "- How to load an online image repository into an umbrella network.\n",
        "- You will load the cifar 10 dataset, which contains small 32x32 images.\n",
        "- First, you will train a single neural net in keras. For simplicity, the model will train for only 10 epochs. The model gets a low accuracy.\n",
        "- Then, you will compare that with a multi-model hierarchical umbrella network. Although it trains each model for only 10 epochs, it achieves a respectable accuracy on the same data.\n",
        "- To start, run the first large cell containing the umbrella code, then scroll down 1333 lines to the experiment.\n",
        "- Run each cell of the experiment, which is fairly quick."
      ],
      "metadata": {
        "id": "2JsfwLbbzKBd"
      }
    },
    {
      "cell_type": "markdown",
      "metadata": {
        "id": "9de5nqYI6ZPu"
      },
      "source": [
        "Umbrella network instructions<br/>\n",
        "- The umbrella code was designed for reading a local folder and automatically constructing the hierarchical network from the implicit hierarchy in the subfolders.\n",
        "- If have images in folders, initialize with images_folder = path. Umbrella network constructs tree by itself. Refer to examples.\n",
        "- However, it also has functions for reading the data from an online repository and building the tree node by node (since the data has no folder structure).\n",
        "- If loading data from repository, initialize with images_folder = None, then use repo functions. Must first preprocess the data (normalize, reshape). Only process x data, not labels. Umbrella network constructs labels by itself. However, subdivide classes by label, then manually construct tree with repo functions. Finally, init_from_repo(). Refer to examples.\n",
        "- In repo mode, umbrella network throws away labels and makes its own. For example, if divide MNIST into odd and even numbers, each subset will have labels 0-4. Hence, anything other than flat topology requires that the umbrella network form new labels.\n",
        "\n",
        "\n"
      ]
    },
    {
      "cell_type": "markdown",
      "metadata": {
        "id": "vB6R2fVSYvyx"
      },
      "source": [
        "%%%%%%%%%%%%%%%%%%<br/>\n",
        "UMBRELLA NETWORK<br/>\n",
        "%%%%%%%%%%%%%%%%%%<br/>"
      ]
    },
    {
      "cell_type": "code",
      "source": [
        "! wget https://raw.githubusercontent.com/hihohub/umbrella-networks/main/umbrella.py"
      ],
      "metadata": {
        "colab": {
          "base_uri": "https://localhost:8080/"
        },
        "id": "hGDve97aaf5o",
        "outputId": "0117833f-8853-40bb-c0e9-52a8f872e87a"
      },
      "execution_count": 1,
      "outputs": [
        {
          "output_type": "stream",
          "name": "stdout",
          "text": [
            "--2022-04-15 04:36:07--  https://raw.githubusercontent.com/hihohub/umbrella-networks/main/umbrella.py\n",
            "Resolving raw.githubusercontent.com (raw.githubusercontent.com)... 185.199.108.133, 185.199.109.133, 185.199.110.133, ...\n",
            "Connecting to raw.githubusercontent.com (raw.githubusercontent.com)|185.199.108.133|:443... connected.\n",
            "HTTP request sent, awaiting response... 200 OK\n",
            "Length: 48219 (47K) [text/plain]\n",
            "Saving to: ‘umbrella.py’\n",
            "\n",
            "umbrella.py         100%[===================>]  47.09K  --.-KB/s    in 0.001s  \n",
            "\n",
            "2022-04-15 04:36:08 (83.6 MB/s) - ‘umbrella.py’ saved [48219/48219]\n",
            "\n"
          ]
        }
      ]
    },
    {
      "cell_type": "code",
      "source": [
        "import umbrella\n",
        "from umbrella import Umbrella_Network,Umbrella_Label,Umbrella_Node,Joint_Probability_Network"
      ],
      "metadata": {
        "id": "PCkYzF4gbKqP"
      },
      "execution_count": 2,
      "outputs": []
    },
    {
      "cell_type": "code",
      "source": [
        "import os\n",
        "import sys\n",
        "import numpy as np\n",
        "import math\n",
        "import random\n",
        "from PIL import Image, ImageOps, ImageChops\n",
        "import cv2\n",
        "import tensorflow as tf\n",
        "from tensorflow.keras.preprocessing import image\n",
        "from tensorflow.keras.models import Sequential, Model, load_model\n",
        "from tensorflow.keras.layers import Input, Conv2D, MaxPool2D, Flatten, Dense, add, BatchNormalization, Dropout, AveragePooling2D, GlobalAveragePooling2D, SeparableConv2D\n",
        "from tensorflow.keras.utils import to_categorical\n",
        "from tensorflow.python.framework.ops import disable_eager_execution\n",
        "from tensorflow.keras import backend as backend\n",
        "from keras.callbacks import ReduceLROnPlateau\n",
        "from sklearn.utils import shuffle\n",
        "import matplotlib.pyplot as plt\n",
        "import pickle\n",
        "import copy\n",
        "import time"
      ],
      "metadata": {
        "id": "NKZG7Q4MbvQd"
      },
      "execution_count": 3,
      "outputs": []
    },
    {
      "cell_type": "markdown",
      "metadata": {
        "id": "WgOjCeKS3xO-"
      },
      "source": [
        "### cifar10\n",
        "- https://www.cs.toronto.edu/~kriz/cifar.html\n",
        "1. airplane\n",
        "2. automobile\n",
        "3. bird\n",
        "4. cat\n",
        "5. deer\n",
        "6. dog\n",
        "7. frog\n",
        "8. horse\n",
        "9. ship\n",
        "10. truck"
      ]
    },
    {
      "cell_type": "code",
      "metadata": {
        "id": "lmBdUAdu2rAg",
        "colab": {
          "base_uri": "https://localhost:8080/"
        },
        "outputId": "7ac711ea-f7b3-4961-8df3-ba4e8f17e868"
      },
      "source": [
        "import tensorflow\n",
        "(xtrain,ytrain),(xval,yval) = tensorflow.keras.datasets.cifar10.load_data()\n",
        "print(len(xtrain))\n",
        "print(xtrain.shape)\n",
        "print(len(ytrain))\n",
        "print(ytrain.shape)\n",
        "print(len(xval))\n",
        "print(xval.shape)\n",
        "print(len(yval))\n",
        "print(yval.shape)\n",
        "print(np.unique(yval))\n",
        "xtrain = xtrain[0:10000,:]\n",
        "print(xtrain.shape)\n",
        "xtrain = xtrain / 255\n",
        "print(xtrain[0])"
      ],
      "execution_count": 4,
      "outputs": [
        {
          "output_type": "stream",
          "name": "stdout",
          "text": [
            "Downloading data from https://www.cs.toronto.edu/~kriz/cifar-10-python.tar.gz\n",
            "170500096/170498071 [==============================] - 13s 0us/step\n",
            "170508288/170498071 [==============================] - 13s 0us/step\n",
            "50000\n",
            "(50000, 32, 32, 3)\n",
            "50000\n",
            "(50000, 1)\n",
            "10000\n",
            "(10000, 32, 32, 3)\n",
            "10000\n",
            "(10000, 1)\n",
            "[0 1 2 3 4 5 6 7 8 9]\n",
            "(10000, 32, 32, 3)\n",
            "[[[0.23137255 0.24313725 0.24705882]\n",
            "  [0.16862745 0.18039216 0.17647059]\n",
            "  [0.19607843 0.18823529 0.16862745]\n",
            "  ...\n",
            "  [0.61960784 0.51764706 0.42352941]\n",
            "  [0.59607843 0.49019608 0.4       ]\n",
            "  [0.58039216 0.48627451 0.40392157]]\n",
            "\n",
            " [[0.0627451  0.07843137 0.07843137]\n",
            "  [0.         0.         0.        ]\n",
            "  [0.07058824 0.03137255 0.        ]\n",
            "  ...\n",
            "  [0.48235294 0.34509804 0.21568627]\n",
            "  [0.46666667 0.3254902  0.19607843]\n",
            "  [0.47843137 0.34117647 0.22352941]]\n",
            "\n",
            " [[0.09803922 0.09411765 0.08235294]\n",
            "  [0.0627451  0.02745098 0.        ]\n",
            "  [0.19215686 0.10588235 0.03137255]\n",
            "  ...\n",
            "  [0.4627451  0.32941176 0.19607843]\n",
            "  [0.47058824 0.32941176 0.19607843]\n",
            "  [0.42745098 0.28627451 0.16470588]]\n",
            "\n",
            " ...\n",
            "\n",
            " [[0.81568627 0.66666667 0.37647059]\n",
            "  [0.78823529 0.6        0.13333333]\n",
            "  [0.77647059 0.63137255 0.10196078]\n",
            "  ...\n",
            "  [0.62745098 0.52156863 0.2745098 ]\n",
            "  [0.21960784 0.12156863 0.02745098]\n",
            "  [0.20784314 0.13333333 0.07843137]]\n",
            "\n",
            " [[0.70588235 0.54509804 0.37647059]\n",
            "  [0.67843137 0.48235294 0.16470588]\n",
            "  [0.72941176 0.56470588 0.11764706]\n",
            "  ...\n",
            "  [0.72156863 0.58039216 0.36862745]\n",
            "  [0.38039216 0.24313725 0.13333333]\n",
            "  [0.3254902  0.20784314 0.13333333]]\n",
            "\n",
            " [[0.69411765 0.56470588 0.45490196]\n",
            "  [0.65882353 0.50588235 0.36862745]\n",
            "  [0.70196078 0.55686275 0.34117647]\n",
            "  ...\n",
            "  [0.84705882 0.72156863 0.54901961]\n",
            "  [0.59215686 0.4627451  0.32941176]\n",
            "  [0.48235294 0.36078431 0.28235294]]]\n"
          ]
        }
      ]
    },
    {
      "cell_type": "code",
      "metadata": {
        "id": "HjyWugW-6Y7k",
        "colab": {
          "base_uri": "https://localhost:8080/"
        },
        "outputId": "c527ab94-3561-4802-ac9d-1301e1ba5854"
      },
      "source": [
        "# make an array for each class (discard y labels, umbrella network makes labels)\n",
        "x0 = [xtrain[j] for j in range(0,len(xtrain)) if ytrain[j] == 0]\n",
        "x1 = [xtrain[j] for j in range(0,len(xtrain)) if ytrain[j] == 1]\n",
        "x2 = [xtrain[j] for j in range(0,len(xtrain)) if ytrain[j] == 2]\n",
        "x3 = [xtrain[j] for j in range(0,len(xtrain)) if ytrain[j] == 3]\n",
        "x4 = [xtrain[j] for j in range(0,len(xtrain)) if ytrain[j] == 4]\n",
        "x5 = [xtrain[j] for j in range(0,len(xtrain)) if ytrain[j] == 5]\n",
        "x6 = [xtrain[j] for j in range(0,len(xtrain)) if ytrain[j] == 6]\n",
        "x7 = [xtrain[j] for j in range(0,len(xtrain)) if ytrain[j] == 7]\n",
        "x8 = [xtrain[j] for j in range(0,len(xtrain)) if ytrain[j] == 8]\n",
        "x9 = [xtrain[j] for j in range(0,len(xtrain)) if ytrain[j] == 9]\n",
        "print(len(x0))\n",
        "print(len(x1))\n",
        "print(len(x2))\n",
        "print(len(x3))\n",
        "print(len(x4))\n",
        "print(len(x5))\n",
        "print(len(x6))\n",
        "print(len(x7))\n",
        "print(len(x8))\n",
        "print(len(x9))"
      ],
      "execution_count": 5,
      "outputs": [
        {
          "output_type": "stream",
          "name": "stdout",
          "text": [
            "1005\n",
            "974\n",
            "1032\n",
            "1016\n",
            "999\n",
            "937\n",
            "1030\n",
            "1001\n",
            "1025\n",
            "981\n"
          ]
        }
      ]
    },
    {
      "cell_type": "markdown",
      "source": [
        "- #########################\n",
        "- First test a single neural net without hierarchical umbrella\n",
        "- To do so, just set \"levels\" = 1 in umbrella network\n",
        "- Same as a regular single neural net with a softmax over 10 classes\n",
        "- #########################"
      ],
      "metadata": {
        "id": "m8z8vvp8saSo"
      }
    },
    {
      "cell_type": "code",
      "metadata": {
        "colab": {
          "base_uri": "https://localhost:8080/"
        },
        "outputId": "5554824f-eeb6-4c30-8ba5-87d03357ad52",
        "id": "_yXXyclC4j_x"
      },
      "source": [
        "network_type = 'softmax'\n",
        "images_folder = None # not saving any data for demonstration\n",
        "serial_file = \"\"\n",
        "models_folder = \"\"\n",
        "target_image_size = 32 # cifar image size\n",
        "channels = 3\n",
        "levels = 1 # levels for network without hierarchical umbrella\n",
        "valid_ratio = 0.2 # validation set\n",
        "test_ratio = 0.0 # test set\n",
        "initialize_now = False # delay initialization until construct tree node by node\n",
        "CIFAR10 = Umbrella_Network(network_type,images_folder,serial_file,models_folder,target_image_size,channels,levels,valid_ratio,test_ratio,initialize_now)\n"
      ],
      "execution_count": 6,
      "outputs": [
        {
          "output_type": "stream",
          "name": "stdout",
          "text": [
            "warning - no source image folder specified\n",
            "instead, you must construct tree manually with repository data\n",
            "warning - could not find models folder\n"
          ]
        }
      ]
    },
    {
      "cell_type": "code",
      "metadata": {
        "id": "rThLND6Odo6C"
      },
      "source": [
        "# construct tree node by node for cifar repository\n",
        "root = CIFAR10.set_repo_root(\"root\")\n",
        "zeros = CIFAR10.add_repo_node(root,\"zero\")\n",
        "ones = CIFAR10.add_repo_node(root,\"one\")\n",
        "twos = CIFAR10.add_repo_node(root,\"two\")\n",
        "threes = CIFAR10.add_repo_node(root,\"three\")\n",
        "fours = CIFAR10.add_repo_node(root,\"four\")\n",
        "fives = CIFAR10.add_repo_node(root,\"fives\")\n",
        "sixes = CIFAR10.add_repo_node(root,\"sixes\")\n",
        "sevens = CIFAR10.add_repo_node(root,\"sevens\")\n",
        "eights = CIFAR10.add_repo_node(root,\"eights\")\n",
        "nines = CIFAR10.add_repo_node(root,\"nines\")\n",
        "CIFAR10.add_repo_nodes(zeros,x0,\"zero\")\n",
        "CIFAR10.add_repo_nodes(ones,x1,\"one\")\n",
        "CIFAR10.add_repo_nodes(twos,x2,\"two\")\n",
        "CIFAR10.add_repo_nodes(threes,x3,\"three\")\n",
        "CIFAR10.add_repo_nodes(fours,x4,\"four\")\n",
        "CIFAR10.add_repo_nodes(fives,x5,\"five\")\n",
        "CIFAR10.add_repo_nodes(sixes,x6,\"six\")\n",
        "CIFAR10.add_repo_nodes(sevens,x7,\"seven\")\n",
        "CIFAR10.add_repo_nodes(eights,x8,\"eight\")\n",
        "CIFAR10.add_repo_nodes(nines,x9,\"nine\")"
      ],
      "execution_count": 7,
      "outputs": []
    },
    {
      "cell_type": "code",
      "metadata": {
        "id": "RfM7_FfEfWFW"
      },
      "source": [
        "# initialize\n",
        "CIFAR10.init_from_repo()\n",
        "#CIFAR10.save_just_images() # for demonstration, not saving files"
      ],
      "execution_count": 8,
      "outputs": []
    },
    {
      "cell_type": "code",
      "metadata": {
        "colab": {
          "base_uri": "https://localhost:8080/"
        },
        "outputId": "dcf38637-85c7-44e6-9661-cb6289b04008",
        "id": "4oCeZs2v46sJ"
      },
      "source": [
        "# function parameter for custom model rather than default model\n",
        "def factory(node):\n",
        "    node.model = Sequential()\n",
        "    node.model.add(Conv2D(16,(3,3),activation='relu',input_shape=node.trainX[0].data.shape))\n",
        "    node.model.add(Conv2D(32,(3,3),activation='relu'))\n",
        "    node.model.add(Conv2D(64,(3,3),activation='relu'))\n",
        "    node.model.add(Conv2D(128,(3,3),activation='relu'))\n",
        "    node.model.add(Conv2D(256,(3,3),activation='relu'))\n",
        "    node.model.add(Conv2D(512,(3,3),activation='relu'))\n",
        "    node.model.add(MaxPool2D(pool_size=(2,2)))\n",
        "    node.model.add(Flatten())\n",
        "    node.model.add(Dense(32,activation='relu'))\n",
        "    node.model.add(Dense(16,activation='relu'))\n",
        "    node.model.add(Dense(len(node.children),activation='softmax'))\n",
        "    node.model.compile(optimizer='adam',loss='categorical_crossentropy',metrics=['accuracy'])\n",
        "verbose = True\n",
        "CIFAR10.make_models(factory,verbose)"
      ],
      "execution_count": 9,
      "outputs": [
        {
          "output_type": "stream",
          "name": "stdout",
          "text": [
            "making model for root\n",
            "root\n",
            "Model: \"sequential\"\n",
            "_________________________________________________________________\n",
            " Layer (type)                Output Shape              Param #   \n",
            "=================================================================\n",
            " conv2d (Conv2D)             (None, 30, 30, 16)        448       \n",
            "                                                                 \n",
            " conv2d_1 (Conv2D)           (None, 28, 28, 32)        4640      \n",
            "                                                                 \n",
            " conv2d_2 (Conv2D)           (None, 26, 26, 64)        18496     \n",
            "                                                                 \n",
            " conv2d_3 (Conv2D)           (None, 24, 24, 128)       73856     \n",
            "                                                                 \n",
            " conv2d_4 (Conv2D)           (None, 22, 22, 256)       295168    \n",
            "                                                                 \n",
            " conv2d_5 (Conv2D)           (None, 20, 20, 512)       1180160   \n",
            "                                                                 \n",
            " max_pooling2d (MaxPooling2D  (None, 10, 10, 512)      0         \n",
            " )                                                               \n",
            "                                                                 \n",
            " flatten (Flatten)           (None, 51200)             0         \n",
            "                                                                 \n",
            " dense (Dense)               (None, 32)                1638432   \n",
            "                                                                 \n",
            " dense_1 (Dense)             (None, 16)                528       \n",
            "                                                                 \n",
            " dense_2 (Dense)             (None, 10)                170       \n",
            "                                                                 \n",
            "=================================================================\n",
            "Total params: 3,211,898\n",
            "Trainable params: 3,211,898\n",
            "Non-trainable params: 0\n",
            "_________________________________________________________________\n"
          ]
        }
      ]
    },
    {
      "cell_type": "code",
      "metadata": {
        "colab": {
          "base_uri": "https://localhost:8080/"
        },
        "id": "cFpEnaMSW5lq",
        "outputId": "e1cfc9f9-71c4-46df-875a-397350d994df"
      },
      "source": [
        "# default epochs 5, to change set eps=x\n",
        "CIFAR10.train_models(vrb=True,aug=True,eps=1)"
      ],
      "execution_count": 10,
      "outputs": [
        {
          "output_type": "stream",
          "name": "stdout",
          "text": [
            "training model for root\n",
            "trainX 8001\n",
            "trainY 8001\n",
            "251/251 [==============================] - 17s 21ms/step - loss: 2.2827 - accuracy: 0.1199\n"
          ]
        }
      ]
    },
    {
      "cell_type": "code",
      "metadata": {
        "colab": {
          "base_uri": "https://localhost:8080/"
        },
        "id": "UaT1yK8cXpC5",
        "outputId": "30dc2939-c41a-44cc-91a3-2effc9d9c2e0"
      },
      "source": [
        "CIFAR10.get_training_accuracy()\n",
        "CIFAR10.predict_validation_set() # set verbose=True to view all the images (2000 of them)\n",
        "CIFAR10.predict_validation_top5()"
      ],
      "execution_count": 11,
      "outputs": [
        {
          "output_type": "stream",
          "name": "stdout",
          "text": [
            "average training accuracy 0.119860\n",
            "average training loss 2.282684\n",
            "1999\n",
            "\n",
            "average validation accuracy 0.138069\n",
            "top 5 accuracy 0.59\n"
          ]
        }
      ]
    },
    {
      "cell_type": "markdown",
      "source": [
        "- #############################################################\n",
        "- Compare with multi-level umbrella\n",
        "- Umbrella with two levels gets much higher scores\n",
        "- #############################################################"
      ],
      "metadata": {
        "id": "TZOnRIi9vptk"
      }
    },
    {
      "cell_type": "code",
      "metadata": {
        "colab": {
          "base_uri": "https://localhost:8080/"
        },
        "id": "6Qypo56GPe3s",
        "outputId": "21258873-f514-440d-ae1b-4fbc720f1c13"
      },
      "source": [
        "network_type = 'softmax'\n",
        "images_folder = None\n",
        "serial_file = \"\"\n",
        "models_folder = \"\"\n",
        "target_image_size = 32\n",
        "channels = 3\n",
        "levels = 2 # multiple levels\n",
        "valid_ratio = 0.2\n",
        "test_ratio = 0.0\n",
        "initialize_now = False\n",
        "CIFAR10_UMBRELLA = Umbrella_Network(network_type,images_folder,serial_file,models_folder,target_image_size,channels,levels,valid_ratio,test_ratio,initialize_now)\n"
      ],
      "execution_count": 12,
      "outputs": [
        {
          "output_type": "stream",
          "name": "stdout",
          "text": [
            "warning - no source image folder specified\n",
            "instead, you must construct tree manually with repository data\n",
            "warning - could not find models folder\n"
          ]
        }
      ]
    },
    {
      "cell_type": "code",
      "metadata": {
        "id": "H0CkGmkdP58W"
      },
      "source": [
        "root = CIFAR10_UMBRELLA.set_repo_root(\"root\")\n",
        "animals = CIFAR10_UMBRELLA.add_repo_node(root,\"animals\")\n",
        "objects = CIFAR10_UMBRELLA.add_repo_node(root,\"objects\")\n",
        "airplanes = CIFAR10_UMBRELLA.add_repo_node(objects,\"airplane\")\n",
        "autos = CIFAR10_UMBRELLA.add_repo_node(objects,\"automobile\")\n",
        "birds = CIFAR10_UMBRELLA.add_repo_node(animals,\"bird\")\n",
        "cats = CIFAR10_UMBRELLA.add_repo_node(animals,\"cat\")\n",
        "deer = CIFAR10_UMBRELLA.add_repo_node(animals,\"deer\")\n",
        "dogs = CIFAR10_UMBRELLA.add_repo_node(animals,\"dog\")\n",
        "frogs = CIFAR10_UMBRELLA.add_repo_node(animals,\"frog\")\n",
        "horses = CIFAR10_UMBRELLA.add_repo_node(animals,\"horse\")\n",
        "ships = CIFAR10_UMBRELLA.add_repo_node(objects,\"ship\")\n",
        "trucks = CIFAR10_UMBRELLA.add_repo_node(objects,\"truck\")\n",
        "CIFAR10_UMBRELLA.add_repo_nodes(airplanes,x0,\"airplane\")\n",
        "CIFAR10_UMBRELLA.add_repo_nodes(autos,x1,\"auto\")\n",
        "CIFAR10_UMBRELLA.add_repo_nodes(birds,x2,\"bird\")\n",
        "CIFAR10_UMBRELLA.add_repo_nodes(cats,x3,\"cat\")\n",
        "CIFAR10_UMBRELLA.add_repo_nodes(deer,x4,\"deer\")\n",
        "CIFAR10_UMBRELLA.add_repo_nodes(dogs,x5,\"dog\")\n",
        "CIFAR10_UMBRELLA.add_repo_nodes(frogs,x6,\"frog\")\n",
        "CIFAR10_UMBRELLA.add_repo_nodes(horses,x7,\"horse\")\n",
        "CIFAR10_UMBRELLA.add_repo_nodes(ships,x8,\"ship\")\n",
        "CIFAR10_UMBRELLA.add_repo_nodes(trucks,x9,\"truck\")"
      ],
      "execution_count": 13,
      "outputs": []
    },
    {
      "cell_type": "code",
      "metadata": {
        "id": "XHiAc2OQRW61"
      },
      "source": [
        "CIFAR10_UMBRELLA.init_from_repo()"
      ],
      "execution_count": 14,
      "outputs": []
    },
    {
      "cell_type": "code",
      "metadata": {
        "colab": {
          "base_uri": "https://localhost:8080/"
        },
        "id": "qasJgHwzRWAj",
        "outputId": "def21861-2694-4df3-d90a-7cb241ba737f"
      },
      "source": [
        "def factory(node):\n",
        "    node.model = Sequential()\n",
        "    node.model.add(Conv2D(16,(3,3),activation='relu',input_shape=node.trainX[0].data.shape))\n",
        "    #node.model.add(MaxPool2D(pool_size=(2,2)))\n",
        "    node.model.add(Conv2D(32,(3,3),activation='relu'))\n",
        "    #node.model.add(MaxPool2D(pool_size=(2,2)))\n",
        "    node.model.add(Conv2D(64,(3,3),activation='relu'))\n",
        "    node.model.add(MaxPool2D(pool_size=(2,2)))\n",
        "    node.model.add(Conv2D(128,(3,3),activation='relu'))\n",
        "    node.model.add(MaxPool2D(pool_size=(2,2)))\n",
        "    node.model.add(Flatten())\n",
        "    node.model.add(Dense(32,activation='relu'))\n",
        "    node.model.add(Dense(len(node.children),activation='softmax'))\n",
        "    node.model.compile(optimizer='adam',loss='categorical_crossentropy',metrics=['accuracy'])\n",
        "verbose = True\n",
        "CIFAR10_UMBRELLA.make_models(factory,verbose)"
      ],
      "execution_count": 15,
      "outputs": [
        {
          "output_type": "stream",
          "name": "stdout",
          "text": [
            "making model for root\n",
            "root\n",
            "Model: \"sequential_12\"\n",
            "_________________________________________________________________\n",
            " Layer (type)                Output Shape              Param #   \n",
            "=================================================================\n",
            " conv2d_6 (Conv2D)           (None, 30, 30, 16)        448       \n",
            "                                                                 \n",
            " conv2d_7 (Conv2D)           (None, 28, 28, 32)        4640      \n",
            "                                                                 \n",
            " conv2d_8 (Conv2D)           (None, 26, 26, 64)        18496     \n",
            "                                                                 \n",
            " max_pooling2d_1 (MaxPooling  (None, 13, 13, 64)       0         \n",
            " 2D)                                                             \n",
            "                                                                 \n",
            " conv2d_9 (Conv2D)           (None, 11, 11, 128)       73856     \n",
            "                                                                 \n",
            " max_pooling2d_2 (MaxPooling  (None, 5, 5, 128)        0         \n",
            " 2D)                                                             \n",
            "                                                                 \n",
            " flatten_1 (Flatten)         (None, 3200)              0         \n",
            "                                                                 \n",
            " dense_3 (Dense)             (None, 32)                102432    \n",
            "                                                                 \n",
            " dense_4 (Dense)             (None, 2)                 66        \n",
            "                                                                 \n",
            "=================================================================\n",
            "Total params: 199,938\n",
            "Trainable params: 199,938\n",
            "Non-trainable params: 0\n",
            "_________________________________________________________________\n",
            "making model for animals\n",
            "animals\n",
            "Model: \"sequential_13\"\n",
            "_________________________________________________________________\n",
            " Layer (type)                Output Shape              Param #   \n",
            "=================================================================\n",
            " conv2d_10 (Conv2D)          (None, 30, 30, 16)        448       \n",
            "                                                                 \n",
            " conv2d_11 (Conv2D)          (None, 28, 28, 32)        4640      \n",
            "                                                                 \n",
            " conv2d_12 (Conv2D)          (None, 26, 26, 64)        18496     \n",
            "                                                                 \n",
            " max_pooling2d_3 (MaxPooling  (None, 13, 13, 64)       0         \n",
            " 2D)                                                             \n",
            "                                                                 \n",
            " conv2d_13 (Conv2D)          (None, 11, 11, 128)       73856     \n",
            "                                                                 \n",
            " max_pooling2d_4 (MaxPooling  (None, 5, 5, 128)        0         \n",
            " 2D)                                                             \n",
            "                                                                 \n",
            " flatten_2 (Flatten)         (None, 3200)              0         \n",
            "                                                                 \n",
            " dense_5 (Dense)             (None, 32)                102432    \n",
            "                                                                 \n",
            " dense_6 (Dense)             (None, 6)                 198       \n",
            "                                                                 \n",
            "=================================================================\n",
            "Total params: 200,070\n",
            "Trainable params: 200,070\n",
            "Non-trainable params: 0\n",
            "_________________________________________________________________\n",
            "making model for objects\n",
            "objects\n",
            "Model: \"sequential_14\"\n",
            "_________________________________________________________________\n",
            " Layer (type)                Output Shape              Param #   \n",
            "=================================================================\n",
            " conv2d_14 (Conv2D)          (None, 30, 30, 16)        448       \n",
            "                                                                 \n",
            " conv2d_15 (Conv2D)          (None, 28, 28, 32)        4640      \n",
            "                                                                 \n",
            " conv2d_16 (Conv2D)          (None, 26, 26, 64)        18496     \n",
            "                                                                 \n",
            " max_pooling2d_5 (MaxPooling  (None, 13, 13, 64)       0         \n",
            " 2D)                                                             \n",
            "                                                                 \n",
            " conv2d_17 (Conv2D)          (None, 11, 11, 128)       73856     \n",
            "                                                                 \n",
            " max_pooling2d_6 (MaxPooling  (None, 5, 5, 128)        0         \n",
            " 2D)                                                             \n",
            "                                                                 \n",
            " flatten_3 (Flatten)         (None, 3200)              0         \n",
            "                                                                 \n",
            " dense_7 (Dense)             (None, 32)                102432    \n",
            "                                                                 \n",
            " dense_8 (Dense)             (None, 4)                 132       \n",
            "                                                                 \n",
            "=================================================================\n",
            "Total params: 200,004\n",
            "Trainable params: 200,004\n",
            "Non-trainable params: 0\n",
            "_________________________________________________________________\n"
          ]
        }
      ]
    },
    {
      "cell_type": "code",
      "metadata": {
        "colab": {
          "base_uri": "https://localhost:8080/"
        },
        "id": "70q2SAk4SFRw",
        "outputId": "f09fc877-ca41-4be7-a4fa-74fcb6eca853"
      },
      "source": [
        "CIFAR10_UMBRELLA.train_models(vrb=True,aug=True,eps=1)"
      ],
      "execution_count": 16,
      "outputs": [
        {
          "output_type": "stream",
          "name": "stdout",
          "text": [
            "training model for root\n",
            "trainX 8001\n",
            "trainY 8001\n",
            "251/251 [==============================] - 2s 5ms/step - loss: 0.6730 - accuracy: 0.6012\n",
            "training model for animals\n",
            "trainX 4813\n",
            "trainY 4813\n",
            "151/151 [==============================] - 1s 6ms/step - loss: 1.7375 - accuracy: 0.2367\n",
            "training model for objects\n",
            "trainX 3188\n",
            "trainY 3188\n",
            "100/100 [==============================] - 1s 7ms/step - loss: 1.3175 - accuracy: 0.3479\n"
          ]
        }
      ]
    },
    {
      "cell_type": "code",
      "metadata": {
        "colab": {
          "base_uri": "https://localhost:8080/"
        },
        "id": "w5IulkQSSXfd",
        "outputId": "ee6544a0-1383-418f-a73e-2519a22b9a9f"
      },
      "source": [
        "CIFAR10_UMBRELLA.get_training_accuracy()\n",
        "CIFAR10_UMBRELLA.predict_validation_set()\n",
        "CIFAR10_UMBRELLA.predict_validation_top5()"
      ],
      "execution_count": 17,
      "outputs": [
        {
          "output_type": "stream",
          "name": "stdout",
          "text": [
            "average training accuracy 0.395231\n",
            "average training loss 1.242663\n",
            "1999\n",
            "\n",
            "average validation accuracy 0.225613\n",
            "top 5 accuracy 0.64\n"
          ]
        }
      ]
    }
  ]
}