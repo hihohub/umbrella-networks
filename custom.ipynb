{
  "nbformat": 4,
  "nbformat_minor": 0,
  "metadata": {
    "colab": {
      "name": "custom.ipynb",
      "provenance": [],
      "collapsed_sections": [],
      "authorship_tag": "ABX9TyM37kZFFgk068BPr3HGF/t9",
      "include_colab_link": true
    },
    "kernelspec": {
      "display_name": "Python 3",
      "name": "python3"
    },
    "accelerator": "GPU"
  },
  "cells": [
    {
      "cell_type": "markdown",
      "metadata": {
        "id": "view-in-github",
        "colab_type": "text"
      },
      "source": [
        "<a href=\"https://colab.research.google.com/github/hihohub/umbrella-networks/blob/main/custom.ipynb\" target=\"_parent\"><img src=\"https://colab.research.google.com/assets/colab-badge.svg\" alt=\"Open In Colab\"/></a>"
      ]
    },
    {
      "cell_type": "markdown",
      "metadata": {
        "id": "c_XIVILg3qDA"
      },
      "source": [
        "- Umbrella networks\n",
        "- copyright 2021 by James Smith\n",
        "- contact - derekjsmit@gmail.com"
      ]
    },
    {
      "cell_type": "markdown",
      "source": [
        "Demonstration instructions\n",
        "- How to load custom files into an umbrella network and pass custom model to the network.\n",
        "- Organize your image files into folders by category. Multiple levels are best. For example, (book covers) -> (scifi), (fantasy), (mystery).\n",
        "- First, run the large cell containing the umbrella code, then scroll down 1333 lines to the experiment.\n",
        "- Change the folder name in the demonstration code to your folder path.\n",
        "- The rest of the code should work as written."
      ],
      "metadata": {
        "id": "VMGFoeIp45yV"
      }
    },
    {
      "cell_type": "markdown",
      "metadata": {
        "id": "9de5nqYI6ZPu"
      },
      "source": [
        "Umbrella network instructions<br/>\n",
        "- The umbrella code was designed for reading a local folder and automatically constructing the hierarchical network from the implicit hierarchy in the subfolders.\n",
        "- If have images in folders, initialize with images_folder = path. Umbrella network constructs tree by itself. Refer to examples.\n",
        "- However, it also has functions for reading the data from an online repository and building the tree node by node (since the data has no folder structure).\n",
        "- If loading data from repository, initialize with images_folder = None, then use repo functions. Must first preprocess the data (normalize, reshape). Only process x data, not labels. Umbrella network constructs labels by itself. However, subdivide classes by label, then manually construct tree with repo functions. Finally, init_from_repo(). Refer to examples.\n",
        "- In repo mode, umbrella network throws away labels and makes its own. For example, if divide MNIST into odd and even numbers, each subset will have labels 0-4. Hence, anything other than flat topology requires that the umbrella network form new labels.\n",
        "\n",
        "\n",
        "\n",
        "\n"
      ]
    },
    {
      "cell_type": "code",
      "metadata": {
        "colab": {
          "base_uri": "https://localhost:8080/"
        },
        "id": "rDvh7kWFVup9",
        "outputId": "9315ca72-004c-4bd4-8786-cfd97a6fb6ed"
      },
      "source": [
        "from google.colab import drive\n",
        "drive.mount('/content/drive')\n"
      ],
      "execution_count": null,
      "outputs": [
        {
          "output_type": "stream",
          "name": "stdout",
          "text": [
            "Mounted at /content/drive\n"
          ]
        }
      ]
    },
    {
      "cell_type": "markdown",
      "metadata": {
        "id": "vB6R2fVSYvyx"
      },
      "source": [
        "%%%%%%%%%%%%%%%%%%<br/>\n",
        "UMBRELLA NETWORK<br/>\n",
        "%%%%%%%%%%%%%%%%%%<br/>"
      ]
    },
    {
      "cell_type": "code",
      "source": [
        "! wget https://raw.githubusercontent.com/hihohub/umbrella-networks/main/umbrella.py"
      ],
      "metadata": {
        "colab": {
          "base_uri": "https://localhost:8080/"
        },
        "id": "hGDve97aaf5o",
        "outputId": "78b13988-6e04-461d-861e-2e4a1fbb76a8"
      },
      "execution_count": null,
      "outputs": [
        {
          "output_type": "stream",
          "name": "stdout",
          "text": [
            "--2022-04-15 04:12:57--  https://raw.githubusercontent.com/hihohub/umbrella-networks/main/umbrella.py\n",
            "Resolving raw.githubusercontent.com (raw.githubusercontent.com)... 185.199.109.133, 185.199.108.133, 185.199.110.133, ...\n",
            "Connecting to raw.githubusercontent.com (raw.githubusercontent.com)|185.199.109.133|:443... connected.\n",
            "HTTP request sent, awaiting response... 200 OK\n",
            "Length: 48219 (47K) [text/plain]\n",
            "Saving to: ‘umbrella.py’\n",
            "\n",
            "\rumbrella.py           0%[                    ]       0  --.-KB/s               \rumbrella.py         100%[===================>]  47.09K  --.-KB/s    in 0.01s   \n",
            "\n",
            "2022-04-15 04:12:57 (4.57 MB/s) - ‘umbrella.py’ saved [48219/48219]\n",
            "\n"
          ]
        }
      ]
    },
    {
      "cell_type": "code",
      "source": [
        "from umbrella import Umbrella_Network,Umbrella_Label,Umbrella_Node,Joint_Probability_Network"
      ],
      "metadata": {
        "id": "PCkYzF4gbKqP"
      },
      "execution_count": null,
      "outputs": []
    },
    {
      "cell_type": "code",
      "source": [
        "import os\n",
        "import sys\n",
        "import numpy as np\n",
        "import math\n",
        "import random\n",
        "from PIL import Image, ImageOps, ImageChops\n",
        "import cv2\n",
        "import tensorflow as tf\n",
        "from tensorflow.keras.preprocessing import image\n",
        "from tensorflow.keras.models import Sequential, Model, load_model\n",
        "from tensorflow.keras.layers import Input, Conv2D, MaxPool2D, Flatten, Dense, add, BatchNormalization, Dropout, AveragePooling2D, GlobalAveragePooling2D, SeparableConv2D\n",
        "from tensorflow.keras.utils import to_categorical\n",
        "from tensorflow.python.framework.ops import disable_eager_execution\n",
        "from tensorflow.keras import backend as backend\n",
        "from keras.callbacks import ReduceLROnPlateau\n",
        "from sklearn.utils import shuffle\n",
        "import matplotlib.pyplot as plt\n",
        "import pickle\n",
        "import copy\n",
        "import time"
      ],
      "metadata": {
        "id": "NKZG7Q4MbvQd"
      },
      "execution_count": null,
      "outputs": []
    },
    {
      "cell_type": "markdown",
      "source": [
        "- ##################\n",
        "- Demonstrate loading images files into umbrella networks and passing a custom model to the network\n",
        "- ##################"
      ],
      "metadata": {
        "id": "9Gg9BM7j6OFD"
      }
    },
    {
      "cell_type": "markdown",
      "source": [
        "FLAT MODEL (standard softmax over every class)"
      ],
      "metadata": {
        "id": "_RSC1iAEdK7f"
      }
    },
    {
      "cell_type": "code",
      "metadata": {
        "id": "ZyQJ5BaKc2KB"
      },
      "source": [
        "network_type = 'softmax'\n",
        "images_folder = \"/content/drive/My Drive/5390/project/small_hierarchy\"\n",
        "serial_file = \"/content/drive/My Drive/Colab Notebooks/small_hierarchy.dat\"\n",
        "models_folder = \"/content/drive/My Drive/Colab Notebooks/models\"\n",
        "target_image_size = 150\n",
        "levels = 0 # if levels = 0, reads just last level folders, makes flat softmax over all classes\n",
        "channels = 3\n",
        "valid_ratio = 0.2 # validation set\n",
        "test_ratio = 0.0 # test set\n",
        "initialize_now = True\n",
        "SOFTMAX = Umbrella_Network(network_type,images_folder,serial_file,models_folder,target_image_size,channels,levels,valid_ratio,test_ratio,initialize_now)"
      ],
      "execution_count": null,
      "outputs": []
    },
    {
      "cell_type": "code",
      "metadata": {
        "colab": {
          "base_uri": "https://localhost:8080/"
        },
        "id": "T1lGKn0RSSjO",
        "outputId": "b7be4acc-a6f8-40ca-b1b6-7bab283aec14"
      },
      "source": [
        "SOFTMAX.traverse_training_data()"
      ],
      "execution_count": null,
      "outputs": [
        {
          "output_type": "stream",
          "name": "stdout",
          "text": [
            "small_hierarchy trainX 137 (137,) trainY 137 (137, 10)\n",
            "   alligator trainX 0 (0,) trainY 0 (0,)\n",
            "   mammals trainX 0 (0,) trainY 0 (0,)\n",
            "   salamanders trainX 0 (0,) trainY 0 (0,)\n",
            "   snake trainX 0 (0,) trainY 0 (0,)\n",
            "   automobiles trainX 0 (0,) trainY 0 (0,)\n",
            "   bicycles trainX 0 (0,) trainY 0 (0,)\n",
            "   boats trainX 0 (0,) trainY 0 (0,)\n",
            "   cactus trainX 0 (0,) trainY 0 (0,)\n",
            "   hedges trainX 0 (0,) trainY 0 (0,)\n",
            "   shrubs trainX 0 (0,) trainY 0 (0,)\n"
          ]
        }
      ]
    },
    {
      "cell_type": "code",
      "metadata": {
        "colab": {
          "base_uri": "https://localhost:8080/"
        },
        "id": "mYvQvS5MBskK",
        "outputId": "53523038-e1e9-4ab3-eb2e-bbc850eb385d"
      },
      "source": [
        "# custom model rather than default\n",
        "def factory(node):\n",
        "    node.model = Sequential()\n",
        "    node.model.add(Conv2D(16,(3,3),activation='relu',input_shape=node.trainX[0].data.shape))\n",
        "    node.model.add(Conv2D(16,(3,3),activation='relu',input_shape=node.trainX[0].data.shape))\n",
        "    node.model.add(Conv2D(32,(3,3),activation='relu'))\n",
        "    node.model.add(Conv2D(32,(3,3),activation='relu'))\n",
        "    node.model.add(MaxPool2D(pool_size=(2,2)))\n",
        "    node.model.add(Conv2D(64,(3,3),activation='relu'))\n",
        "    node.model.add(Conv2D(64,(3,3),activation='relu'))\n",
        "    node.model.add(MaxPool2D(pool_size=(2,2)))\n",
        "    node.model.add(Conv2D(128,(3,3),activation='relu'))\n",
        "    node.model.add(Conv2D(128,(3,3),activation='relu'))\n",
        "    node.model.add(MaxPool2D(pool_size=(2,2)))\n",
        "    node.model.add(Conv2D(256,(3,3),activation='relu'))\n",
        "    node.model.add(Conv2D(256,(3,3),activation='relu'))\n",
        "    node.model.add(MaxPool2D(pool_size=(2,2)))\n",
        "    node.model.add(Conv2D(512,(3,3),activation='relu'))\n",
        "    node.model.add(MaxPool2D(pool_size=(2,2)))\n",
        "    node.model.add(Flatten())\n",
        "    node.model.add(Dense(32,activation='relu'))\n",
        "    node.model.add(Dense(16,activation='relu'))\n",
        "    node.model.add(Dense(len(node.children),activation='softmax'))\n",
        "    node.model.compile(optimizer='adam',loss='categorical_crossentropy',metrics=['accuracy'])\n",
        "verbose = True\n",
        "SOFTMAX.make_models(factory,verbose)"
      ],
      "execution_count": null,
      "outputs": [
        {
          "output_type": "stream",
          "name": "stdout",
          "text": [
            "making model for small_hierarchy\n",
            "small_hierarchy\n",
            "Model: \"sequential_1\"\n",
            "_________________________________________________________________\n",
            " Layer (type)                Output Shape              Param #   \n",
            "=================================================================\n",
            " conv2d_8 (Conv2D)           (None, 148, 148, 16)      448       \n",
            "                                                                 \n",
            " conv2d_9 (Conv2D)           (None, 146, 146, 16)      2320      \n",
            "                                                                 \n",
            " conv2d_10 (Conv2D)          (None, 144, 144, 32)      4640      \n",
            "                                                                 \n",
            " conv2d_11 (Conv2D)          (None, 142, 142, 32)      9248      \n",
            "                                                                 \n",
            " max_pooling2d_2 (MaxPooling  (None, 71, 71, 32)       0         \n",
            " 2D)                                                             \n",
            "                                                                 \n",
            " conv2d_12 (Conv2D)          (None, 69, 69, 64)        18496     \n",
            "                                                                 \n",
            " conv2d_13 (Conv2D)          (None, 67, 67, 64)        36928     \n",
            "                                                                 \n",
            " max_pooling2d_3 (MaxPooling  (None, 33, 33, 64)       0         \n",
            " 2D)                                                             \n",
            "                                                                 \n",
            " conv2d_14 (Conv2D)          (None, 31, 31, 128)       73856     \n",
            "                                                                 \n",
            " conv2d_15 (Conv2D)          (None, 29, 29, 128)       147584    \n",
            "                                                                 \n",
            " max_pooling2d_4 (MaxPooling  (None, 14, 14, 128)      0         \n",
            " 2D)                                                             \n",
            "                                                                 \n",
            " conv2d_16 (Conv2D)          (None, 12, 12, 256)       295168    \n",
            "                                                                 \n",
            " conv2d_17 (Conv2D)          (None, 10, 10, 256)       590080    \n",
            "                                                                 \n",
            " max_pooling2d_5 (MaxPooling  (None, 5, 5, 256)        0         \n",
            " 2D)                                                             \n",
            "                                                                 \n",
            " conv2d_18 (Conv2D)          (None, 3, 3, 512)         1180160   \n",
            "                                                                 \n",
            " max_pooling2d_6 (MaxPooling  (None, 1, 1, 512)        0         \n",
            " 2D)                                                             \n",
            "                                                                 \n",
            " flatten (Flatten)           (None, 512)               0         \n",
            "                                                                 \n",
            " dense (Dense)               (None, 32)                16416     \n",
            "                                                                 \n",
            " dense_1 (Dense)             (None, 16)                528       \n",
            "                                                                 \n",
            " dense_2 (Dense)             (None, 10)                170       \n",
            "                                                                 \n",
            "=================================================================\n",
            "Total params: 2,376,042\n",
            "Trainable params: 2,376,042\n",
            "Non-trainable params: 0\n",
            "_________________________________________________________________\n"
          ]
        }
      ]
    },
    {
      "cell_type": "code",
      "metadata": {
        "colab": {
          "base_uri": "https://localhost:8080/"
        },
        "id": "QM9C7dXBTL-l",
        "outputId": "25c8e786-e5ab-41d9-b8f4-15370b65d2a9"
      },
      "source": [
        "SOFTMAX.train_models(eps=1,batch=64,aug=True,vrb=True)"
      ],
      "execution_count": null,
      "outputs": [
        {
          "output_type": "stream",
          "name": "stdout",
          "text": [
            "training model for small_hierarchy\n",
            "trainX 137\n",
            "trainY 137\n",
            "3/3 [==============================] - 14s 543ms/step - loss: 2.3013 - accuracy: 0.0511\n"
          ]
        }
      ]
    },
    {
      "cell_type": "code",
      "metadata": {
        "colab": {
          "base_uri": "https://localhost:8080/"
        },
        "id": "u-27Ki8mVlOz",
        "outputId": "6fd11237-dad0-4f53-d950-77b2f29c3f0d"
      },
      "source": [
        "SOFTMAX.get_training_accuracy()\n",
        "SOFTMAX.predict_validation_set() # set verbose=True to view all the images\n",
        "SOFTMAX.predict_validation_top5()"
      ],
      "execution_count": null,
      "outputs": [
        {
          "output_type": "stream",
          "name": "stdout",
          "text": [
            "average training accuracy 0.051095\n",
            "average training loss 2.301316\n",
            "34\n",
            "\n",
            "average validation accuracy 0.117647\n",
            "top 5 accuracy 0.59\n"
          ]
        }
      ]
    },
    {
      "cell_type": "markdown",
      "source": [
        "UMBRELLA NETWORK WITH TWO LEVELS"
      ],
      "metadata": {
        "id": "VmBt_sybdjl9"
      }
    },
    {
      "cell_type": "code",
      "metadata": {
        "id": "O99xS57EF-eC",
        "colab": {
          "base_uri": "https://localhost:8080/"
        },
        "outputId": "56c3a1f7-6861-4e40-bd19-ad936630bf7d"
      },
      "source": [
        "network_type = 'softmax'\n",
        "images_folder = \"/content/drive/My Drive/5390/project/small_hierarchy\"\n",
        "serial_file = \"/content/drive/My Drive/Colab Notebooks/small_hierarchy.dat\"\n",
        "models_folder = \"/content/drive/My Drive/Colab Notebooks/models/models\"\n",
        "target_image_size = 150\n",
        "channels = 3\n",
        "levels = 2 # the folders actually have four or five levels, but setting levels = 2 will compress the lower folders into one level\n",
        "valid_ratio = 0.2\n",
        "test_ratio = 0.0\n",
        "initialize_now = True\n",
        "SOFTMAX_UMBRELLA = Umbrella_Network(network_type,images_folder,serial_file,models_folder,target_image_size,channels,levels,valid_ratio,test_ratio,initialize_now)"
      ],
      "execution_count": null,
      "outputs": [
        {
          "output_type": "stream",
          "name": "stdout",
          "text": [
            "warning - could not find models folder\n"
          ]
        }
      ]
    },
    {
      "cell_type": "code",
      "metadata": {
        "colab": {
          "base_uri": "https://localhost:8080/"
        },
        "id": "c69bnkCcGRcn",
        "outputId": "af92dc52-5869-4121-c2cf-eee8dcc8d604"
      },
      "source": [
        "def factory(node):\n",
        "    node.model = Sequential()\n",
        "    node.model.add(Conv2D(16,(3,3),activation='relu',input_shape=node.trainX[0].data.shape))\n",
        "    node.model.add(MaxPool2D(pool_size=(2,2)))\n",
        "    node.model.add(Conv2D(32,(3,3),activation='relu'))\n",
        "    node.model.add(MaxPool2D(pool_size=(2,2)))\n",
        "    node.model.add(Conv2D(64,(3,3),activation='relu'))\n",
        "    node.model.add(MaxPool2D(pool_size=(2,2)))\n",
        "    node.model.add(Conv2D(128,(3,3),activation='relu'))\n",
        "    node.model.add(MaxPool2D(pool_size=(2,2)))\n",
        "    node.model.add(Flatten())\n",
        "    node.model.add(Dense(32,activation='relu'))\n",
        "    node.model.add(Dense(len(node.children),activation='softmax'))\n",
        "    node.model.compile(optimizer='adam',loss='categorical_crossentropy',metrics=['accuracy'])\n",
        "SOFTMAX_UMBRELLA.make_models(factory=factory,verbose=True)"
      ],
      "execution_count": null,
      "outputs": [
        {
          "output_type": "stream",
          "name": "stdout",
          "text": [
            "making model for small_hierarchy\n",
            "small_hierarchy\n",
            "Model: \"sequential_13\"\n",
            "_________________________________________________________________\n",
            " Layer (type)                Output Shape              Param #   \n",
            "=================================================================\n",
            " conv2d_19 (Conv2D)          (None, 148, 148, 16)      448       \n",
            "                                                                 \n",
            " max_pooling2d_7 (MaxPooling  (None, 74, 74, 16)       0         \n",
            " 2D)                                                             \n",
            "                                                                 \n",
            " conv2d_20 (Conv2D)          (None, 72, 72, 32)        4640      \n",
            "                                                                 \n",
            " max_pooling2d_8 (MaxPooling  (None, 36, 36, 32)       0         \n",
            " 2D)                                                             \n",
            "                                                                 \n",
            " conv2d_21 (Conv2D)          (None, 34, 34, 64)        18496     \n",
            "                                                                 \n",
            " max_pooling2d_9 (MaxPooling  (None, 17, 17, 64)       0         \n",
            " 2D)                                                             \n",
            "                                                                 \n",
            " conv2d_22 (Conv2D)          (None, 15, 15, 128)       73856     \n",
            "                                                                 \n",
            " max_pooling2d_10 (MaxPoolin  (None, 7, 7, 128)        0         \n",
            " g2D)                                                            \n",
            "                                                                 \n",
            " flatten_1 (Flatten)         (None, 6272)              0         \n",
            "                                                                 \n",
            " dense_3 (Dense)             (None, 32)                200736    \n",
            "                                                                 \n",
            " dense_4 (Dense)             (None, 3)                 99        \n",
            "                                                                 \n",
            "=================================================================\n",
            "Total params: 298,275\n",
            "Trainable params: 298,275\n",
            "Non-trainable params: 0\n",
            "_________________________________________________________________\n",
            "making model for animals\n",
            "animals\n",
            "Model: \"sequential_14\"\n",
            "_________________________________________________________________\n",
            " Layer (type)                Output Shape              Param #   \n",
            "=================================================================\n",
            " conv2d_23 (Conv2D)          (None, 148, 148, 16)      448       \n",
            "                                                                 \n",
            " max_pooling2d_11 (MaxPoolin  (None, 74, 74, 16)       0         \n",
            " g2D)                                                            \n",
            "                                                                 \n",
            " conv2d_24 (Conv2D)          (None, 72, 72, 32)        4640      \n",
            "                                                                 \n",
            " max_pooling2d_12 (MaxPoolin  (None, 36, 36, 32)       0         \n",
            " g2D)                                                            \n",
            "                                                                 \n",
            " conv2d_25 (Conv2D)          (None, 34, 34, 64)        18496     \n",
            "                                                                 \n",
            " max_pooling2d_13 (MaxPoolin  (None, 17, 17, 64)       0         \n",
            " g2D)                                                            \n",
            "                                                                 \n",
            " conv2d_26 (Conv2D)          (None, 15, 15, 128)       73856     \n",
            "                                                                 \n",
            " max_pooling2d_14 (MaxPoolin  (None, 7, 7, 128)        0         \n",
            " g2D)                                                            \n",
            "                                                                 \n",
            " flatten_2 (Flatten)         (None, 6272)              0         \n",
            "                                                                 \n",
            " dense_5 (Dense)             (None, 32)                200736    \n",
            "                                                                 \n",
            " dense_6 (Dense)             (None, 4)                 132       \n",
            "                                                                 \n",
            "=================================================================\n",
            "Total params: 298,308\n",
            "Trainable params: 298,308\n",
            "Non-trainable params: 0\n",
            "_________________________________________________________________\n",
            "making model for objects\n",
            "objects\n",
            "Model: \"sequential_15\"\n",
            "_________________________________________________________________\n",
            " Layer (type)                Output Shape              Param #   \n",
            "=================================================================\n",
            " conv2d_27 (Conv2D)          (None, 148, 148, 16)      448       \n",
            "                                                                 \n",
            " max_pooling2d_15 (MaxPoolin  (None, 74, 74, 16)       0         \n",
            " g2D)                                                            \n",
            "                                                                 \n",
            " conv2d_28 (Conv2D)          (None, 72, 72, 32)        4640      \n",
            "                                                                 \n",
            " max_pooling2d_16 (MaxPoolin  (None, 36, 36, 32)       0         \n",
            " g2D)                                                            \n",
            "                                                                 \n",
            " conv2d_29 (Conv2D)          (None, 34, 34, 64)        18496     \n",
            "                                                                 \n",
            " max_pooling2d_17 (MaxPoolin  (None, 17, 17, 64)       0         \n",
            " g2D)                                                            \n",
            "                                                                 \n",
            " conv2d_30 (Conv2D)          (None, 15, 15, 128)       73856     \n",
            "                                                                 \n",
            " max_pooling2d_18 (MaxPoolin  (None, 7, 7, 128)        0         \n",
            " g2D)                                                            \n",
            "                                                                 \n",
            " flatten_3 (Flatten)         (None, 6272)              0         \n",
            "                                                                 \n",
            " dense_7 (Dense)             (None, 32)                200736    \n",
            "                                                                 \n",
            " dense_8 (Dense)             (None, 3)                 99        \n",
            "                                                                 \n",
            "=================================================================\n",
            "Total params: 298,275\n",
            "Trainable params: 298,275\n",
            "Non-trainable params: 0\n",
            "_________________________________________________________________\n",
            "making model for plants\n",
            "plants\n",
            "Model: \"sequential_16\"\n",
            "_________________________________________________________________\n",
            " Layer (type)                Output Shape              Param #   \n",
            "=================================================================\n",
            " conv2d_31 (Conv2D)          (None, 148, 148, 16)      448       \n",
            "                                                                 \n",
            " max_pooling2d_19 (MaxPoolin  (None, 74, 74, 16)       0         \n",
            " g2D)                                                            \n",
            "                                                                 \n",
            " conv2d_32 (Conv2D)          (None, 72, 72, 32)        4640      \n",
            "                                                                 \n",
            " max_pooling2d_20 (MaxPoolin  (None, 36, 36, 32)       0         \n",
            " g2D)                                                            \n",
            "                                                                 \n",
            " conv2d_33 (Conv2D)          (None, 34, 34, 64)        18496     \n",
            "                                                                 \n",
            " max_pooling2d_21 (MaxPoolin  (None, 17, 17, 64)       0         \n",
            " g2D)                                                            \n",
            "                                                                 \n",
            " conv2d_34 (Conv2D)          (None, 15, 15, 128)       73856     \n",
            "                                                                 \n",
            " max_pooling2d_22 (MaxPoolin  (None, 7, 7, 128)        0         \n",
            " g2D)                                                            \n",
            "                                                                 \n",
            " flatten_4 (Flatten)         (None, 6272)              0         \n",
            "                                                                 \n",
            " dense_9 (Dense)             (None, 32)                200736    \n",
            "                                                                 \n",
            " dense_10 (Dense)            (None, 3)                 99        \n",
            "                                                                 \n",
            "=================================================================\n",
            "Total params: 298,275\n",
            "Trainable params: 298,275\n",
            "Non-trainable params: 0\n",
            "_________________________________________________________________\n"
          ]
        }
      ]
    },
    {
      "cell_type": "code",
      "metadata": {
        "colab": {
          "base_uri": "https://localhost:8080/"
        },
        "id": "_5seEqZtGxdR",
        "outputId": "5b8372cf-f97e-4575-cb3b-b256de53b501"
      },
      "source": [
        "SOFTMAX_UMBRELLA.train_models(eps=1,batch=10,aug=False,vrb=True)"
      ],
      "execution_count": null,
      "outputs": [
        {
          "output_type": "stream",
          "name": "stdout",
          "text": [
            "training model for small_hierarchy\n",
            "trainX 137\n",
            "trainY 137\n",
            "14/14 [==============================] - 1s 21ms/step - loss: 1.1257 - accuracy: 0.3723\n",
            "training model for animals\n",
            "trainX 35\n",
            "trainY 35\n",
            "4/4 [==============================] - 1s 56ms/step - loss: 1.3778 - accuracy: 0.3143\n",
            "training model for objects\n",
            "trainX 51\n",
            "trainY 51\n",
            "6/6 [==============================] - 1s 41ms/step - loss: 1.1015 - accuracy: 0.3922\n",
            "training model for plants\n",
            "trainX 51\n",
            "trainY 51\n",
            "6/6 [==============================] - 1s 7ms/step - loss: 1.0957 - accuracy: 0.3922\n"
          ]
        }
      ]
    },
    {
      "cell_type": "code",
      "metadata": {
        "colab": {
          "base_uri": "https://localhost:8080/"
        },
        "id": "q7KgsY5eG6C2",
        "outputId": "8ddedab9-19e4-4fe3-8f1c-948fc002038b"
      },
      "source": [
        "SOFTMAX_UMBRELLA.get_training_accuracy()\n",
        "SOFTMAX_UMBRELLA.predict_validation_set()\n",
        "SOFTMAX_UMBRELLA.predict_validation_top5()"
      ],
      "execution_count": null,
      "outputs": [
        {
          "output_type": "stream",
          "name": "stdout",
          "text": [
            "average training accuracy 0.367716\n",
            "average training loss 1.175176\n",
            "WARNING:tensorflow:5 out of the last 11 calls to <function Model.make_predict_function.<locals>.predict_function at 0x7f2be62925f0> triggered tf.function retracing. Tracing is expensive and the excessive number of tracings could be due to (1) creating @tf.function repeatedly in a loop, (2) passing tensors with different shapes, (3) passing Python objects instead of tensors. For (1), please define your @tf.function outside of the loop. For (2), @tf.function has experimental_relax_shapes=True option that relaxes argument shapes that can avoid unnecessary retracing. For (3), please refer to https://www.tensorflow.org/guide/function#controlling_retracing and https://www.tensorflow.org/api_docs/python/tf/function for  more details.\n",
            "34\n",
            "\n",
            "average validation accuracy 0.147059\n",
            "top 5 accuracy 0.65\n"
          ]
        }
      ]
    }
  ]
}