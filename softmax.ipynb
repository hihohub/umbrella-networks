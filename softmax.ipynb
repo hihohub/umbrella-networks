{
  "nbformat": 4,
  "nbformat_minor": 0,
  "metadata": {
    "colab": {
      "name": "softmax.ipynb",
      "provenance": [],
      "collapsed_sections": [],
      "authorship_tag": "ABX9TyPgORU4vRMtcP6a1LbrI4E1",
      "include_colab_link": true
    },
    "kernelspec": {
      "display_name": "Python 3",
      "name": "python3"
    },
    "accelerator": "GPU"
  },
  "cells": [
    {
      "cell_type": "markdown",
      "metadata": {
        "id": "view-in-github",
        "colab_type": "text"
      },
      "source": [
        "<a href=\"https://colab.research.google.com/github/hihohub/umbrella-networks/blob/main/softmax.ipynb\" target=\"_parent\"><img src=\"https://colab.research.google.com/assets/colab-badge.svg\" alt=\"Open In Colab\"/></a>"
      ]
    },
    {
      "cell_type": "markdown",
      "metadata": {
        "id": "c_XIVILg3qDA"
      },
      "source": [
        "- Umbrella networks\n",
        "- copyright 2021 by James Smith\n",
        "- contact - derekjsmit@gmail.com"
      ]
    },
    {
      "cell_type": "markdown",
      "source": [
        "Demonstration instructions\n",
        "- How to organize a 'softmax' umbrella network with models that predict multiple classes.\n",
        "- Organize your image files into folders by category. For example, (book covers) -> (scifi), (fantasy), (mystery).\n",
        "- First, run the large cell containing the umbrella code, then scroll down 1333 lines to the experiment.\n",
        "- Change the folder name in the demonstration code to your folder path.\n",
        "- The rest of the code should work as written.\n",
        "- Set 'levels' to anywhere from 1 to the number of layers in your folder structure. If levels=1, images from lower level folders are compressed into the outer level folders. If levels > 1, umbrella networks are formed recursively, one for each outer folder and each subfolder within the outer folders, up to the specified number of levels. The inner folders do not each require the same number of levels, but must have at least as many levels as the value specified for 'levels'."
      ],
      "metadata": {
        "id": "VMGFoeIp45yV"
      }
    },
    {
      "cell_type": "markdown",
      "metadata": {
        "id": "9de5nqYI6ZPu"
      },
      "source": [
        "Umbrella network instructions<br/>\n",
        "- The umbrella code was designed for reading a local folder and automatically constructing the hierarchical network from the implicit hierarchy in the subfolders.\n",
        "- If have images in folders, initialize with images_folder = path. Umbrella network constructs tree by itself. Refer to examples.\n",
        "- However, it also has functions for reading the data from an online repository and building the tree node by node (since the data has no folder structure).\n",
        "- If loading data from repository, initialize with images_folder = None, then use repo functions. Must first preprocess the data (normalize, reshape). Only process x data, not labels. Umbrella network constructs labels by itself. However, subdivide classes by label, then manually construct tree with repo functions. Finally, init_from_repo(). Refer to examples.\n",
        "- In repo mode, umbrella network throws away labels and makes its own. For example, if divide MNIST into odd and even numbers, each subset will have labels 0-4. Hence, anything other than flat topology requires that the umbrella network form new labels.\n",
        "\n",
        "\n",
        "\n",
        "\n"
      ]
    },
    {
      "cell_type": "code",
      "metadata": {
        "colab": {
          "base_uri": "https://localhost:8080/"
        },
        "id": "rDvh7kWFVup9",
        "outputId": "aff51332-fc09-4f76-b4d5-dd6366b809ba"
      },
      "source": [
        "from google.colab import drive\n",
        "drive.mount('/content/drive')\n"
      ],
      "execution_count": 1,
      "outputs": [
        {
          "output_type": "stream",
          "name": "stdout",
          "text": [
            "Mounted at /content/drive\n"
          ]
        }
      ]
    },
    {
      "cell_type": "markdown",
      "metadata": {
        "id": "vB6R2fVSYvyx"
      },
      "source": [
        "%%%%%%%%%%%%%%%%%%<br/>\n",
        "UMBRELLA NETWORK<br/>\n",
        "%%%%%%%%%%%%%%%%%%<br/>"
      ]
    },
    {
      "cell_type": "code",
      "source": [
        "! wget https://raw.githubusercontent.com/hihohub/umbrella-networks/main/umbrella.py"
      ],
      "metadata": {
        "colab": {
          "base_uri": "https://localhost:8080/"
        },
        "id": "hGDve97aaf5o",
        "outputId": "64d3a959-9868-44a8-86ec-9e4459459cf1"
      },
      "execution_count": 2,
      "outputs": [
        {
          "output_type": "stream",
          "name": "stdout",
          "text": [
            "--2022-04-15 04:55:46--  https://raw.githubusercontent.com/hihohub/umbrella-networks/main/umbrella.py\n",
            "Resolving raw.githubusercontent.com (raw.githubusercontent.com)... 185.199.109.133, 185.199.111.133, 185.199.110.133, ...\n",
            "Connecting to raw.githubusercontent.com (raw.githubusercontent.com)|185.199.109.133|:443... connected.\n",
            "HTTP request sent, awaiting response... 200 OK\n",
            "Length: 48219 (47K) [text/plain]\n",
            "Saving to: ‘umbrella.py’\n",
            "\n",
            "umbrella.py         100%[===================>]  47.09K  --.-KB/s    in 0.001s  \n",
            "\n",
            "2022-04-15 04:55:46 (73.9 MB/s) - ‘umbrella.py’ saved [48219/48219]\n",
            "\n"
          ]
        }
      ]
    },
    {
      "cell_type": "code",
      "source": [
        "from umbrella import Umbrella_Network,Umbrella_Label,Umbrella_Node,Joint_Probability_Network"
      ],
      "metadata": {
        "id": "PCkYzF4gbKqP"
      },
      "execution_count": 3,
      "outputs": []
    },
    {
      "cell_type": "code",
      "source": [
        "import os\n",
        "import sys\n",
        "import numpy as np\n",
        "import math\n",
        "import random\n",
        "from PIL import Image, ImageOps, ImageChops\n",
        "import cv2\n",
        "import tensorflow as tf\n",
        "from tensorflow.keras.preprocessing import image\n",
        "from tensorflow.keras.models import Sequential, Model, load_model\n",
        "from tensorflow.keras.layers import Input, Conv2D, MaxPool2D, Flatten, Dense, add, BatchNormalization, Dropout, AveragePooling2D, GlobalAveragePooling2D, SeparableConv2D\n",
        "from tensorflow.keras.utils import to_categorical\n",
        "from tensorflow.python.framework.ops import disable_eager_execution\n",
        "from tensorflow.keras import backend as backend\n",
        "from keras.callbacks import ReduceLROnPlateau\n",
        "from sklearn.utils import shuffle\n",
        "import matplotlib.pyplot as plt\n",
        "import pickle\n",
        "import copy\n",
        "import time"
      ],
      "metadata": {
        "id": "NKZG7Q4MbvQd"
      },
      "execution_count": 4,
      "outputs": []
    },
    {
      "cell_type": "markdown",
      "source": [
        "- ##################\n",
        "- Demonstrate all types of softmax architectures available\n",
        "1. a separate folder may be made for every single class, then all of the folders may be placed together within the root folder\n",
        "2. the folders may be clustered, with each clustered group of folders placed into an outer folder, with the umbrella network predicting only which cluster each image belongs to\n",
        "3. same as above, but the umbrella network predicts first the cluster, then the specific class within the predicted subcluster\n",
        "4. same as above, but the folders are clustered into a large number of outer level folders, then the outer level folders are also clustered into the top level folders, with the umbrella network predicting just the outer level cluster\n",
        "5. (not shown) the last example could be repeated with an umbrella network that predicts every level of the folder structure\n",
        "- ##################"
      ],
      "metadata": {
        "id": "9Gg9BM7j6OFD"
      }
    },
    {
      "cell_type": "markdown",
      "source": [
        "SOFTMAX ON SMALL MULTI-LAYER STRUCTURE COMPRESSED INTO TOP LEVEL FOLDERS\n",
        "- the root folder contains 3 inner folders, each of which contains several inner folders\n",
        "- layers is set to 0, so the program makes a single softmax model from the last level folders"
      ],
      "metadata": {
        "id": "Crv3EjsfXWW5"
      }
    },
    {
      "cell_type": "code",
      "metadata": {
        "id": "5pDX_vxhUt2y"
      },
      "source": [
        "# the small_hierarchy folder has a just 3 outer folders, each with some inner folders\n",
        "network_type = 'softmax'\n",
        "images_folder = \"/content/drive/My Drive/5390/project/small_hierarchy\"\n",
        "serial_file = \"/content/drive/My Drive/Colab Notebooks/small_hierarchy.dat\"\n",
        "models_folder = \"/content/drive/My Drive/Colab Notebooks/models\"\n",
        "target_image_size = 150\n",
        "levels = 0\n",
        "channels = 3\n",
        "valid_ratio = 0.2 # validation set\n",
        "test_ratio = 0.0 # test set\n",
        "initialize_now = True\n",
        "SOFTMAX = Umbrella_Network(network_type,images_folder,serial_file,models_folder,target_image_size,channels,levels,valid_ratio,test_ratio,initialize_now)\n"
      ],
      "execution_count": 5,
      "outputs": []
    },
    {
      "cell_type": "code",
      "source": [
        "SOFTMAX.traverse_training_data()"
      ],
      "metadata": {
        "colab": {
          "base_uri": "https://localhost:8080/"
        },
        "id": "fzqGd-17UtoO",
        "outputId": "26e55578-cc03-40eb-9a0e-5be8008e0d4a"
      },
      "execution_count": 6,
      "outputs": [
        {
          "output_type": "stream",
          "name": "stdout",
          "text": [
            "small_hierarchy trainX 137 (137,) trainY 137 (137, 10)\n",
            "   alligator trainX 0 (0,) trainY 0 (0,)\n",
            "   mammals trainX 0 (0,) trainY 0 (0,)\n",
            "   salamanders trainX 0 (0,) trainY 0 (0,)\n",
            "   snake trainX 0 (0,) trainY 0 (0,)\n",
            "   automobiles trainX 0 (0,) trainY 0 (0,)\n",
            "   bicycles trainX 0 (0,) trainY 0 (0,)\n",
            "   boats trainX 0 (0,) trainY 0 (0,)\n",
            "   cactus trainX 0 (0,) trainY 0 (0,)\n",
            "   hedges trainX 0 (0,) trainY 0 (0,)\n",
            "   shrubs trainX 0 (0,) trainY 0 (0,)\n"
          ]
        }
      ]
    },
    {
      "cell_type": "code",
      "source": [
        "SOFTMAX.make_models()"
      ],
      "metadata": {
        "colab": {
          "base_uri": "https://localhost:8080/"
        },
        "id": "WVZjj-3HVRAQ",
        "outputId": "731046fd-da95-485a-ebc1-8a9cab605114"
      },
      "execution_count": 7,
      "outputs": [
        {
          "output_type": "stream",
          "name": "stdout",
          "text": [
            "making model for small_hierarchy\n"
          ]
        }
      ]
    },
    {
      "cell_type": "code",
      "metadata": {
        "colab": {
          "base_uri": "https://localhost:8080/"
        },
        "outputId": "bb5acd9d-3e9a-40f6-b848-73d64dc6809c",
        "id": "tB38nLcoVSzo"
      },
      "source": [
        "SOFTMAX.train_models(eps=1,batch=10,aug=False,vrb=True)"
      ],
      "execution_count": 8,
      "outputs": [
        {
          "output_type": "stream",
          "name": "stdout",
          "text": [
            "training model for small_hierarchy\n",
            "trainX 137\n",
            "trainY 137\n",
            "14/14 [==============================] - 10s 18ms/step - loss: 2.9166 - accuracy: 0.1095\n"
          ]
        }
      ]
    },
    {
      "cell_type": "code",
      "metadata": {
        "colab": {
          "base_uri": "https://localhost:8080/"
        },
        "outputId": "fe259e5a-6e77-42cc-e523-416f7fa84af1",
        "id": "7tb-i-tHVV3g"
      },
      "source": [
        "SOFTMAX.get_training_accuracy()\n",
        "SOFTMAX.predict_validation_set() # set verbose=True to view all the images\n",
        "SOFTMAX.predict_validation_top5()"
      ],
      "execution_count": 9,
      "outputs": [
        {
          "output_type": "stream",
          "name": "stdout",
          "text": [
            "average training accuracy 0.109489\n",
            "average training loss 2.916621\n",
            "34\n",
            "\n",
            "average validation accuracy 0.058824\n",
            "top 5 accuracy 0.65\n"
          ]
        }
      ]
    },
    {
      "cell_type": "markdown",
      "source": [
        "SOFTMAX UMBRELLA ON SMALL MULTI-LAYER STRUCTURE WITHOUT COMPRESSION OF LOWER LAYERS\n",
        "- the root folder contains 3 inner folders, each of which contains several inner folders, which makes a total of 2 layers\n",
        "- layers is set to 2, so the program makes 1 outer softmax model and 3 inner softmax models, one for each outer model"
      ],
      "metadata": {
        "id": "OHQFSYkNXTzK"
      }
    },
    {
      "cell_type": "code",
      "metadata": {
        "id": "mITByaczVqC-"
      },
      "source": [
        "# the small_hierarchy folder has a just 3 outer folders, each with some inner folders\n",
        "network_type = 'softmax'\n",
        "images_folder = \"/content/drive/My Drive/5390/project/small_hierarchy\"\n",
        "serial_file = \"/content/drive/My Drive/Colab Notebooks/small_hierarchy.dat\"\n",
        "models_folder = \"/content/drive/My Drive/Colab Notebooks/models\"\n",
        "target_image_size = 150\n",
        "channels = 3\n",
        "levels = 2\n",
        "valid_ratio = 0.2 # validation set\n",
        "test_ratio = 0.0 # test set\n",
        "initialize_now = True\n",
        "SOFTMAX = Umbrella_Network(network_type,images_folder,serial_file,models_folder,target_image_size,channels,levels,valid_ratio,test_ratio,initialize_now)\n"
      ],
      "execution_count": 10,
      "outputs": []
    },
    {
      "cell_type": "code",
      "source": [
        "SOFTMAX.traverse_training_data()"
      ],
      "metadata": {
        "colab": {
          "base_uri": "https://localhost:8080/"
        },
        "id": "RLkgA0VUVSj5",
        "outputId": "6237df06-6acc-40fc-a700-81f8edd7010c"
      },
      "execution_count": 11,
      "outputs": [
        {
          "output_type": "stream",
          "name": "stdout",
          "text": [
            "small_hierarchy trainX 137 (137,) trainY 137 (137, 3)\n",
            "   animals trainX 35 (35,) trainY 35 (35, 4)\n",
            "      alligator trainX 0 (0,) trainY 0 (0,)\n",
            "      mammals trainX 0 (0,) trainY 0 (0,)\n",
            "      salamanders trainX 0 (0,) trainY 0 (0,)\n",
            "      snake trainX 0 (0,) trainY 0 (0,)\n",
            "   objects trainX 51 (51,) trainY 51 (51, 3)\n",
            "      automobiles trainX 0 (0,) trainY 0 (0,)\n",
            "      bicycles trainX 0 (0,) trainY 0 (0,)\n",
            "      boats trainX 0 (0,) trainY 0 (0,)\n",
            "   plants trainX 51 (51,) trainY 51 (51, 3)\n",
            "      cactus trainX 0 (0,) trainY 0 (0,)\n",
            "      hedges trainX 0 (0,) trainY 0 (0,)\n",
            "      shrubs trainX 0 (0,) trainY 0 (0,)\n"
          ]
        }
      ]
    },
    {
      "cell_type": "code",
      "source": [
        "SOFTMAX.make_models()"
      ],
      "metadata": {
        "colab": {
          "base_uri": "https://localhost:8080/"
        },
        "id": "R1q3TOWKV7vS",
        "outputId": "5ce42504-0889-4f17-b51d-d020fc6a8fb3"
      },
      "execution_count": 12,
      "outputs": [
        {
          "output_type": "stream",
          "name": "stdout",
          "text": [
            "making model for small_hierarchy\n",
            "making model for animals\n",
            "making model for objects\n",
            "making model for plants\n"
          ]
        }
      ]
    },
    {
      "cell_type": "code",
      "metadata": {
        "colab": {
          "base_uri": "https://localhost:8080/"
        },
        "outputId": "c146de1d-80f8-4796-fe2a-5bff730d6ee3",
        "id": "hYrzsrVAWB-B"
      },
      "source": [
        "SOFTMAX.train_models(eps=1,batch=10,aug=False,vrb=True)"
      ],
      "execution_count": 13,
      "outputs": [
        {
          "output_type": "stream",
          "name": "stdout",
          "text": [
            "training model for small_hierarchy\n",
            "trainX 137\n",
            "trainY 137\n",
            "14/14 [==============================] - 0s 11ms/step - loss: 1.1588 - accuracy: 0.3650\n",
            "training model for animals\n",
            "trainX 35\n",
            "trainY 35\n",
            "4/4 [==============================] - 0s 46ms/step - loss: 3.3378 - accuracy: 0.2000\n",
            "training model for objects\n",
            "trainX 51\n",
            "trainY 51\n",
            "6/6 [==============================] - 1s 35ms/step - loss: 3.3078 - accuracy: 0.2353\n",
            "training model for plants\n",
            "trainX 51\n",
            "trainY 51\n",
            "6/6 [==============================] - 0s 10ms/step - loss: 1.6077 - accuracy: 0.3529\n"
          ]
        }
      ]
    },
    {
      "cell_type": "code",
      "metadata": {
        "colab": {
          "base_uri": "https://localhost:8080/"
        },
        "outputId": "e30a60b8-c14e-4f1e-81bb-7936ec018252",
        "id": "wCTxZzXJWGPl"
      },
      "source": [
        "SOFTMAX.get_training_accuracy()\n",
        "SOFTMAX.predict_validation_set() # set verbose=True to view all the images\n",
        "SOFTMAX.predict_validation_top5()"
      ],
      "execution_count": 14,
      "outputs": [
        {
          "output_type": "stream",
          "name": "stdout",
          "text": [
            "average training accuracy 0.288300\n",
            "average training loss 2.353020\n",
            "WARNING:tensorflow:5 out of the last 11 calls to <function Model.make_predict_function.<locals>.predict_function at 0x7f6580054050> triggered tf.function retracing. Tracing is expensive and the excessive number of tracings could be due to (1) creating @tf.function repeatedly in a loop, (2) passing tensors with different shapes, (3) passing Python objects instead of tensors. For (1), please define your @tf.function outside of the loop. For (2), @tf.function has experimental_relax_shapes=True option that relaxes argument shapes that can avoid unnecessary retracing. For (3), please refer to https://www.tensorflow.org/guide/function#controlling_retracing and https://www.tensorflow.org/api_docs/python/tf/function for  more details.\n",
            "34\n",
            "\n",
            "average validation accuracy 0.029412\n",
            "top 5 accuracy 0.62\n"
          ]
        }
      ]
    }
  ]
}