{
  "nbformat": 4,
  "nbformat_minor": 0,
  "metadata": {
    "colab": {
      "name": "joint_probability_network.ipynb",
      "provenance": [],
      "collapsed_sections": [],
      "authorship_tag": "ABX9TyO6pUzS0xJvosFOJ+Hy7C0X",
      "include_colab_link": true
    },
    "kernelspec": {
      "name": "python3",
      "display_name": "Python 3"
    },
    "language_info": {
      "name": "python"
    },
    "accelerator": "GPU"
  },
  "cells": [
    {
      "cell_type": "markdown",
      "metadata": {
        "id": "view-in-github",
        "colab_type": "text"
      },
      "source": [
        "<a href=\"https://colab.research.google.com/github/hihohub/umbrella-networks/blob/main/joint_probability_network.ipynb\" target=\"_parent\"><img src=\"https://colab.research.google.com/assets/colab-badge.svg\" alt=\"Open In Colab\"/></a>"
      ]
    },
    {
      "cell_type": "markdown",
      "source": [
        "JOINT PROBABILITY NETWORK\n",
        "- using just one folder structure (hierarchical for an umbrella network), the program also makes a general softmax model (levels = 0) from the bottom level folders, then combines the predictions of the general model with the predictions of the top level umbrella model\n",
        "- their predictions are combined with joint probability multiplication"
      ],
      "metadata": {
        "id": "6byVtOsXVqQ8"
      }
    },
    {
      "cell_type": "code",
      "execution_count": 1,
      "metadata": {
        "colab": {
          "base_uri": "https://localhost:8080/"
        },
        "id": "ONDnQ-hJUJlF",
        "outputId": "83642cda-f3df-4e47-c8ad-4b34ca26fccc"
      },
      "outputs": [
        {
          "output_type": "stream",
          "name": "stdout",
          "text": [
            "Mounted at /content/drive\n"
          ]
        }
      ],
      "source": [
        "from google.colab import drive\n",
        "drive.mount(\"/content/drive\")"
      ]
    },
    {
      "cell_type": "code",
      "source": [
        "! wget https://raw.githubusercontent.com/hihohub/umbrella-networks/main/umbrella.py"
      ],
      "metadata": {
        "colab": {
          "base_uri": "https://localhost:8080/"
        },
        "id": "hGDve97aaf5o",
        "outputId": "d96c303f-76e0-40da-adcc-b1835cdbbc35"
      },
      "execution_count": 2,
      "outputs": [
        {
          "output_type": "stream",
          "name": "stdout",
          "text": [
            "--2022-04-16 04:54:40--  https://raw.githubusercontent.com/hihohub/umbrella-networks/main/umbrella.py\n",
            "Resolving raw.githubusercontent.com (raw.githubusercontent.com)... 185.199.108.133, 185.199.109.133, 185.199.110.133, ...\n",
            "Connecting to raw.githubusercontent.com (raw.githubusercontent.com)|185.199.108.133|:443... connected.\n",
            "HTTP request sent, awaiting response... 200 OK\n",
            "Length: 48326 (47K) [text/plain]\n",
            "Saving to: ‘umbrella.py’\n",
            "\n",
            "\rumbrella.py           0%[                    ]       0  --.-KB/s               \rumbrella.py         100%[===================>]  47.19K  --.-KB/s    in 0.01s   \n",
            "\n",
            "2022-04-16 04:54:40 (4.75 MB/s) - ‘umbrella.py’ saved [48326/48326]\n",
            "\n"
          ]
        }
      ]
    },
    {
      "cell_type": "code",
      "source": [
        "from umbrella import Umbrella_Network,Umbrella_Label,Umbrella_Node,Joint_Probability_Network"
      ],
      "metadata": {
        "id": "PCkYzF4gbKqP"
      },
      "execution_count": 3,
      "outputs": []
    },
    {
      "cell_type": "code",
      "source": [
        "import os\n",
        "import sys\n",
        "import numpy as np\n",
        "import math\n",
        "import random\n",
        "from PIL import Image, ImageOps, ImageChops\n",
        "import cv2\n",
        "import tensorflow as tf\n",
        "from tensorflow.keras.preprocessing import image\n",
        "from tensorflow.keras.models import Sequential, Model, load_model\n",
        "from tensorflow.keras.layers import Input, Conv2D, MaxPool2D, Flatten, Dense, add, BatchNormalization, Dropout, AveragePooling2D, GlobalAveragePooling2D, SeparableConv2D\n",
        "from tensorflow.keras.utils import to_categorical\n",
        "from tensorflow.python.framework.ops import disable_eager_execution\n",
        "from tensorflow.keras import backend as backend\n",
        "from keras.callbacks import ReduceLROnPlateau\n",
        "from sklearn.utils import shuffle\n",
        "import matplotlib.pyplot as plt\n",
        "import pickle\n",
        "import copy\n",
        "import time"
      ],
      "metadata": {
        "id": "NKZG7Q4MbvQd"
      },
      "execution_count": 4,
      "outputs": []
    },
    {
      "cell_type": "code",
      "metadata": {
        "id": "vv4sXH7qbbSb"
      },
      "source": [
        "images_folder = \"/content/drive/My Drive/5390/project/small_hierarchy\"\n",
        "serial_file = \"/content/drive/My Drive/Colab Notebooks/small_hierarchy.dat\"\n",
        "models_folder = \"/content/drive/My Drive/Colab Notebooks/models\"\n",
        "target_image_size = 30\n",
        "channels = 3\n",
        "valid_ratio = 0.1 # validation set\n",
        "test_ratio = 0.0 # test set\n",
        "Model = Joint_Probability_Network(images_folder,serial_file,models_folder,target_image_size,channels,valid_ratio,test_ratio)"
      ],
      "execution_count": 5,
      "outputs": []
    },
    {
      "cell_type": "code",
      "source": [
        "Model.traverse_training_data()"
      ],
      "metadata": {
        "id": "2JM4xY-9tbwm",
        "colab": {
          "base_uri": "https://localhost:8080/"
        },
        "outputId": "d968b590-dcf8-4327-edbd-8fd678be0352"
      },
      "execution_count": 6,
      "outputs": [
        {
          "output_type": "stream",
          "name": "stdout",
          "text": [
            "specialist\n",
            "small_hierarchy trainX 154 (154,) trainY 154 (154, 3)\n",
            "   animals trainX 0 (0,) trainY 0 (0,)\n",
            "      alligator trainX 0 (0,) trainY 0 (0,)\n",
            "      mammals trainX 0 (0,) trainY 0 (0,)\n",
            "      salamanders trainX 0 (0,) trainY 0 (0,)\n",
            "      snake trainX 0 (0,) trainY 0 (0,)\n",
            "   objects trainX 0 (0,) trainY 0 (0,)\n",
            "      automobiles trainX 0 (0,) trainY 0 (0,)\n",
            "      bicycles trainX 0 (0,) trainY 0 (0,)\n",
            "      boats trainX 0 (0,) trainY 0 (0,)\n",
            "   plants trainX 0 (0,) trainY 0 (0,)\n",
            "      cactus trainX 0 (0,) trainY 0 (0,)\n",
            "      hedges trainX 0 (0,) trainY 0 (0,)\n",
            "      shrubs trainX 0 (0,) trainY 0 (0,)\n",
            "generalist\n",
            "small_hierarchy trainX 154 (154,) trainY 154 (154, 10)\n",
            "   alligator trainX 0 (0,) trainY 0 (0,)\n",
            "   mammals trainX 0 (0,) trainY 0 (0,)\n",
            "   salamanders trainX 0 (0,) trainY 0 (0,)\n",
            "   snake trainX 0 (0,) trainY 0 (0,)\n",
            "   automobiles trainX 0 (0,) trainY 0 (0,)\n",
            "   bicycles trainX 0 (0,) trainY 0 (0,)\n",
            "   boats trainX 0 (0,) trainY 0 (0,)\n",
            "   cactus trainX 0 (0,) trainY 0 (0,)\n",
            "   hedges trainX 0 (0,) trainY 0 (0,)\n",
            "   shrubs trainX 0 (0,) trainY 0 (0,)\n"
          ]
        }
      ]
    },
    {
      "cell_type": "code",
      "source": [
        "Model.make_models()"
      ],
      "metadata": {
        "id": "rZEyM1TUtfJV",
        "colab": {
          "base_uri": "https://localhost:8080/"
        },
        "outputId": "9023185d-1f01-451e-d959-48fe6547d3cc"
      },
      "execution_count": 7,
      "outputs": [
        {
          "output_type": "stream",
          "name": "stdout",
          "text": [
            "making models for specialist\n",
            "making model for small_hierarchy\n",
            "making modes for generalist\n",
            "making model for small_hierarchy\n"
          ]
        }
      ]
    },
    {
      "cell_type": "code",
      "source": [
        "Model.train_models(eps=10,batch=10,aug=False,vrb=True)"
      ],
      "metadata": {
        "id": "xZ10W-ZsthvZ",
        "colab": {
          "base_uri": "https://localhost:8080/"
        },
        "outputId": "017ef1fe-ac78-4d61-edfb-adea54379e96"
      },
      "execution_count": 12,
      "outputs": [
        {
          "output_type": "stream",
          "name": "stdout",
          "text": [
            "training specialist\n",
            "training model for small_hierarchy\n",
            "trainX 154\n",
            "trainY 154\n",
            "Epoch 1/10\n",
            "16/16 [==============================] - 0s 5ms/step - loss: 0.4695 - accuracy: 0.7922\n",
            "Epoch 2/10\n",
            "16/16 [==============================] - 0s 5ms/step - loss: 0.4208 - accuracy: 0.8636\n",
            "Epoch 3/10\n",
            "16/16 [==============================] - 0s 5ms/step - loss: 0.3828 - accuracy: 0.9026\n",
            "Epoch 4/10\n",
            "16/16 [==============================] - 0s 5ms/step - loss: 0.3720 - accuracy: 0.8701\n",
            "Epoch 5/10\n",
            "16/16 [==============================] - 0s 5ms/step - loss: 0.3789 - accuracy: 0.8831\n",
            "Epoch 6/10\n",
            "16/16 [==============================] - 0s 5ms/step - loss: 0.3070 - accuracy: 0.9286\n",
            "Epoch 7/10\n",
            "16/16 [==============================] - 0s 6ms/step - loss: 0.2884 - accuracy: 0.9091\n",
            "Epoch 8/10\n",
            "16/16 [==============================] - 0s 5ms/step - loss: 0.2371 - accuracy: 0.9286\n",
            "Epoch 9/10\n",
            "16/16 [==============================] - 0s 6ms/step - loss: 0.2198 - accuracy: 0.9545\n",
            "Epoch 10/10\n",
            "16/16 [==============================] - 0s 5ms/step - loss: 0.2189 - accuracy: 0.9481\n",
            "training generalist\n",
            "training model for small_hierarchy\n",
            "trainX 154\n",
            "trainY 154\n",
            "Epoch 1/10\n",
            "16/16 [==============================] - 0s 6ms/step - loss: 1.8077 - accuracy: 0.4286\n",
            "Epoch 2/10\n",
            "16/16 [==============================] - 0s 5ms/step - loss: 1.7615 - accuracy: 0.3247\n",
            "Epoch 3/10\n",
            "16/16 [==============================] - 0s 5ms/step - loss: 1.7610 - accuracy: 0.3766\n",
            "Epoch 4/10\n",
            "16/16 [==============================] - 0s 5ms/step - loss: 1.7004 - accuracy: 0.4416\n",
            "Epoch 5/10\n",
            "16/16 [==============================] - 0s 5ms/step - loss: 1.6048 - accuracy: 0.4351\n",
            "Epoch 6/10\n",
            "16/16 [==============================] - 0s 5ms/step - loss: 1.6067 - accuracy: 0.4675\n",
            "Epoch 7/10\n",
            "16/16 [==============================] - 0s 5ms/step - loss: 1.5302 - accuracy: 0.4286\n",
            "Epoch 8/10\n",
            "16/16 [==============================] - 0s 5ms/step - loss: 1.5140 - accuracy: 0.4675\n",
            "Epoch 9/10\n",
            "16/16 [==============================] - 0s 5ms/step - loss: 1.4734 - accuracy: 0.4675\n",
            "Epoch 10/10\n",
            "16/16 [==============================] - 0s 5ms/step - loss: 1.4420 - accuracy: 0.4610\n"
          ]
        }
      ]
    },
    {
      "cell_type": "code",
      "source": [
        "Model.predict_validation_set(verbose=False)"
      ],
      "metadata": {
        "id": "BS-5H4AAtmXv",
        "colab": {
          "base_uri": "https://localhost:8080/"
        },
        "outputId": "78c6da89-8de4-47f5-82ad-98cd5a7c6eb0"
      },
      "execution_count": 13,
      "outputs": [
        {
          "output_type": "stream",
          "name": "stdout",
          "text": [
            "validation accuracy\n",
            "specialist\n",
            "accuracy 0.647\n",
            "generalist\n",
            "accuracy 0.353\n",
            "Joint probability\n",
            "accuracy 0.353\n"
          ]
        }
      ]
    }
  ]
}